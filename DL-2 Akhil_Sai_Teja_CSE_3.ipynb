{
 "cells": [
  {
   "cell_type": "markdown",
   "id": "fb017c00",
   "metadata": {},
   "source": [
    "# Purma AKhil Sai Teja \n",
    "# 210C2030168"
   ]
  },
  {
   "cell_type": "markdown",
   "id": "08694512",
   "metadata": {},
   "source": [
    "#  DL Lab-2 "
   ]
  },
  {
   "cell_type": "markdown",
   "id": "ed5c9b6e",
   "metadata": {},
   "source": [
    "## Problem Statement\n",
    "- The increasing prevalence of cyberbullying on social media platforms has become a significant concern, impacting the well-being of individuals and communities. In order to address this issue, it is essential to develop an automated system capable of identifying and classifying instances of cyberbullying\n",
    "\n",
    "## Output\n",
    "- Predicting type of cyberbullying  as either not_cyberbullying or , 'gender', 'religion', 'other_cyberbullying','age', 'ethnicity'"
   ]
  },
  {
   "cell_type": "markdown",
   "id": "bc4b8df2",
   "metadata": {},
   "source": [
    "## About Dataset\n",
    "As social media usage becomes increasingly prevalent in every age group, a vast majority of citizens rely on this essential medium for day-to-day communication. Social media’s ubiquity means that cyberbullying can effectively impact anyone at any time or anywhere, and the relative anonymity\n",
    "of the internet makes such personal attacks more difficult to stop than traditional bullying.\n",
    "\n",
    "On April 15th, 2020, UNICEF issued a warning in response to the increased risk of cyberbullying during the COVID-19 pandemic due to widespread school closures, increased screen time, and decreased face-to-face social interaction. The statistics of cyberbullying are outright alarming: 36.5% of middle and high school students have felt cyberbullied and 87% have observed cyberbullying, with effects ranging from decreased academic performance to depression to suicidal thoughts.\n",
    "\n",
    "In light of all of this, this dataset contains more than 47000 tweets labelled according to the class of cyberbullying:\n",
    "\n",
    "Age;\n",
    "Ethnicity;\n",
    "Gender;\n",
    "Religion;\n",
    "Other type of cyberbullying;\n",
    "Not cyberbullying\n",
    "The data has been balanced in order to contain ~8000 of each class\n",
    "- https://www.kaggle.com/datasets/andrewmvd/cyberbullying-classification\n"
   ]
  },
  {
   "cell_type": "markdown",
   "id": "16d34cce",
   "metadata": {},
   "source": [
    "## Methodology\n",
    "\n",
    "### Obtaining Dataset\n",
    "\n",
    "### Data Preprocessing\n",
    "  - Special Characters removal\n",
    "  - Stemming and Lemitization\n",
    "  - Tokenization\n",
    "  - word 2 vec using Gensim library\n",
    "  \n",
    "### Creating embedding matrix\n",
    "\n",
    "### Finding words position in vocabulary and applying paddding\n",
    "\n",
    "### Encoding Cyberbullying_type \n",
    "\n",
    "### Splitting padded data and encoded data into training and testing\n",
    "\n",
    "### Model Building\n",
    "  - Vanilla rnn\n",
    "  - LSTM\n",
    "  - GRU\n",
    "  - Bidirectional LSTM\n",
    "  \n",
    "###  Model Comparison\n"
   ]
  },
  {
   "cell_type": "code",
   "execution_count": 422,
   "id": "6fcfe596",
   "metadata": {},
   "outputs": [],
   "source": [
    "import pandas as pd\n",
    "import re\n",
    "import nltk\n",
    "from nltk.corpus import stopwords\n",
    "from nltk.stem import PorterStemmer\n",
    "from sklearn.feature_extraction.text import CountVectorizer\n",
    "from sklearn.model_selection import train_test_split\n",
    "import numpy as np\n",
    "import seaborn as sns\n",
    "import matplotlib.pyplot as plt\n",
    "from collections import Counter\n",
    "from tensorflow.keras.models import Sequential\n",
    "from tensorflow.keras.layers import Embedding, SimpleRNN, Dense, Activation,LSTM,GRU,Flatten\n",
    "from tensorflow.keras.layers import Embedding, SpatialDropout1D, Bidirectional, LSTM, Conv1D, GlobalMaxPooling1D, Dense, Activation\n",
    "from tqdm.auto import tqdm\n",
    "import time\n",
    "from collections import Counter"
   ]
  },
  {
   "cell_type": "code",
   "execution_count": 424,
   "id": "0522122c",
   "metadata": {},
   "outputs": [
    {
     "data": {
      "text/html": [
       "<div>\n",
       "<style scoped>\n",
       "    .dataframe tbody tr th:only-of-type {\n",
       "        vertical-align: middle;\n",
       "    }\n",
       "\n",
       "    .dataframe tbody tr th {\n",
       "        vertical-align: top;\n",
       "    }\n",
       "\n",
       "    .dataframe thead th {\n",
       "        text-align: right;\n",
       "    }\n",
       "</style>\n",
       "<table border=\"1\" class=\"dataframe\">\n",
       "  <thead>\n",
       "    <tr style=\"text-align: right;\">\n",
       "      <th></th>\n",
       "      <th>tweet_text</th>\n",
       "      <th>cyberbullying_type</th>\n",
       "    </tr>\n",
       "  </thead>\n",
       "  <tbody>\n",
       "    <tr>\n",
       "      <th>0</th>\n",
       "      <td>In other words #katandandre, your food was cra...</td>\n",
       "      <td>not_cyberbullying</td>\n",
       "    </tr>\n",
       "    <tr>\n",
       "      <th>1</th>\n",
       "      <td>Why is #aussietv so white? #MKR #theblock #ImA...</td>\n",
       "      <td>not_cyberbullying</td>\n",
       "    </tr>\n",
       "    <tr>\n",
       "      <th>2</th>\n",
       "      <td>@XochitlSuckkks a classy whore? Or more red ve...</td>\n",
       "      <td>not_cyberbullying</td>\n",
       "    </tr>\n",
       "    <tr>\n",
       "      <th>3</th>\n",
       "      <td>@Jason_Gio meh. :P  thanks for the heads up, b...</td>\n",
       "      <td>not_cyberbullying</td>\n",
       "    </tr>\n",
       "    <tr>\n",
       "      <th>4</th>\n",
       "      <td>@RudhoeEnglish This is an ISIS account pretend...</td>\n",
       "      <td>not_cyberbullying</td>\n",
       "    </tr>\n",
       "    <tr>\n",
       "      <th>...</th>\n",
       "      <td>...</td>\n",
       "      <td>...</td>\n",
       "    </tr>\n",
       "    <tr>\n",
       "      <th>47687</th>\n",
       "      <td>Black ppl aren't expected to do anything, depe...</td>\n",
       "      <td>ethnicity</td>\n",
       "    </tr>\n",
       "    <tr>\n",
       "      <th>47688</th>\n",
       "      <td>Turner did not withhold his disappointment. Tu...</td>\n",
       "      <td>ethnicity</td>\n",
       "    </tr>\n",
       "    <tr>\n",
       "      <th>47689</th>\n",
       "      <td>I swear to God. This dumb nigger bitch. I have...</td>\n",
       "      <td>ethnicity</td>\n",
       "    </tr>\n",
       "    <tr>\n",
       "      <th>47690</th>\n",
       "      <td>Yea fuck you RT @therealexel: IF YOURE A NIGGE...</td>\n",
       "      <td>ethnicity</td>\n",
       "    </tr>\n",
       "    <tr>\n",
       "      <th>47691</th>\n",
       "      <td>Bro. U gotta chill RT @CHILLShrammy: Dog FUCK ...</td>\n",
       "      <td>ethnicity</td>\n",
       "    </tr>\n",
       "  </tbody>\n",
       "</table>\n",
       "<p>47692 rows × 2 columns</p>\n",
       "</div>"
      ],
      "text/plain": [
       "                                              tweet_text cyberbullying_type\n",
       "0      In other words #katandandre, your food was cra...  not_cyberbullying\n",
       "1      Why is #aussietv so white? #MKR #theblock #ImA...  not_cyberbullying\n",
       "2      @XochitlSuckkks a classy whore? Or more red ve...  not_cyberbullying\n",
       "3      @Jason_Gio meh. :P  thanks for the heads up, b...  not_cyberbullying\n",
       "4      @RudhoeEnglish This is an ISIS account pretend...  not_cyberbullying\n",
       "...                                                  ...                ...\n",
       "47687  Black ppl aren't expected to do anything, depe...          ethnicity\n",
       "47688  Turner did not withhold his disappointment. Tu...          ethnicity\n",
       "47689  I swear to God. This dumb nigger bitch. I have...          ethnicity\n",
       "47690  Yea fuck you RT @therealexel: IF YOURE A NIGGE...          ethnicity\n",
       "47691  Bro. U gotta chill RT @CHILLShrammy: Dog FUCK ...          ethnicity\n",
       "\n",
       "[47692 rows x 2 columns]"
      ]
     },
     "execution_count": 424,
     "metadata": {},
     "output_type": "execute_result"
    }
   ],
   "source": [
    "df=pd.read_csv(\"cyberbullying_tweets.csv\")\n",
    "df\n"
   ]
  },
  {
   "cell_type": "code",
   "execution_count": 425,
   "id": "a405abdd",
   "metadata": {},
   "outputs": [
    {
     "data": {
      "text/plain": [
       "array(['not_cyberbullying', 'gender', 'religion', 'other_cyberbullying',\n",
       "       'age', 'ethnicity'], dtype=object)"
      ]
     },
     "execution_count": 425,
     "metadata": {},
     "output_type": "execute_result"
    }
   ],
   "source": [
    "df['cyberbullying_type'].unique()"
   ]
  },
  {
   "cell_type": "code",
   "execution_count": 426,
   "id": "670143d7",
   "metadata": {},
   "outputs": [
    {
     "data": {
      "text/plain": [
       "(47692, 2)"
      ]
     },
     "execution_count": 426,
     "metadata": {},
     "output_type": "execute_result"
    }
   ],
   "source": [
    "df.shape"
   ]
  },
  {
   "cell_type": "markdown",
   "id": "cf98e4a9",
   "metadata": {},
   "source": [
    "## 1 Checking Null values"
   ]
  },
  {
   "cell_type": "code",
   "execution_count": 427,
   "id": "30b84970",
   "metadata": {},
   "outputs": [
    {
     "data": {
      "text/plain": [
       "tweet_text            0\n",
       "cyberbullying_type    0\n",
       "dtype: int64"
      ]
     },
     "execution_count": 427,
     "metadata": {},
     "output_type": "execute_result"
    }
   ],
   "source": [
    "df.isnull().sum()"
   ]
  },
  {
   "cell_type": "code",
   "execution_count": 428,
   "id": "8df1d8e1",
   "metadata": {},
   "outputs": [
    {
     "data": {
      "text/plain": [
       "(47692, 2)"
      ]
     },
     "execution_count": 428,
     "metadata": {},
     "output_type": "execute_result"
    }
   ],
   "source": [
    "df.shape"
   ]
  },
  {
   "cell_type": "code",
   "execution_count": 429,
   "id": "1e79e789",
   "metadata": {
    "scrolled": true
   },
   "outputs": [
    {
     "data": {
      "text/plain": [
       "religion               7998\n",
       "age                    7992\n",
       "gender                 7973\n",
       "ethnicity              7961\n",
       "not_cyberbullying      7945\n",
       "other_cyberbullying    7823\n",
       "Name: cyberbullying_type, dtype: int64"
      ]
     },
     "execution_count": 429,
     "metadata": {},
     "output_type": "execute_result"
    }
   ],
   "source": [
    "df['cyberbullying_type'].value_counts()"
   ]
  },
  {
   "cell_type": "code",
   "execution_count": 430,
   "id": "bfa17797",
   "metadata": {},
   "outputs": [
    {
     "data": {
      "text/plain": [
       "36"
      ]
     },
     "execution_count": 430,
     "metadata": {},
     "output_type": "execute_result"
    }
   ],
   "source": [
    "df.duplicated().sum()"
   ]
  },
  {
   "cell_type": "code",
   "execution_count": 431,
   "id": "4639175e",
   "metadata": {},
   "outputs": [
    {
     "data": {
      "text/html": [
       "<div>\n",
       "<style scoped>\n",
       "    .dataframe tbody tr th:only-of-type {\n",
       "        vertical-align: middle;\n",
       "    }\n",
       "\n",
       "    .dataframe tbody tr th {\n",
       "        vertical-align: top;\n",
       "    }\n",
       "\n",
       "    .dataframe thead th {\n",
       "        text-align: right;\n",
       "    }\n",
       "</style>\n",
       "<table border=\"1\" class=\"dataframe\">\n",
       "  <thead>\n",
       "    <tr style=\"text-align: right;\">\n",
       "      <th></th>\n",
       "      <th>tweet_text</th>\n",
       "      <th>cyberbullying_type</th>\n",
       "    </tr>\n",
       "  </thead>\n",
       "  <tbody>\n",
       "    <tr>\n",
       "      <th>1758</th>\n",
       "      <td>Our pancakes are selling like hotcakes Shaz - ...</td>\n",
       "      <td>not_cyberbullying</td>\n",
       "    </tr>\n",
       "    <tr>\n",
       "      <th>3833</th>\n",
       "      <td>But you all respect him....Pete hasn't read tw...</td>\n",
       "      <td>not_cyberbullying</td>\n",
       "    </tr>\n",
       "    <tr>\n",
       "      <th>3939</th>\n",
       "      <td>This is the opportunity to prove ourselves lik...</td>\n",
       "      <td>not_cyberbullying</td>\n",
       "    </tr>\n",
       "    <tr>\n",
       "      <th>5684</th>\n",
       "      <td>Strategicscoring should be classed as cheating...</td>\n",
       "      <td>not_cyberbullying</td>\n",
       "    </tr>\n",
       "    <tr>\n",
       "      <th>6975</th>\n",
       "      <td>If we're at the bottom of the leaderboard, we'...</td>\n",
       "      <td>not_cyberbullying</td>\n",
       "    </tr>\n",
       "    <tr>\n",
       "      <th>7227</th>\n",
       "      <td>It wouldn't be fair. Kat knows NOTHING of fair...</td>\n",
       "      <td>not_cyberbullying</td>\n",
       "    </tr>\n",
       "    <tr>\n",
       "      <th>7278</th>\n",
       "      <td>@TVWEEKmag: There is only 1 way to stay in the...</td>\n",
       "      <td>not_cyberbullying</td>\n",
       "    </tr>\n",
       "    <tr>\n",
       "      <th>7822</th>\n",
       "      <td>@Ima_TV_Junkie: What the hell were Annie and L...</td>\n",
       "      <td>not_cyberbullying</td>\n",
       "    </tr>\n",
       "    <tr>\n",
       "      <th>9672</th>\n",
       "      <td>@victorymonk: #sorryitsaboy joke means more bo...</td>\n",
       "      <td>gender</td>\n",
       "    </tr>\n",
       "    <tr>\n",
       "      <th>9835</th>\n",
       "      <td>@thisonesakillaa: In my opinion? All jokes are...</td>\n",
       "      <td>gender</td>\n",
       "    </tr>\n",
       "    <tr>\n",
       "      <th>11076</th>\n",
       "      <td>Simple things please simple minds. @pumpkinkin...</td>\n",
       "      <td>gender</td>\n",
       "    </tr>\n",
       "    <tr>\n",
       "      <th>12664</th>\n",
       "      <td>No offense. @NigelBigMeech I'm not sexist but ...</td>\n",
       "      <td>gender</td>\n",
       "    </tr>\n",
       "    <tr>\n",
       "      <th>12695</th>\n",
       "      <td>raped is not a synonym for \"touched\" @magconbo...</td>\n",
       "      <td>gender</td>\n",
       "    </tr>\n",
       "    <tr>\n",
       "      <th>12714</th>\n",
       "      <td>@Transic_nyc: What do u think her punishment s...</td>\n",
       "      <td>gender</td>\n",
       "    </tr>\n",
       "    <tr>\n",
       "      <th>12789</th>\n",
       "      <td>girls @Dehner07 In usually not sexist, but gir...</td>\n",
       "      <td>gender</td>\n",
       "    </tr>\n",
       "    <tr>\n",
       "      <th>12851</th>\n",
       "      <td>We've proven we're not just dumb blondes and p...</td>\n",
       "      <td>gender</td>\n",
       "    </tr>\n",
       "    <tr>\n",
       "      <th>13396</th>\n",
       "      <td>We proved that we're not just pretty faces. Oh...</td>\n",
       "      <td>gender</td>\n",
       "    </tr>\n",
       "    <tr>\n",
       "      <th>13830</th>\n",
       "      <td>@ErikssonMalin85: #QuestionsForMen ever walked...</td>\n",
       "      <td>gender</td>\n",
       "    </tr>\n",
       "    <tr>\n",
       "      <th>13839</th>\n",
       "      <td>We want everyone to know we are not just prett...</td>\n",
       "      <td>gender</td>\n",
       "    </tr>\n",
       "    <tr>\n",
       "      <th>13859</th>\n",
       "      <td>girl sports gives it away here @LM26_LYE_ERA I...</td>\n",
       "      <td>gender</td>\n",
       "    </tr>\n",
       "    <tr>\n",
       "      <th>14102</th>\n",
       "      <td>Females and \"guys.\" @AwkwardEP I'm not sexist ...</td>\n",
       "      <td>gender</td>\n",
       "    </tr>\n",
       "    <tr>\n",
       "      <th>14222</th>\n",
       "      <td>@nethercott_eden: Why is #WomenAgainstFeminism...</td>\n",
       "      <td>gender</td>\n",
       "    </tr>\n",
       "    <tr>\n",
       "      <th>14235</th>\n",
       "      <td>I'm not sexist, except when I am. @gentlemanby...</td>\n",
       "      <td>gender</td>\n",
       "    </tr>\n",
       "    <tr>\n",
       "      <th>14286</th>\n",
       "      <td>I'm not sexist, there are women everywhere! @d...</td>\n",
       "      <td>gender</td>\n",
       "    </tr>\n",
       "    <tr>\n",
       "      <th>14516</th>\n",
       "      <td>Women's bathrooms are so much worse than men's...</td>\n",
       "      <td>gender</td>\n",
       "    </tr>\n",
       "    <tr>\n",
       "      <th>14760</th>\n",
       "      <td>@ErikssonMalin85: Have u ever expressed ur ang...</td>\n",
       "      <td>gender</td>\n",
       "    </tr>\n",
       "    <tr>\n",
       "      <th>15018</th>\n",
       "      <td>Radical? lol no @David_i_think Call me sexist....</td>\n",
       "      <td>gender</td>\n",
       "    </tr>\n",
       "    <tr>\n",
       "      <th>15420</th>\n",
       "      <td>@MHWitchfinder: Please, if you disagree with H...</td>\n",
       "      <td>gender</td>\n",
       "    </tr>\n",
       "    <tr>\n",
       "      <th>15422</th>\n",
       "      <td>I'm not sexist, I just become instantly virule...</td>\n",
       "      <td>gender</td>\n",
       "    </tr>\n",
       "    <tr>\n",
       "      <th>15572</th>\n",
       "      <td>@botticellicream: I'm curvy. The kind men fap ...</td>\n",
       "      <td>gender</td>\n",
       "    </tr>\n",
       "    <tr>\n",
       "      <th>15839</th>\n",
       "      <td>We're not just the dumb blondes with the prett...</td>\n",
       "      <td>gender</td>\n",
       "    </tr>\n",
       "    <tr>\n",
       "      <th>15849</th>\n",
       "      <td>just don't = the sum total of your unconscious...</td>\n",
       "      <td>gender</td>\n",
       "    </tr>\n",
       "    <tr>\n",
       "      <th>15887</th>\n",
       "      <td>@fee_bee_63: Kat is a completely rank cow but ...</td>\n",
       "      <td>gender</td>\n",
       "    </tr>\n",
       "    <tr>\n",
       "      <th>20604</th>\n",
       "      <td>A Pakistani court has sentenced 86 members of ...</td>\n",
       "      <td>religion</td>\n",
       "    </tr>\n",
       "    <tr>\n",
       "      <th>46962</th>\n",
       "      <td>Still, Davis, who is gay, said he pays a socia...</td>\n",
       "      <td>ethnicity</td>\n",
       "    </tr>\n",
       "    <tr>\n",
       "      <th>47397</th>\n",
       "      <td>Racism won't stop as long as u stil select ur ...</td>\n",
       "      <td>ethnicity</td>\n",
       "    </tr>\n",
       "  </tbody>\n",
       "</table>\n",
       "</div>"
      ],
      "text/plain": [
       "                                              tweet_text cyberbullying_type\n",
       "1758   Our pancakes are selling like hotcakes Shaz - ...  not_cyberbullying\n",
       "3833   But you all respect him....Pete hasn't read tw...  not_cyberbullying\n",
       "3939   This is the opportunity to prove ourselves lik...  not_cyberbullying\n",
       "5684   Strategicscoring should be classed as cheating...  not_cyberbullying\n",
       "6975   If we're at the bottom of the leaderboard, we'...  not_cyberbullying\n",
       "7227   It wouldn't be fair. Kat knows NOTHING of fair...  not_cyberbullying\n",
       "7278   @TVWEEKmag: There is only 1 way to stay in the...  not_cyberbullying\n",
       "7822   @Ima_TV_Junkie: What the hell were Annie and L...  not_cyberbullying\n",
       "9672   @victorymonk: #sorryitsaboy joke means more bo...             gender\n",
       "9835   @thisonesakillaa: In my opinion? All jokes are...             gender\n",
       "11076  Simple things please simple minds. @pumpkinkin...             gender\n",
       "12664  No offense. @NigelBigMeech I'm not sexist but ...             gender\n",
       "12695  raped is not a synonym for \"touched\" @magconbo...             gender\n",
       "12714  @Transic_nyc: What do u think her punishment s...             gender\n",
       "12789  girls @Dehner07 In usually not sexist, but gir...             gender\n",
       "12851  We've proven we're not just dumb blondes and p...             gender\n",
       "13396  We proved that we're not just pretty faces. Oh...             gender\n",
       "13830  @ErikssonMalin85: #QuestionsForMen ever walked...             gender\n",
       "13839  We want everyone to know we are not just prett...             gender\n",
       "13859  girl sports gives it away here @LM26_LYE_ERA I...             gender\n",
       "14102  Females and \"guys.\" @AwkwardEP I'm not sexist ...             gender\n",
       "14222  @nethercott_eden: Why is #WomenAgainstFeminism...             gender\n",
       "14235  I'm not sexist, except when I am. @gentlemanby...             gender\n",
       "14286  I'm not sexist, there are women everywhere! @d...             gender\n",
       "14516  Women's bathrooms are so much worse than men's...             gender\n",
       "14760  @ErikssonMalin85: Have u ever expressed ur ang...             gender\n",
       "15018  Radical? lol no @David_i_think Call me sexist....             gender\n",
       "15420  @MHWitchfinder: Please, if you disagree with H...             gender\n",
       "15422  I'm not sexist, I just become instantly virule...             gender\n",
       "15572  @botticellicream: I'm curvy. The kind men fap ...             gender\n",
       "15839  We're not just the dumb blondes with the prett...             gender\n",
       "15849  just don't = the sum total of your unconscious...             gender\n",
       "15887  @fee_bee_63: Kat is a completely rank cow but ...             gender\n",
       "20604  A Pakistani court has sentenced 86 members of ...           religion\n",
       "46962  Still, Davis, who is gay, said he pays a socia...          ethnicity\n",
       "47397  Racism won't stop as long as u stil select ur ...          ethnicity"
      ]
     },
     "execution_count": 431,
     "metadata": {},
     "output_type": "execute_result"
    }
   ],
   "source": [
    "df[df.duplicated()]"
   ]
  },
  {
   "cell_type": "markdown",
   "id": "4a5adc6a",
   "metadata": {},
   "source": [
    "### EDA "
   ]
  },
  {
   "cell_type": "code",
   "execution_count": 432,
   "id": "18b0d696",
   "metadata": {},
   "outputs": [],
   "source": [
    "all_texts=' '.join(df['tweet_text'])\n",
    "all_texts=re.sub('[^a-zA-Z0-9?$%]',' ',all_texts)\n",
    "words=all_texts.split()\n",
    "stop_words = set(stopwords.words('english'))\n",
    "words = [word for word in words if not word in stop_words]\n"
   ]
  },
  {
   "cell_type": "code",
   "execution_count": 433,
   "id": "4a0a212b",
   "metadata": {},
   "outputs": [
    {
     "data": {
      "text/plain": [
       "[('I', 20951),\n",
       " ('school', 8287),\n",
       " ('like', 5500),\n",
       " ('high', 4866),\n",
       " ('dumb', 4565),\n",
       " ('bullied', 4561),\n",
       " ('people', 4480),\n",
       " ('RT', 4321),\n",
       " ('rape', 3853),\n",
       " ('nigger', 3796),\n",
       " ('gay', 3550),\n",
       " ('fuck', 3529),\n",
       " ('u', 3512),\n",
       " ('bully', 3394),\n",
       " ('http', 3307),\n",
       " ('jokes', 3255),\n",
       " ('co', 3251),\n",
       " ('one', 3065),\n",
       " ('You', 2976),\n",
       " ('amp', 2975),\n",
       " ('girls', 2681),\n",
       " ('The', 2656),\n",
       " ('ass', 2607),\n",
       " ('girl', 2603),\n",
       " ('get', 2548),\n",
       " ('know', 2271),\n",
       " ('black', 2204),\n",
       " ('It', 2120),\n",
       " ('would', 2059),\n",
       " ('think', 2046),\n",
       " ('white', 1858),\n",
       " ('Muslims', 1820),\n",
       " ('joke', 1820),\n",
       " ('Muslim', 1776),\n",
       " ('idiot', 1659),\n",
       " ('say', 1648),\n",
       " ('bitch', 1644),\n",
       " ('got', 1623),\n",
       " ('women', 1582),\n",
       " ('FUCK', 1579),\n",
       " ('make', 1537),\n",
       " ('call', 1512),\n",
       " ('called', 1475),\n",
       " ('bullies', 1474),\n",
       " ('right', 1471),\n",
       " ('even', 1465),\n",
       " ('And', 1441),\n",
       " ('go', 1411),\n",
       " ('see', 1407),\n",
       " ('A', 1395),\n",
       " ('Christian', 1387),\n",
       " ('woman', 1381),\n",
       " ('time', 1376),\n",
       " ('shit', 1362),\n",
       " ('want', 1355),\n",
       " ('never', 1354),\n",
       " ('fucking', 1350),\n",
       " ('MKR', 1334),\n",
       " ('still', 1329),\n",
       " ('This', 1327),\n",
       " ('ur', 1327),\n",
       " ('https', 1303),\n",
       " ('idiots', 1279),\n",
       " ('really', 1277),\n",
       " ('said', 1269),\n",
       " ('If', 1240),\n",
       " ('support', 1207),\n",
       " ('mkr', 1194),\n",
       " ('hate', 1184),\n",
       " ('Islam', 1156),\n",
       " ('first', 1151),\n",
       " ('man', 1140),\n",
       " ('But', 1138),\n",
       " ('anything', 1118),\n",
       " ('He', 1109),\n",
       " ('They', 1099),\n",
       " ('So', 1066),\n",
       " ('good', 1045),\n",
       " ('bullying', 1044),\n",
       " ('sexist', 1041),\n",
       " ('That', 1036),\n",
       " ('back', 1022),\n",
       " ('way', 1016),\n",
       " ('niggers', 1016),\n",
       " ('need', 1003),\n",
       " ('made', 988),\n",
       " ('going', 986),\n",
       " ('OBAMA', 986),\n",
       " ('tayyoung', 960),\n",
       " ('love', 958),\n",
       " ('We', 957),\n",
       " ('also', 956),\n",
       " ('men', 953),\n",
       " ('terrorism', 933),\n",
       " ('2', 931),\n",
       " ('us', 929),\n",
       " ('What', 927),\n",
       " ('bad', 910),\n",
       " ('racist', 904),\n",
       " ('someone', 899)]"
      ]
     },
     "execution_count": 433,
     "metadata": {},
     "output_type": "execute_result"
    }
   ],
   "source": [
    "word_counts = Counter(words)\n",
    "top_words = word_counts.most_common(100)\n",
    "top_words"
   ]
  },
  {
   "cell_type": "code",
   "execution_count": 434,
   "id": "0644ace9",
   "metadata": {},
   "outputs": [
    {
     "data": {
      "image/png": "[encoded data removed]",
      "text/plain": [
       "<Figure size 640x480 with 1 Axes>"
      ]
     },
     "metadata": {},
     "output_type": "display_data"
    }
   ],
   "source": [
    "# Create a bar chart of the most common words\n",
    "top_words = word_counts.most_common(10) # Change the number to show more/less words\n",
    "x_values = [word[0] for word in top_words]\n",
    "y_values = [word[1] for word in top_words]\n",
    "plt.bar(x_values, y_values)\n",
    "plt.xlabel('Word')\n",
    "plt.ylabel('Frequency')\n",
    "plt.title('Most Commonly Used Words')\n",
    "plt.show()"
   ]
  },
  {
   "cell_type": "code",
   "execution_count": 435,
   "id": "aad4a6f3",
   "metadata": {},
   "outputs": [
    {
     "data": {
      "image/png": "[encoded data removed]",
      "text/plain": [
       "<Figure size 640x480 with 1 Axes>"
      ]
     },
     "metadata": {},
     "output_type": "display_data"
    }
   ],
   "source": [
    "class_counts = df['cyberbullying_type'].value_counts()\n",
    "class_counts.plot(kind='bar')\n",
    "plt.title('Class Distribution of Cyberbullying Types')\n",
    "plt.xlabel('Labels')\n",
    "plt.ylabel('Number of Tweets')\n",
    "plt.show()"
   ]
  },
  {
   "cell_type": "markdown",
   "id": "e20b1dbd",
   "metadata": {},
   "source": [
    "## Data Preprocessing"
   ]
  },
  {
   "cell_type": "code",
   "execution_count": 436,
   "id": "b6c64c33",
   "metadata": {},
   "outputs": [
    {
     "name": "stderr",
     "output_type": "stream",
     "text": [
      "[nltk_data] Downloading package punkt to\n",
      "[nltk_data]     C:\\Users\\91701\\AppData\\Roaming\\nltk_data...\n",
      "[nltk_data]   Package punkt is already up-to-date!\n",
      "[nltk_data] Downloading package stopwords to\n",
      "[nltk_data]     C:\\Users\\91701\\AppData\\Roaming\\nltk_data...\n",
      "[nltk_data]   Package stopwords is already up-to-date!\n"
     ]
    }
   ],
   "source": [
    "import re\n",
    "import nltk\n",
    "from nltk.stem import PorterStemmer\n",
    "from nltk.corpus import stopwords\n",
    "\n",
    "nltk.download('punkt')\n",
    "nltk.download('stopwords')\n",
    "\n",
    "def clean_text(text):\n",
    "    # Remove HTML tags\n",
    "    text = re.sub('<.*?>', '', text)\n",
    "    \n",
    "    # Remove non-alphabetic characters and convert to lowercase\n",
    "    text = re.sub('[^a-zA-Z]', ' ', text).lower()\n",
    "    \n",
    "    # Remove URLs, mentions, and hashtags from the text\n",
    "    text = re.sub(r'http\\S+', '', text)\n",
    "    text = re.sub(r'@\\S+', '', text)\n",
    "    text = re.sub(r'#\\S+', '', text)\n",
    "    \n",
    "    # Tokenize the text\n",
    "    words = nltk.word_tokenize(text)\n",
    "    \n",
    "    # Remove stopwords\n",
    "    stop_words = set(stopwords.words('english'))\n",
    "    words = [w for w in words if w not in stop_words]\n",
    "    \n",
    "    # Stem the words\n",
    "    stemmer = PorterStemmer()\n",
    "    words = [stemmer.stem(w) for w in words]\n",
    "    \n",
    "    return words\n"
   ]
  },
  {
   "cell_type": "code",
   "execution_count": 437,
   "id": "ddfa97bf",
   "metadata": {},
   "outputs": [
    {
     "data": {
      "application/vnd.jupyter.widget-view+json": {
       "model_id": "ec8314c1200c4176a53975b685bca935",
       "version_major": 2,
       "version_minor": 0
      },
      "text/plain": [
       "  0%|          | 0/47692 [00:00<?, ?it/s]"
      ]
     },
     "metadata": {},
     "output_type": "display_data"
    },
    {
     "name": "stdout",
     "output_type": "stream",
     "text": [
      "                                          tweet_text cyberbullying_type  \\\n",
      "0  In other words #katandandre, your food was cra...  not_cyberbullying   \n",
      "1  Why is #aussietv so white? #MKR #theblock #ImA...  not_cyberbullying   \n",
      "2  @XochitlSuckkks a classy whore? Or more red ve...  not_cyberbullying   \n",
      "3  @Jason_Gio meh. :P  thanks for the heads up, b...  not_cyberbullying   \n",
      "4  @RudhoeEnglish This is an ISIS account pretend...  not_cyberbullying   \n",
      "\n",
      "                                        cleaned_text  \n",
      "0           [word, katandandr, food, crapilici, mkr]  \n",
      "1  [aussietv, white, mkr, theblock, imacelebritya...  \n",
      "2  [xochitlsuckkk, classi, whore, red, velvet, cu...  \n",
      "3  [jason, gio, meh, p, thank, head, concern, ano...  \n",
      "4  [rudhoeenglish, isi, account, pretend, kurdish...  \n"
     ]
    }
   ],
   "source": [
    "from tqdm.auto import tqdm\n",
    "import time\n",
    "\n",
    "tqdm.pandas()\n",
    "\n",
    "df['cleaned_text'] = df['tweet_text'].progress_apply(clean_text)\n",
    "\n",
    "print(df.head())\n"
   ]
  },
  {
   "cell_type": "code",
   "execution_count": 438,
   "id": "d438be0f",
   "metadata": {
    "scrolled": true
   },
   "outputs": [
    {
     "data": {
      "text/html": [
       "<div>\n",
       "<style scoped>\n",
       "    .dataframe tbody tr th:only-of-type {\n",
       "        vertical-align: middle;\n",
       "    }\n",
       "\n",
       "    .dataframe tbody tr th {\n",
       "        vertical-align: top;\n",
       "    }\n",
       "\n",
       "    .dataframe thead th {\n",
       "        text-align: right;\n",
       "    }\n",
       "</style>\n",
       "<table border=\"1\" class=\"dataframe\">\n",
       "  <thead>\n",
       "    <tr style=\"text-align: right;\">\n",
       "      <th></th>\n",
       "      <th>tweet_text</th>\n",
       "      <th>cyberbullying_type</th>\n",
       "      <th>cleaned_text</th>\n",
       "    </tr>\n",
       "  </thead>\n",
       "  <tbody>\n",
       "    <tr>\n",
       "      <th>0</th>\n",
       "      <td>In other words #katandandre, your food was cra...</td>\n",
       "      <td>not_cyberbullying</td>\n",
       "      <td>[word, katandandr, food, crapilici, mkr]</td>\n",
       "    </tr>\n",
       "    <tr>\n",
       "      <th>1</th>\n",
       "      <td>Why is #aussietv so white? #MKR #theblock #ImA...</td>\n",
       "      <td>not_cyberbullying</td>\n",
       "      <td>[aussietv, white, mkr, theblock, imacelebritya...</td>\n",
       "    </tr>\n",
       "    <tr>\n",
       "      <th>2</th>\n",
       "      <td>@XochitlSuckkks a classy whore? Or more red ve...</td>\n",
       "      <td>not_cyberbullying</td>\n",
       "      <td>[xochitlsuckkk, classi, whore, red, velvet, cu...</td>\n",
       "    </tr>\n",
       "    <tr>\n",
       "      <th>3</th>\n",
       "      <td>@Jason_Gio meh. :P  thanks for the heads up, b...</td>\n",
       "      <td>not_cyberbullying</td>\n",
       "      <td>[jason, gio, meh, p, thank, head, concern, ano...</td>\n",
       "    </tr>\n",
       "    <tr>\n",
       "      <th>4</th>\n",
       "      <td>@RudhoeEnglish This is an ISIS account pretend...</td>\n",
       "      <td>not_cyberbullying</td>\n",
       "      <td>[rudhoeenglish, isi, account, pretend, kurdish...</td>\n",
       "    </tr>\n",
       "    <tr>\n",
       "      <th>...</th>\n",
       "      <td>...</td>\n",
       "      <td>...</td>\n",
       "      <td>...</td>\n",
       "    </tr>\n",
       "    <tr>\n",
       "      <th>47687</th>\n",
       "      <td>Black ppl aren't expected to do anything, depe...</td>\n",
       "      <td>ethnicity</td>\n",
       "      <td>[black, ppl, expect, anyth, depend, anyth, yet...</td>\n",
       "    </tr>\n",
       "    <tr>\n",
       "      <th>47688</th>\n",
       "      <td>Turner did not withhold his disappointment. Tu...</td>\n",
       "      <td>ethnicity</td>\n",
       "      <td>[turner, withhold, disappoint, turner, call, c...</td>\n",
       "    </tr>\n",
       "    <tr>\n",
       "      <th>47689</th>\n",
       "      <td>I swear to God. This dumb nigger bitch. I have...</td>\n",
       "      <td>ethnicity</td>\n",
       "      <td>[swear, god, dumb, nigger, bitch, got, bleach,...</td>\n",
       "    </tr>\n",
       "    <tr>\n",
       "      <th>47690</th>\n",
       "      <td>Yea fuck you RT @therealexel: IF YOURE A NIGGE...</td>\n",
       "      <td>ethnicity</td>\n",
       "      <td>[yea, fuck, rt, therealexel, your, nigger, fuc...</td>\n",
       "    </tr>\n",
       "    <tr>\n",
       "      <th>47691</th>\n",
       "      <td>Bro. U gotta chill RT @CHILLShrammy: Dog FUCK ...</td>\n",
       "      <td>ethnicity</td>\n",
       "      <td>[bro, u, got, ta, chill, rt, chillshrammi, dog...</td>\n",
       "    </tr>\n",
       "  </tbody>\n",
       "</table>\n",
       "<p>47692 rows × 3 columns</p>\n",
       "</div>"
      ],
      "text/plain": [
       "                                              tweet_text cyberbullying_type  \\\n",
       "0      In other words #katandandre, your food was cra...  not_cyberbullying   \n",
       "1      Why is #aussietv so white? #MKR #theblock #ImA...  not_cyberbullying   \n",
       "2      @XochitlSuckkks a classy whore? Or more red ve...  not_cyberbullying   \n",
       "3      @Jason_Gio meh. :P  thanks for the heads up, b...  not_cyberbullying   \n",
       "4      @RudhoeEnglish This is an ISIS account pretend...  not_cyberbullying   \n",
       "...                                                  ...                ...   \n",
       "47687  Black ppl aren't expected to do anything, depe...          ethnicity   \n",
       "47688  Turner did not withhold his disappointment. Tu...          ethnicity   \n",
       "47689  I swear to God. This dumb nigger bitch. I have...          ethnicity   \n",
       "47690  Yea fuck you RT @therealexel: IF YOURE A NIGGE...          ethnicity   \n",
       "47691  Bro. U gotta chill RT @CHILLShrammy: Dog FUCK ...          ethnicity   \n",
       "\n",
       "                                            cleaned_text  \n",
       "0               [word, katandandr, food, crapilici, mkr]  \n",
       "1      [aussietv, white, mkr, theblock, imacelebritya...  \n",
       "2      [xochitlsuckkk, classi, whore, red, velvet, cu...  \n",
       "3      [jason, gio, meh, p, thank, head, concern, ano...  \n",
       "4      [rudhoeenglish, isi, account, pretend, kurdish...  \n",
       "...                                                  ...  \n",
       "47687  [black, ppl, expect, anyth, depend, anyth, yet...  \n",
       "47688  [turner, withhold, disappoint, turner, call, c...  \n",
       "47689  [swear, god, dumb, nigger, bitch, got, bleach,...  \n",
       "47690  [yea, fuck, rt, therealexel, your, nigger, fuc...  \n",
       "47691  [bro, u, got, ta, chill, rt, chillshrammi, dog...  \n",
       "\n",
       "[47692 rows x 3 columns]"
      ]
     },
     "execution_count": 438,
     "metadata": {},
     "output_type": "execute_result"
    }
   ],
   "source": [
    "df"
   ]
  },
  {
   "cell_type": "markdown",
   "id": "29bbbbc6",
   "metadata": {},
   "source": [
    "## Word 2 Vec"
   ]
  },
  {
   "cell_type": "code",
   "execution_count": 439,
   "id": "c9e50ce7",
   "metadata": {},
   "outputs": [],
   "source": [
    "from gensim.models import Word2Vec\n",
    "\n",
    "\n",
    "model = Word2Vec(sentences=df['cleaned_text'], vector_size=300, window=5, min_count=1, workers=4, sg=1)\n",
    "\n",
    "\n",
    "model.save(\"word2vec.model\")"
   ]
  },
  {
   "cell_type": "code",
   "execution_count": 440,
   "id": "e784df1a",
   "metadata": {},
   "outputs": [
    {
     "data": {
      "text/html": [
       "<div>\n",
       "<style scoped>\n",
       "    .dataframe tbody tr th:only-of-type {\n",
       "        vertical-align: middle;\n",
       "    }\n",
       "\n",
       "    .dataframe tbody tr th {\n",
       "        vertical-align: top;\n",
       "    }\n",
       "\n",
       "    .dataframe thead th {\n",
       "        text-align: right;\n",
       "    }\n",
       "</style>\n",
       "<table border=\"1\" class=\"dataframe\">\n",
       "  <thead>\n",
       "    <tr style=\"text-align: right;\">\n",
       "      <th></th>\n",
       "      <th>tweet_text</th>\n",
       "      <th>cyberbullying_type</th>\n",
       "      <th>cleaned_text</th>\n",
       "    </tr>\n",
       "  </thead>\n",
       "  <tbody>\n",
       "    <tr>\n",
       "      <th>0</th>\n",
       "      <td>In other words #katandandre, your food was cra...</td>\n",
       "      <td>not_cyberbullying</td>\n",
       "      <td>[word, katandandr, food, crapilici, mkr]</td>\n",
       "    </tr>\n",
       "    <tr>\n",
       "      <th>1</th>\n",
       "      <td>Why is #aussietv so white? #MKR #theblock #ImA...</td>\n",
       "      <td>not_cyberbullying</td>\n",
       "      <td>[aussietv, white, mkr, theblock, imacelebritya...</td>\n",
       "    </tr>\n",
       "    <tr>\n",
       "      <th>2</th>\n",
       "      <td>@XochitlSuckkks a classy whore? Or more red ve...</td>\n",
       "      <td>not_cyberbullying</td>\n",
       "      <td>[xochitlsuckkk, classi, whore, red, velvet, cu...</td>\n",
       "    </tr>\n",
       "    <tr>\n",
       "      <th>3</th>\n",
       "      <td>@Jason_Gio meh. :P  thanks for the heads up, b...</td>\n",
       "      <td>not_cyberbullying</td>\n",
       "      <td>[jason, gio, meh, p, thank, head, concern, ano...</td>\n",
       "    </tr>\n",
       "    <tr>\n",
       "      <th>4</th>\n",
       "      <td>@RudhoeEnglish This is an ISIS account pretend...</td>\n",
       "      <td>not_cyberbullying</td>\n",
       "      <td>[rudhoeenglish, isi, account, pretend, kurdish...</td>\n",
       "    </tr>\n",
       "    <tr>\n",
       "      <th>...</th>\n",
       "      <td>...</td>\n",
       "      <td>...</td>\n",
       "      <td>...</td>\n",
       "    </tr>\n",
       "    <tr>\n",
       "      <th>47687</th>\n",
       "      <td>Black ppl aren't expected to do anything, depe...</td>\n",
       "      <td>ethnicity</td>\n",
       "      <td>[black, ppl, expect, anyth, depend, anyth, yet...</td>\n",
       "    </tr>\n",
       "    <tr>\n",
       "      <th>47688</th>\n",
       "      <td>Turner did not withhold his disappointment. Tu...</td>\n",
       "      <td>ethnicity</td>\n",
       "      <td>[turner, withhold, disappoint, turner, call, c...</td>\n",
       "    </tr>\n",
       "    <tr>\n",
       "      <th>47689</th>\n",
       "      <td>I swear to God. This dumb nigger bitch. I have...</td>\n",
       "      <td>ethnicity</td>\n",
       "      <td>[swear, god, dumb, nigger, bitch, got, bleach,...</td>\n",
       "    </tr>\n",
       "    <tr>\n",
       "      <th>47690</th>\n",
       "      <td>Yea fuck you RT @therealexel: IF YOURE A NIGGE...</td>\n",
       "      <td>ethnicity</td>\n",
       "      <td>[yea, fuck, rt, therealexel, your, nigger, fuc...</td>\n",
       "    </tr>\n",
       "    <tr>\n",
       "      <th>47691</th>\n",
       "      <td>Bro. U gotta chill RT @CHILLShrammy: Dog FUCK ...</td>\n",
       "      <td>ethnicity</td>\n",
       "      <td>[bro, u, got, ta, chill, rt, chillshrammi, dog...</td>\n",
       "    </tr>\n",
       "  </tbody>\n",
       "</table>\n",
       "<p>47692 rows × 3 columns</p>\n",
       "</div>"
      ],
      "text/plain": [
       "                                              tweet_text cyberbullying_type  \\\n",
       "0      In other words #katandandre, your food was cra...  not_cyberbullying   \n",
       "1      Why is #aussietv so white? #MKR #theblock #ImA...  not_cyberbullying   \n",
       "2      @XochitlSuckkks a classy whore? Or more red ve...  not_cyberbullying   \n",
       "3      @Jason_Gio meh. :P  thanks for the heads up, b...  not_cyberbullying   \n",
       "4      @RudhoeEnglish This is an ISIS account pretend...  not_cyberbullying   \n",
       "...                                                  ...                ...   \n",
       "47687  Black ppl aren't expected to do anything, depe...          ethnicity   \n",
       "47688  Turner did not withhold his disappointment. Tu...          ethnicity   \n",
       "47689  I swear to God. This dumb nigger bitch. I have...          ethnicity   \n",
       "47690  Yea fuck you RT @therealexel: IF YOURE A NIGGE...          ethnicity   \n",
       "47691  Bro. U gotta chill RT @CHILLShrammy: Dog FUCK ...          ethnicity   \n",
       "\n",
       "                                            cleaned_text  \n",
       "0               [word, katandandr, food, crapilici, mkr]  \n",
       "1      [aussietv, white, mkr, theblock, imacelebritya...  \n",
       "2      [xochitlsuckkk, classi, whore, red, velvet, cu...  \n",
       "3      [jason, gio, meh, p, thank, head, concern, ano...  \n",
       "4      [rudhoeenglish, isi, account, pretend, kurdish...  \n",
       "...                                                  ...  \n",
       "47687  [black, ppl, expect, anyth, depend, anyth, yet...  \n",
       "47688  [turner, withhold, disappoint, turner, call, c...  \n",
       "47689  [swear, god, dumb, nigger, bitch, got, bleach,...  \n",
       "47690  [yea, fuck, rt, therealexel, your, nigger, fuc...  \n",
       "47691  [bro, u, got, ta, chill, rt, chillshrammi, dog...  \n",
       "\n",
       "[47692 rows x 3 columns]"
      ]
     },
     "execution_count": 440,
     "metadata": {},
     "output_type": "execute_result"
    }
   ],
   "source": [
    "\n",
    "df"
   ]
  },
  {
   "cell_type": "code",
   "execution_count": 441,
   "id": "bd2b3bee",
   "metadata": {},
   "outputs": [],
   "source": [
    "model = Word2Vec.load(\"word2vec.model\")"
   ]
  },
  {
   "cell_type": "code",
   "execution_count": 442,
   "id": "e3af38c3",
   "metadata": {},
   "outputs": [],
   "source": [
    "word_vector = model.wv['word']"
   ]
  },
  {
   "cell_type": "code",
   "execution_count": 443,
   "id": "03443947",
   "metadata": {},
   "outputs": [
    {
     "data": {
      "text/plain": [
       "[('ass', 0.8776989579200745),\n",
       " ('smh', 0.8738236427307129),\n",
       " ('nigger', 0.8588968515396118),\n",
       " ('cracker', 0.8474707007408142),\n",
       " ('fuckin', 0.8446600437164307)]"
      ]
     },
     "execution_count": 443,
     "metadata": {},
     "output_type": "execute_result"
    }
   ],
   "source": [
    "similar_words = model.wv.most_similar('fuck', topn=5)\n",
    "similar_words"
   ]
  },
  {
   "cell_type": "code",
   "execution_count": 444,
   "id": "00ea1b66",
   "metadata": {},
   "outputs": [
    {
     "data": {
      "text/plain": [
       "['bulli',\n",
       " 'school',\n",
       " 'fuck',\n",
       " 'like',\n",
       " 'nigger',\n",
       " 'joke',\n",
       " 'girl',\n",
       " 'dumb',\n",
       " 'high',\n",
       " 'muslim',\n",
       " 'peopl',\n",
       " 'rape',\n",
       " 'gay',\n",
       " 'u',\n",
       " 'rt',\n",
       " 'call',\n",
       " 'get',\n",
       " 'one',\n",
       " 'idiot',\n",
       " 'co',\n",
       " 'http',\n",
       " 'say',\n",
       " 'make',\n",
       " 'black',\n",
       " 'amp',\n",
       " 'ass',\n",
       " 'mkr',\n",
       " 'go',\n",
       " 'islam',\n",
       " 'know',\n",
       " 'bitch',\n",
       " 'think',\n",
       " 'white',\n",
       " 'christian',\n",
       " 'right',\n",
       " 'would',\n",
       " 'want',\n",
       " 'use',\n",
       " 'got',\n",
       " 'time',\n",
       " 'see',\n",
       " 'women',\n",
       " 'look',\n",
       " 'hate',\n",
       " 'support',\n",
       " 'even',\n",
       " 'shit',\n",
       " 'never',\n",
       " 'thing',\n",
       " 'terrorist',\n",
       " 'ur',\n",
       " 'woman',\n",
       " 'year',\n",
       " 'need',\n",
       " 'still',\n",
       " 'realli',\n",
       " 'tri',\n",
       " 'love',\n",
       " 'first',\n",
       " 'man',\n",
       " 'terror',\n",
       " 'said',\n",
       " 'mean',\n",
       " 'talk',\n",
       " 'obama',\n",
       " 'good',\n",
       " 'kill',\n",
       " 'femal',\n",
       " 'kid',\n",
       " 'friend',\n",
       " 'us',\n",
       " 'guy',\n",
       " 'also',\n",
       " 'stop',\n",
       " 'anyth',\n",
       " 'radic',\n",
       " 'back',\n",
       " 'way',\n",
       " 'racist',\n",
       " 'take',\n",
       " 'day',\n",
       " 'lol',\n",
       " 'men',\n",
       " 'tell',\n",
       " 'sexist',\n",
       " 'twitter',\n",
       " 'person',\n",
       " 'made',\n",
       " 'come',\n",
       " 'human',\n",
       " 'someon',\n",
       " 'name',\n",
       " 'bad',\n",
       " 'word',\n",
       " 'let',\n",
       " 'feel',\n",
       " 'tayyoung',\n",
       " 'everi',\n",
       " 'funni',\n",
       " 'much',\n",
       " 'live',\n",
       " 'racism',\n",
       " 'na',\n",
       " 'middl',\n",
       " 'r',\n",
       " 'world',\n",
       " 'give',\n",
       " 'mani',\n",
       " 'life',\n",
       " 'past',\n",
       " 'alway',\n",
       " 'countri',\n",
       " 'isi',\n",
       " 'well',\n",
       " 'work',\n",
       " 'show',\n",
       " 'com',\n",
       " 'oh',\n",
       " 'ask',\n",
       " 'watch',\n",
       " 'god',\n",
       " 'tweet',\n",
       " 'im',\n",
       " 'n',\n",
       " 'ever',\n",
       " 'start',\n",
       " 'hindu',\n",
       " 'stupid',\n",
       " 'boy',\n",
       " 'believ',\n",
       " 'everyon',\n",
       " 'color',\n",
       " 'trump',\n",
       " 'ye',\n",
       " 'read',\n",
       " 'better',\n",
       " 'follow',\n",
       " 'happen',\n",
       " 'religion',\n",
       " 'disgust',\n",
       " 'quran',\n",
       " 'actual',\n",
       " 'negro',\n",
       " 'noth',\n",
       " 'jihad',\n",
       " 'someth',\n",
       " 'could',\n",
       " 'nigga',\n",
       " 'old',\n",
       " 'lot',\n",
       " 'keep',\n",
       " 'real',\n",
       " 'find',\n",
       " 'kat',\n",
       " 'post',\n",
       " 'wrong',\n",
       " 'ppl',\n",
       " 'care',\n",
       " 'dont',\n",
       " 'help',\n",
       " 'group',\n",
       " 'ok',\n",
       " 'act',\n",
       " 'face',\n",
       " 'p',\n",
       " 'play',\n",
       " 'caus',\n",
       " 'india',\n",
       " 'put',\n",
       " 'today',\n",
       " 'new',\n",
       " 'fight',\n",
       " 'anyon',\n",
       " 'hope',\n",
       " 'thank',\n",
       " 'pleas',\n",
       " 'anoth',\n",
       " 'yeah',\n",
       " 'point',\n",
       " 'thought',\n",
       " 'ignor',\n",
       " 'sure',\n",
       " 'mad',\n",
       " 'lt',\n",
       " 'rememb',\n",
       " 'differ',\n",
       " 'told',\n",
       " 'problem',\n",
       " 'w',\n",
       " 'attack',\n",
       " 'pretti',\n",
       " 'lie',\n",
       " 'chang',\n",
       " 'ugli',\n",
       " 'fact',\n",
       " 'littl',\n",
       " 'feminazi',\n",
       " 'american',\n",
       " 'around',\n",
       " 'gon',\n",
       " 'went',\n",
       " 'reason',\n",
       " 'anti',\n",
       " 'murder',\n",
       " 'stand',\n",
       " 'video',\n",
       " 'end',\n",
       " 'liter',\n",
       " 'done',\n",
       " 'sinc',\n",
       " 'b',\n",
       " 'sorri',\n",
       " 'understand',\n",
       " 'two',\n",
       " 'big',\n",
       " 'abus',\n",
       " 'kind',\n",
       " 'speak',\n",
       " 'class',\n",
       " 'hell',\n",
       " 'commun',\n",
       " 'bc',\n",
       " 'head',\n",
       " 'must',\n",
       " 'dude',\n",
       " 'best',\n",
       " 'whole',\n",
       " 'last',\n",
       " 'shut',\n",
       " 'gt',\n",
       " 'etc',\n",
       " 'game',\n",
       " 'matter',\n",
       " 'lmao',\n",
       " 'date',\n",
       " 'victim',\n",
       " 'comment',\n",
       " 'laugh',\n",
       " 'e',\n",
       " 'state',\n",
       " 'left',\n",
       " 'hard',\n",
       " 'famili',\n",
       " 'die',\n",
       " 'race',\n",
       " 'children',\n",
       " 'male',\n",
       " 'home',\n",
       " 'vote',\n",
       " 'everyth',\n",
       " 'okay',\n",
       " 'great',\n",
       " 'seen',\n",
       " 'mom',\n",
       " 'beat',\n",
       " 'part',\n",
       " 'enough',\n",
       " 'turn',\n",
       " 'learn',\n",
       " 'seem',\n",
       " 'run',\n",
       " 'fat',\n",
       " 'though',\n",
       " 'wear',\n",
       " 'damn',\n",
       " 'away',\n",
       " 'fun',\n",
       " 'yet',\n",
       " 'stori',\n",
       " 'becom',\n",
       " 'money',\n",
       " 'sound',\n",
       " 'next',\n",
       " 'teacher',\n",
       " 'prison',\n",
       " 'wan',\n",
       " 'non',\n",
       " 'issu',\n",
       " 'shame',\n",
       " 'long',\n",
       " 'jew',\n",
       " 'mayb',\n",
       " 'wait',\n",
       " 'guess',\n",
       " 'hey',\n",
       " 'els',\n",
       " 'pick',\n",
       " 'other',\n",
       " 'harass',\n",
       " 'far',\n",
       " 'probabl',\n",
       " 'without',\n",
       " 'insult',\n",
       " 'x',\n",
       " 'grade',\n",
       " 'alreadi',\n",
       " 'claim',\n",
       " 'law',\n",
       " 'nice',\n",
       " 'polic',\n",
       " 'idea',\n",
       " 'hous',\n",
       " 'mind',\n",
       " 'yo',\n",
       " 'war',\n",
       " 'presid',\n",
       " 'bit',\n",
       " 'place',\n",
       " 'america',\n",
       " 'pakistan',\n",
       " 'job',\n",
       " 'hair',\n",
       " 'indian',\n",
       " 'self',\n",
       " 'book',\n",
       " 'hear',\n",
       " 'saw',\n",
       " 'k',\n",
       " 'sex',\n",
       " 'true',\n",
       " 'allow',\n",
       " 'child',\n",
       " 'defend',\n",
       " 'respect',\n",
       " 'nation',\n",
       " 'social',\n",
       " 'media',\n",
       " 'forc',\n",
       " 'power',\n",
       " 'listen',\n",
       " 'leav',\n",
       " 'ago',\n",
       " 'news',\n",
       " 'fake',\n",
       " 'weird',\n",
       " 'parti',\n",
       " 'c',\n",
       " 'stay',\n",
       " 'dog',\n",
       " 'cri',\n",
       " 'accept',\n",
       " 'feminist',\n",
       " 'cool',\n",
       " 'happi',\n",
       " 'death',\n",
       " 'wish',\n",
       " 'parent',\n",
       " 'peac',\n",
       " 'stuff',\n",
       " 'hoe',\n",
       " 'question',\n",
       " 'report',\n",
       " 'pic',\n",
       " 'ya',\n",
       " 'th',\n",
       " 'agre',\n",
       " 'might',\n",
       " 'polit',\n",
       " 'mental',\n",
       " 'f',\n",
       " 'sexual',\n",
       " 'sick',\n",
       " 'suck',\n",
       " 'found',\n",
       " 'cultur',\n",
       " 'account',\n",
       " 'skin',\n",
       " 'wow',\n",
       " 'open',\n",
       " 'gener',\n",
       " 'free',\n",
       " 'babi',\n",
       " 'andr',\n",
       " 'may',\n",
       " 'mention',\n",
       " 'hand',\n",
       " 'dick',\n",
       " 'homophob',\n",
       " 'histori',\n",
       " 'block',\n",
       " 'either',\n",
       " 'creat',\n",
       " 'respons',\n",
       " 'public',\n",
       " 'hit',\n",
       " 'exist',\n",
       " 'week',\n",
       " 'miss',\n",
       " 'type',\n",
       " 'hurt',\n",
       " 'team',\n",
       " 'blame',\n",
       " 'statu',\n",
       " 'religi',\n",
       " 'major',\n",
       " 'haha',\n",
       " 'goe',\n",
       " 'came',\n",
       " 'student',\n",
       " 'teach',\n",
       " 'serious',\n",
       " 'definit',\n",
       " 'www',\n",
       " 'omg',\n",
       " 'educ',\n",
       " 'move',\n",
       " 'night',\n",
       " 'full',\n",
       " 'pay',\n",
       " 'slave',\n",
       " 'grow',\n",
       " 'cook',\n",
       " 'liber',\n",
       " 'fan',\n",
       " 'straight',\n",
       " 'freebsdgirl',\n",
       " 'term',\n",
       " 'less',\n",
       " 'send',\n",
       " 'treat',\n",
       " 'wonder',\n",
       " 'movi',\n",
       " 'smh',\n",
       " 'de',\n",
       " 'jesu',\n",
       " 'heard',\n",
       " 'walk',\n",
       " 'cuz',\n",
       " 'equal',\n",
       " 'worst',\n",
       " 'brother',\n",
       " 'bring',\n",
       " 'total',\n",
       " 'case',\n",
       " 'rule',\n",
       " 'side',\n",
       " 'least',\n",
       " 'continu',\n",
       " 'sad',\n",
       " 'deal',\n",
       " 'instead',\n",
       " 'knew',\n",
       " 'month',\n",
       " 'eye',\n",
       " 'elementari',\n",
       " 'colleg',\n",
       " 'miley',\n",
       " 'sit',\n",
       " 'apolog',\n",
       " 'write',\n",
       " 'mother',\n",
       " 'complet',\n",
       " 'basic',\n",
       " 'truth',\n",
       " 'forget',\n",
       " 'cant',\n",
       " 'eat',\n",
       " 'daughter',\n",
       " 'son',\n",
       " 'yall',\n",
       " 'facebook',\n",
       " 'deserv',\n",
       " 'arab',\n",
       " 'bro',\n",
       " 'moham',\n",
       " 'entir',\n",
       " 'protect',\n",
       " 'crime',\n",
       " 'posit',\n",
       " 'check',\n",
       " 'al',\n",
       " 'wtf',\n",
       " 'later',\n",
       " 'prophet',\n",
       " 'evil',\n",
       " 'popular',\n",
       " 'singl',\n",
       " 'remind',\n",
       " 'tho',\n",
       " 'gave',\n",
       " 'line',\n",
       " 'minor',\n",
       " 'whatev',\n",
       " 'save',\n",
       " 'realiz',\n",
       " 'cyru',\n",
       " 'togeth',\n",
       " 'asshol',\n",
       " 'opinion',\n",
       " 'exactli',\n",
       " 'behind',\n",
       " 'win',\n",
       " 'spread',\n",
       " 'quit',\n",
       " 'voic',\n",
       " 'cunt',\n",
       " 'soon',\n",
       " 'close',\n",
       " 'g',\n",
       " 'innoc',\n",
       " 'young',\n",
       " 'imagin',\n",
       " 'violenc',\n",
       " 'crazi',\n",
       " 'million',\n",
       " 'target',\n",
       " 'via',\n",
       " 'allah',\n",
       " 'wash',\n",
       " 'poor',\n",
       " 'h',\n",
       " 'experi',\n",
       " 'slur',\n",
       " 'expect',\n",
       " 'bunch',\n",
       " 'dead',\n",
       " 'coon',\n",
       " 'exampl',\n",
       " 'trash',\n",
       " 'break',\n",
       " 'fire',\n",
       " 'sens',\n",
       " 'age',\n",
       " 'marri',\n",
       " 'lost',\n",
       " 'democrat',\n",
       " 'dad',\n",
       " 'anim',\n",
       " 'front',\n",
       " 'suicid',\n",
       " 'gamerg',\n",
       " 'china',\n",
       " 'destroy',\n",
       " 'sometim',\n",
       " 'sport',\n",
       " 'hot',\n",
       " 'took',\n",
       " 'absolut',\n",
       " 'tran',\n",
       " 'share',\n",
       " 'half',\n",
       " 'almost',\n",
       " 'cop',\n",
       " 'folk',\n",
       " 'fear',\n",
       " 'interest',\n",
       " 'hold',\n",
       " 'threat',\n",
       " 'ladi',\n",
       " 'piec',\n",
       " 'set',\n",
       " 'drive',\n",
       " 'piss',\n",
       " 'annoy',\n",
       " 'consid',\n",
       " 'pass',\n",
       " 'refer',\n",
       " 'throw',\n",
       " 'yard',\n",
       " 'that',\n",
       " 'pussi',\n",
       " 'v',\n",
       " 'hatr',\n",
       " 'rest',\n",
       " 'action',\n",
       " 'que',\n",
       " 'decid',\n",
       " 'second',\n",
       " 'ta',\n",
       " 'cut',\n",
       " 'l',\n",
       " 'heart',\n",
       " 'fuckin',\n",
       " 'freedom',\n",
       " 'abl',\n",
       " 'ban',\n",
       " 'base',\n",
       " 'ha',\n",
       " 'israel',\n",
       " 'yr',\n",
       " 'wors',\n",
       " 'rather',\n",
       " 'explain',\n",
       " 'sister',\n",
       " 'number',\n",
       " 'nurs',\n",
       " 'offens',\n",
       " 'offic',\n",
       " 'abt',\n",
       " 'charact',\n",
       " 'especi',\n",
       " 'african',\n",
       " 'excus',\n",
       " 'j',\n",
       " 'gone',\n",
       " 'govern',\n",
       " 'final',\n",
       " 'jihadi',\n",
       " 'honestli',\n",
       " 'slaveri',\n",
       " 'pictur',\n",
       " 'alon',\n",
       " 'notsexist',\n",
       " 'church',\n",
       " 'nobodi',\n",
       " 'protest',\n",
       " 'toward',\n",
       " 'view',\n",
       " 'bodi',\n",
       " 'busi',\n",
       " 'lesbian',\n",
       " 'retard',\n",
       " 'cloth',\n",
       " 'worri',\n",
       " 'prove',\n",
       " 'assault',\n",
       " 'bullshit',\n",
       " 'scare',\n",
       " 'tonight',\n",
       " 'includ',\n",
       " 'answer',\n",
       " 'clearli',\n",
       " 'round',\n",
       " 'join',\n",
       " 'choic',\n",
       " 'kick',\n",
       " 'offend',\n",
       " 'fine',\n",
       " 'maxblumenth',\n",
       " 'repli',\n",
       " 'cover',\n",
       " 'push',\n",
       " 'ly',\n",
       " 'super',\n",
       " 'articl',\n",
       " 'tv',\n",
       " 'onlin',\n",
       " 'judg',\n",
       " 'except',\n",
       " 'lil',\n",
       " 'bet',\n",
       " 'da',\n",
       " 'promot',\n",
       " 'anyway',\n",
       " 'mr',\n",
       " 'food',\n",
       " 'choos',\n",
       " 'ill',\n",
       " 'organ',\n",
       " 'st',\n",
       " 'aw',\n",
       " 'youtub',\n",
       " 'top',\n",
       " 'father',\n",
       " 'outsid',\n",
       " 'small',\n",
       " 'main',\n",
       " 'leader',\n",
       " 'horribl',\n",
       " 'rais',\n",
       " 'amaz',\n",
       " 'mouth',\n",
       " 'list',\n",
       " 'anymor',\n",
       " 'threaten',\n",
       " 'footbal',\n",
       " 'low',\n",
       " 'gang',\n",
       " 'blm',\n",
       " 'biggest',\n",
       " 'clear',\n",
       " 'drop',\n",
       " 'compar',\n",
       " 'safe',\n",
       " 'becam',\n",
       " 'meet',\n",
       " 'fund',\n",
       " 'music',\n",
       " 'enjoy',\n",
       " 'cours',\n",
       " 'given',\n",
       " 'tall',\n",
       " 'fail',\n",
       " 'pull',\n",
       " 'abort',\n",
       " 'import',\n",
       " 'comedian',\n",
       " 'land',\n",
       " 'control',\n",
       " 'level',\n",
       " 'buy',\n",
       " 'member',\n",
       " 'adult',\n",
       " 'attent',\n",
       " 'em',\n",
       " 'pro',\n",
       " 'speech',\n",
       " 'sign',\n",
       " 'fool',\n",
       " 'femin',\n",
       " 'usual',\n",
       " 'phone',\n",
       " 'nd',\n",
       " 'incid',\n",
       " 'gun',\n",
       " 'republican',\n",
       " 'suppos',\n",
       " 'proud',\n",
       " 'system',\n",
       " 'lose',\n",
       " 'due',\n",
       " 'oppress',\n",
       " 'refus',\n",
       " 'disrespect',\n",
       " 'idk',\n",
       " 'conserv',\n",
       " 'pray',\n",
       " 'angri',\n",
       " 'cute',\n",
       " 'seriou',\n",
       " 'burn',\n",
       " 'wadhwa',\n",
       " 'armi',\n",
       " 'normal',\n",
       " 'messag',\n",
       " 'surpris',\n",
       " 'shoot',\n",
       " 'kashmir',\n",
       " 'dark',\n",
       " 'cat',\n",
       " 'convers',\n",
       " 'unless',\n",
       " 'se',\n",
       " 'song',\n",
       " 'wife',\n",
       " 'societi',\n",
       " 'mykitchenrul',\n",
       " 'order',\n",
       " 'mine',\n",
       " 'short',\n",
       " 'beauti',\n",
       " 'sell',\n",
       " 'shot',\n",
       " 'score',\n",
       " 'genocid',\n",
       " 'tire',\n",
       " 'health',\n",
       " 'islamist',\n",
       " 'mostli',\n",
       " 'q',\n",
       " 'polici',\n",
       " 'brown',\n",
       " 'hide',\n",
       " 'jewish',\n",
       " 'hypocrit',\n",
       " 'correct',\n",
       " 'swear',\n",
       " 'special',\n",
       " 'holi',\n",
       " 'appar',\n",
       " 'everybodi',\n",
       " 'dream',\n",
       " 'practic',\n",
       " 'car',\n",
       " 'club',\n",
       " 'terribl',\n",
       " 'trust',\n",
       " 'sent',\n",
       " 'blameonenotal',\n",
       " 'rapist',\n",
       " 'ex',\n",
       " 'born',\n",
       " 'hour',\n",
       " 'minut',\n",
       " 'kinda',\n",
       " 'blond',\n",
       " 'red',\n",
       " 'junior',\n",
       " 'dem',\n",
       " 'taken',\n",
       " 'bull',\n",
       " 'smart',\n",
       " 'street',\n",
       " 'none',\n",
       " 'dress',\n",
       " 'teen',\n",
       " 'gender',\n",
       " 'pakistani',\n",
       " 'slut',\n",
       " 'activ',\n",
       " 'strong',\n",
       " 'brutal',\n",
       " 'fall',\n",
       " 'lead',\n",
       " 'page',\n",
       " 'room',\n",
       " 'bout',\n",
       " 'harm',\n",
       " 'commit',\n",
       " 'faith',\n",
       " 'bloodi',\n",
       " 'fals',\n",
       " 'elect',\n",
       " 'mt',\n",
       " 'assum',\n",
       " 'instagram',\n",
       " 'accus',\n",
       " 'extrem',\n",
       " 'wit',\n",
       " 'justifi',\n",
       " 'crimin',\n",
       " 'sourc',\n",
       " 'glad',\n",
       " 'sleep',\n",
       " 'ad',\n",
       " 'obvious',\n",
       " 'figur',\n",
       " 'complain',\n",
       " 'dm',\n",
       " 'hadith',\n",
       " 'pretend',\n",
       " 'internet',\n",
       " 'known',\n",
       " 'brain',\n",
       " 'fit',\n",
       " 'earli',\n",
       " 'tech',\n",
       " 'crush',\n",
       " 'punch',\n",
       " 'fb',\n",
       " 'expos',\n",
       " 'propaganda',\n",
       " 'relat',\n",
       " 'late',\n",
       " 'daesh',\n",
       " 'form',\n",
       " 'three',\n",
       " 'troll',\n",
       " 'moment',\n",
       " 'plan',\n",
       " 'notic',\n",
       " 'london',\n",
       " 'statement',\n",
       " 'tf',\n",
       " 'met',\n",
       " 'admit',\n",
       " 'felt',\n",
       " 'throughout',\n",
       " 'bigot',\n",
       " 'involv',\n",
       " 'crap',\n",
       " 'uk',\n",
       " 'restaur',\n",
       " 'extremist',\n",
       " 'belief',\n",
       " 'liar',\n",
       " 'sir',\n",
       " 'often',\n",
       " 'morn',\n",
       " 'concern',\n",
       " 'spacekatg',\n",
       " 'mock',\n",
       " 'af',\n",
       " 'light',\n",
       " 'critic',\n",
       " 'quot',\n",
       " 'condemn',\n",
       " 'behavior',\n",
       " 'step',\n",
       " 'drink',\n",
       " 'build',\n",
       " 'violent',\n",
       " 'model',\n",
       " 'awar',\n",
       " 'train',\n",
       " 'celebr',\n",
       " 'photo',\n",
       " 'aint',\n",
       " 'appreci',\n",
       " 'convert',\n",
       " 'bomb',\n",
       " 'rss',\n",
       " 'easi',\n",
       " 'eu',\n",
       " 'hahaha',\n",
       " 'nasti',\n",
       " 'serv',\n",
       " 'coupl',\n",
       " 'z',\n",
       " 'faggot',\n",
       " 'riot',\n",
       " 'sexism',\n",
       " 'racial',\n",
       " 'danger',\n",
       " 'argu',\n",
       " 'declar',\n",
       " 'rate',\n",
       " 'possibl',\n",
       " 'origin',\n",
       " 'present',\n",
       " 'hero',\n",
       " 'readi',\n",
       " 'proof',\n",
       " 'suffer',\n",
       " 'realiti',\n",
       " 'hi',\n",
       " 'random',\n",
       " 'shock',\n",
       " 'citi',\n",
       " 'rich',\n",
       " 'uh',\n",
       " 'wing',\n",
       " 'cyber',\n",
       " 'marriag',\n",
       " 'hang',\n",
       " 'weight',\n",
       " 'belong',\n",
       " 'popul',\n",
       " 'colleagu',\n",
       " 'confus',\n",
       " 'sort',\n",
       " 'colin',\n",
       " 'chriswarcraft',\n",
       " 'certain',\n",
       " 'pedophil',\n",
       " 'agenda',\n",
       " 'perfect',\n",
       " 'instant',\n",
       " 'legal',\n",
       " 'huh',\n",
       " 'btw',\n",
       " 'select',\n",
       " 'earth',\n",
       " 'email',\n",
       " 'shitti',\n",
       " 'stick',\n",
       " 'lmfao',\n",
       " 'didnt',\n",
       " 'thequinnspiraci',\n",
       " 'text',\n",
       " 'nerd',\n",
       " 'secular',\n",
       " 'valu',\n",
       " 'lgbt',\n",
       " 'daili',\n",
       " 'bu',\n",
       " 'drug',\n",
       " 'wayn',\n",
       " 'compani',\n",
       " 'discuss',\n",
       " 'asian',\n",
       " 'relationship',\n",
       " 'pl',\n",
       " 'specif',\n",
       " 'languag',\n",
       " 'taught',\n",
       " 'standard',\n",
       " 'hilari',\n",
       " 'pain',\n",
       " 'fair',\n",
       " 'link',\n",
       " 'dear',\n",
       " 'constantli',\n",
       " 'jump',\n",
       " 'bother',\n",
       " 'debat',\n",
       " 'sharia',\n",
       " 'huge',\n",
       " 'jail',\n",
       " 'meant',\n",
       " 'mosqu',\n",
       " 'sever',\n",
       " 'common',\n",
       " 'la',\n",
       " 'ruin',\n",
       " 'taliban',\n",
       " 'chines',\n",
       " 'yea',\n",
       " 'direct',\n",
       " 'situat',\n",
       " 'israeliregim',\n",
       " 'truli',\n",
       " 'futur',\n",
       " 'privat',\n",
       " 'outta',\n",
       " 'vs',\n",
       " 'thousand',\n",
       " 'danc',\n",
       " 'justic',\n",
       " 'realdonaldtrump',\n",
       " 'jr',\n",
       " 'argument',\n",
       " 'vers',\n",
       " 'di',\n",
       " 'disagre',\n",
       " 'congress',\n",
       " 'repres',\n",
       " 'season',\n",
       " 'wake',\n",
       " 'area',\n",
       " ...]"
      ]
     },
     "execution_count": 444,
     "metadata": {},
     "output_type": "execute_result"
    }
   ],
   "source": [
    "model.wv.index_to_key\n"
   ]
  },
  {
   "cell_type": "code",
   "execution_count": 445,
   "id": "8e7b80a1",
   "metadata": {},
   "outputs": [
    {
     "data": {
      "text/plain": [
       "47369"
      ]
     },
     "execution_count": 445,
     "metadata": {},
     "output_type": "execute_result"
    }
   ],
   "source": [
    "len(model.wv.index_to_key)"
   ]
  },
  {
   "cell_type": "markdown",
   "id": "706f2451",
   "metadata": {},
   "source": [
    "## Create an embedding matrix"
   ]
  },
  {
   "cell_type": "code",
   "execution_count": 446,
   "id": "9a3d8d24",
   "metadata": {},
   "outputs": [],
   "source": [
    "\n",
    "embedding_matrix = np.zeros((len(model.wv), 300))\n",
    "for i, word in enumerate(model.wv.index_to_key):\n",
    "    embedding_matrix[i] = model.wv[word]\n"
   ]
  },
  {
   "cell_type": "code",
   "execution_count": 447,
   "id": "49daade2",
   "metadata": {},
   "outputs": [
    {
     "data": {
      "text/plain": [
       "(47369, 300)"
      ]
     },
     "execution_count": 447,
     "metadata": {},
     "output_type": "execute_result"
    }
   ],
   "source": [
    "embedding_matrix.shape"
   ]
  },
  {
   "cell_type": "code",
   "execution_count": 448,
   "id": "4827cbd7",
   "metadata": {},
   "outputs": [
    {
     "data": {
      "text/plain": [
       "array([[ 0.12996945,  0.58468258, -0.18727219, ..., -0.23001562,\n",
       "         0.38362408, -0.33055365],\n",
       "       [ 0.04519251,  0.5116623 , -0.09712613, ..., -0.34990531,\n",
       "         0.20559049, -0.4066287 ],\n",
       "       [ 0.36505198,  0.03833671,  0.07738193, ...,  0.11835576,\n",
       "         0.09535789, -0.01720672],\n",
       "       ...,\n",
       "       [ 0.04480699,  0.0045046 ,  0.01459029, ..., -0.02436158,\n",
       "        -0.01520087, -0.023389  ],\n",
       "       [ 0.04178248,  0.01712346,  0.00504572, ..., -0.03412911,\n",
       "        -0.00060549, -0.02082785],\n",
       "       [ 0.05027826,  0.01588543,  0.00561714, ..., -0.02242328,\n",
       "        -0.02316193,  0.01523834]])"
      ]
     },
     "execution_count": 448,
     "metadata": {},
     "output_type": "execute_result"
    }
   ],
   "source": [
    "embedding_matrix\n",
    "\n",
    "## there are total 47369 unique  words  for bulli  this  is the vector -0.10452877,  0.26967829,  0.13257663, ..., -0.29167974,\n",
    "         ### 0.14501591, -0.40985987"
   ]
  },
  {
   "cell_type": "markdown",
   "id": "a6011990",
   "metadata": {},
   "source": [
    "## Label Encoding"
   ]
  },
  {
   "cell_type": "code",
   "execution_count": 449,
   "id": "a5317131",
   "metadata": {},
   "outputs": [],
   "source": [
    "from sklearn.preprocessing import LabelEncoder\n",
    "# Encode the labels\n",
    "label_encoder = LabelEncoder()\n",
    "df['cyberbullying_type'] = label_encoder.fit_transform(df['cyberbullying_type'])"
   ]
  },
  {
   "cell_type": "code",
   "execution_count": 450,
   "id": "6097ebf9",
   "metadata": {},
   "outputs": [
    {
     "data": {
      "text/plain": [
       "array([3, 2, 5, 4, 0, 1])"
      ]
     },
     "execution_count": 450,
     "metadata": {},
     "output_type": "execute_result"
    }
   ],
   "source": [
    "df['cyberbullying_type'].unique()"
   ]
  },
  {
   "cell_type": "code",
   "execution_count": 451,
   "id": "650470f8",
   "metadata": {},
   "outputs": [
    {
     "data": {
      "text/plain": [
       "array([[0., 0., 0., 1., 0., 0.],\n",
       "       [0., 0., 0., 1., 0., 0.],\n",
       "       [0., 0., 0., 1., 0., 0.],\n",
       "       ...,\n",
       "       [0., 1., 0., 0., 0., 0.],\n",
       "       [0., 1., 0., 0., 0., 0.],\n",
       "       [0., 1., 0., 0., 0., 0.]], dtype=float32)"
      ]
     },
     "execution_count": 451,
     "metadata": {},
     "output_type": "execute_result"
    }
   ],
   "source": [
    "from tensorflow.keras.utils import to_categorical\n",
    "y = to_categorical(df['cyberbullying_type'])\n",
    "y"
   ]
  },
  {
   "cell_type": "code",
   "execution_count": 452,
   "id": "2f38b7cd",
   "metadata": {},
   "outputs": [
    {
     "data": {
      "text/html": [
       "<div>\n",
       "<style scoped>\n",
       "    .dataframe tbody tr th:only-of-type {\n",
       "        vertical-align: middle;\n",
       "    }\n",
       "\n",
       "    .dataframe tbody tr th {\n",
       "        vertical-align: top;\n",
       "    }\n",
       "\n",
       "    .dataframe thead th {\n",
       "        text-align: right;\n",
       "    }\n",
       "</style>\n",
       "<table border=\"1\" class=\"dataframe\">\n",
       "  <thead>\n",
       "    <tr style=\"text-align: right;\">\n",
       "      <th></th>\n",
       "      <th>cyberbullying_type</th>\n",
       "      <th>cleaned_text</th>\n",
       "    </tr>\n",
       "  </thead>\n",
       "  <tbody>\n",
       "    <tr>\n",
       "      <th>0</th>\n",
       "      <td>3</td>\n",
       "      <td>[word, katandandr, food, crapilici, mkr]</td>\n",
       "    </tr>\n",
       "    <tr>\n",
       "      <th>1</th>\n",
       "      <td>3</td>\n",
       "      <td>[aussietv, white, mkr, theblock, imacelebritya...</td>\n",
       "    </tr>\n",
       "    <tr>\n",
       "      <th>2</th>\n",
       "      <td>3</td>\n",
       "      <td>[xochitlsuckkk, classi, whore, red, velvet, cu...</td>\n",
       "    </tr>\n",
       "    <tr>\n",
       "      <th>3</th>\n",
       "      <td>3</td>\n",
       "      <td>[jason, gio, meh, p, thank, head, concern, ano...</td>\n",
       "    </tr>\n",
       "    <tr>\n",
       "      <th>4</th>\n",
       "      <td>3</td>\n",
       "      <td>[rudhoeenglish, isi, account, pretend, kurdish...</td>\n",
       "    </tr>\n",
       "    <tr>\n",
       "      <th>...</th>\n",
       "      <td>...</td>\n",
       "      <td>...</td>\n",
       "    </tr>\n",
       "    <tr>\n",
       "      <th>47687</th>\n",
       "      <td>1</td>\n",
       "      <td>[black, ppl, expect, anyth, depend, anyth, yet...</td>\n",
       "    </tr>\n",
       "    <tr>\n",
       "      <th>47688</th>\n",
       "      <td>1</td>\n",
       "      <td>[turner, withhold, disappoint, turner, call, c...</td>\n",
       "    </tr>\n",
       "    <tr>\n",
       "      <th>47689</th>\n",
       "      <td>1</td>\n",
       "      <td>[swear, god, dumb, nigger, bitch, got, bleach,...</td>\n",
       "    </tr>\n",
       "    <tr>\n",
       "      <th>47690</th>\n",
       "      <td>1</td>\n",
       "      <td>[yea, fuck, rt, therealexel, your, nigger, fuc...</td>\n",
       "    </tr>\n",
       "    <tr>\n",
       "      <th>47691</th>\n",
       "      <td>1</td>\n",
       "      <td>[bro, u, got, ta, chill, rt, chillshrammi, dog...</td>\n",
       "    </tr>\n",
       "  </tbody>\n",
       "</table>\n",
       "<p>47692 rows × 2 columns</p>\n",
       "</div>"
      ],
      "text/plain": [
       "       cyberbullying_type                                       cleaned_text\n",
       "0                       3           [word, katandandr, food, crapilici, mkr]\n",
       "1                       3  [aussietv, white, mkr, theblock, imacelebritya...\n",
       "2                       3  [xochitlsuckkk, classi, whore, red, velvet, cu...\n",
       "3                       3  [jason, gio, meh, p, thank, head, concern, ano...\n",
       "4                       3  [rudhoeenglish, isi, account, pretend, kurdish...\n",
       "...                   ...                                                ...\n",
       "47687                   1  [black, ppl, expect, anyth, depend, anyth, yet...\n",
       "47688                   1  [turner, withhold, disappoint, turner, call, c...\n",
       "47689                   1  [swear, god, dumb, nigger, bitch, got, bleach,...\n",
       "47690                   1  [yea, fuck, rt, therealexel, your, nigger, fuc...\n",
       "47691                   1  [bro, u, got, ta, chill, rt, chillshrammi, dog...\n",
       "\n",
       "[47692 rows x 2 columns]"
      ]
     },
     "execution_count": 452,
     "metadata": {},
     "output_type": "execute_result"
    }
   ],
   "source": [
    "df.drop('tweet_text',axis=1)"
   ]
  },
  {
   "cell_type": "markdown",
   "id": "c28ee4f1",
   "metadata": {},
   "source": [
    "## Word position in vocabulary"
   ]
  },
  {
   "cell_type": "code",
   "execution_count": 453,
   "id": "07a849f0",
   "metadata": {},
   "outputs": [],
   "source": [
    "word_to_index = model.wv.key_to_index"
   ]
  },
  {
   "cell_type": "code",
   "execution_count": 454,
   "id": "f3ef1988",
   "metadata": {},
   "outputs": [],
   "source": [
    "def indexfinder(row):\n",
    "    sentence=[]\n",
    "    for word in row:\n",
    "        index = word_to_index[word]\n",
    "        sentence.append(index)\n",
    "        \n",
    "    return sentence\n",
    "        \n",
    "\n",
    "\n",
    "df[\"sequences\"]=df[\"cleaned_text\"].apply(indexfinder)\n"
   ]
  },
  {
   "cell_type": "code",
   "execution_count": 455,
   "id": "8e0b6fbc",
   "metadata": {},
   "outputs": [
    {
     "data": {
      "text/html": [
       "<div>\n",
       "<style scoped>\n",
       "    .dataframe tbody tr th:only-of-type {\n",
       "        vertical-align: middle;\n",
       "    }\n",
       "\n",
       "    .dataframe tbody tr th {\n",
       "        vertical-align: top;\n",
       "    }\n",
       "\n",
       "    .dataframe thead th {\n",
       "        text-align: right;\n",
       "    }\n",
       "</style>\n",
       "<table border=\"1\" class=\"dataframe\">\n",
       "  <thead>\n",
       "    <tr style=\"text-align: right;\">\n",
       "      <th></th>\n",
       "      <th>tweet_text</th>\n",
       "      <th>cyberbullying_type</th>\n",
       "      <th>cleaned_text</th>\n",
       "      <th>sequences</th>\n",
       "    </tr>\n",
       "  </thead>\n",
       "  <tbody>\n",
       "    <tr>\n",
       "      <th>0</th>\n",
       "      <td>In other words #katandandre, your food was cra...</td>\n",
       "      <td>3</td>\n",
       "      <td>[word, katandandr, food, crapilici, mkr]</td>\n",
       "      <td>[93, 2199, 645, 18603, 26]</td>\n",
       "    </tr>\n",
       "    <tr>\n",
       "      <th>1</th>\n",
       "      <td>Why is #aussietv so white? #MKR #theblock #ImA...</td>\n",
       "      <td>3</td>\n",
       "      <td>[aussietv, white, mkr, theblock, imacelebritya...</td>\n",
       "      <td>[18595, 32, 26, 18119, 8421, 169, 18107, 5026,...</td>\n",
       "    </tr>\n",
       "    <tr>\n",
       "      <th>2</th>\n",
       "      <td>@XochitlSuckkks a classy whore? Or more red ve...</td>\n",
       "      <td>3</td>\n",
       "      <td>[xochitlsuckkk, classi, whore, red, velvet, cu...</td>\n",
       "      <td>[18675, 2005, 1216, 776, 9832, 4461]</td>\n",
       "    </tr>\n",
       "    <tr>\n",
       "      <th>3</th>\n",
       "      <td>@Jason_Gio meh. :P  thanks for the heads up, b...</td>\n",
       "      <td>3</td>\n",
       "      <td>[jason, gio, meh, p, thank, head, concern, ano...</td>\n",
       "      <td>[2145, 4838, 3236, 164, 174, 222, 859, 176, 71...</td>\n",
       "    </tr>\n",
       "    <tr>\n",
       "      <th>4</th>\n",
       "      <td>@RudhoeEnglish This is an ISIS account pretend...</td>\n",
       "      <td>3</td>\n",
       "      <td>[rudhoeenglish, isi, account, pretend, kurdish...</td>\n",
       "      <td>[10673, 112, 365, 820, 2824, 365, 3, 28, 191]</td>\n",
       "    </tr>\n",
       "    <tr>\n",
       "      <th>...</th>\n",
       "      <td>...</td>\n",
       "      <td>...</td>\n",
       "      <td>...</td>\n",
       "      <td>...</td>\n",
       "    </tr>\n",
       "    <tr>\n",
       "      <th>47687</th>\n",
       "      <td>Black ppl aren't expected to do anything, depe...</td>\n",
       "      <td>1</td>\n",
       "      <td>[black, ppl, expect, anyth, depend, anyth, yet...</td>\n",
       "      <td>[23, 156, 513, 74, 1441, 74, 267, 370, 2038, 1...</td>\n",
       "    </tr>\n",
       "    <tr>\n",
       "      <th>47688</th>\n",
       "      <td>Turner did not withhold his disappointment. Tu...</td>\n",
       "      <td>1</td>\n",
       "      <td>[turner, withhold, disappoint, turner, call, c...</td>\n",
       "      <td>[7353, 9648, 1414, 7353, 15, 1390, 8933, 33660...</td>\n",
       "    </tr>\n",
       "    <tr>\n",
       "      <th>47689</th>\n",
       "      <td>I swear to God. This dumb nigger bitch. I have...</td>\n",
       "      <td>1</td>\n",
       "      <td>[swear, god, dumb, nigger, bitch, got, bleach,...</td>\n",
       "      <td>[756, 120, 7, 4, 30, 38, 2867, 311, 40987, 572...</td>\n",
       "    </tr>\n",
       "    <tr>\n",
       "      <th>47690</th>\n",
       "      <td>Yea fuck you RT @therealexel: IF YOURE A NIGGE...</td>\n",
       "      <td>1</td>\n",
       "      <td>[yea, fuck, rt, therealexel, your, nigger, fuc...</td>\n",
       "      <td>[977, 2, 14, 15415, 1413, 4, 2, 1437, 2, 7, 4]</td>\n",
       "    </tr>\n",
       "    <tr>\n",
       "      <th>47691</th>\n",
       "      <td>Bro. U gotta chill RT @CHILLShrammy: Dog FUCK ...</td>\n",
       "      <td>1</td>\n",
       "      <td>[bro, u, got, ta, chill, rt, chillshrammi, dog...</td>\n",
       "      <td>[463, 13, 38, 568, 1203, 14, 26808, 338, 2, 62...</td>\n",
       "    </tr>\n",
       "  </tbody>\n",
       "</table>\n",
       "<p>47692 rows × 4 columns</p>\n",
       "</div>"
      ],
      "text/plain": [
       "                                              tweet_text  cyberbullying_type  \\\n",
       "0      In other words #katandandre, your food was cra...                   3   \n",
       "1      Why is #aussietv so white? #MKR #theblock #ImA...                   3   \n",
       "2      @XochitlSuckkks a classy whore? Or more red ve...                   3   \n",
       "3      @Jason_Gio meh. :P  thanks for the heads up, b...                   3   \n",
       "4      @RudhoeEnglish This is an ISIS account pretend...                   3   \n",
       "...                                                  ...                 ...   \n",
       "47687  Black ppl aren't expected to do anything, depe...                   1   \n",
       "47688  Turner did not withhold his disappointment. Tu...                   1   \n",
       "47689  I swear to God. This dumb nigger bitch. I have...                   1   \n",
       "47690  Yea fuck you RT @therealexel: IF YOURE A NIGGE...                   1   \n",
       "47691  Bro. U gotta chill RT @CHILLShrammy: Dog FUCK ...                   1   \n",
       "\n",
       "                                            cleaned_text  \\\n",
       "0               [word, katandandr, food, crapilici, mkr]   \n",
       "1      [aussietv, white, mkr, theblock, imacelebritya...   \n",
       "2      [xochitlsuckkk, classi, whore, red, velvet, cu...   \n",
       "3      [jason, gio, meh, p, thank, head, concern, ano...   \n",
       "4      [rudhoeenglish, isi, account, pretend, kurdish...   \n",
       "...                                                  ...   \n",
       "47687  [black, ppl, expect, anyth, depend, anyth, yet...   \n",
       "47688  [turner, withhold, disappoint, turner, call, c...   \n",
       "47689  [swear, god, dumb, nigger, bitch, got, bleach,...   \n",
       "47690  [yea, fuck, rt, therealexel, your, nigger, fuc...   \n",
       "47691  [bro, u, got, ta, chill, rt, chillshrammi, dog...   \n",
       "\n",
       "                                               sequences  \n",
       "0                             [93, 2199, 645, 18603, 26]  \n",
       "1      [18595, 32, 26, 18119, 8421, 169, 18107, 5026,...  \n",
       "2                   [18675, 2005, 1216, 776, 9832, 4461]  \n",
       "3      [2145, 4838, 3236, 164, 174, 222, 859, 176, 71...  \n",
       "4          [10673, 112, 365, 820, 2824, 365, 3, 28, 191]  \n",
       "...                                                  ...  \n",
       "47687  [23, 156, 513, 74, 1441, 74, 267, 370, 2038, 1...  \n",
       "47688  [7353, 9648, 1414, 7353, 15, 1390, 8933, 33660...  \n",
       "47689  [756, 120, 7, 4, 30, 38, 2867, 311, 40987, 572...  \n",
       "47690     [977, 2, 14, 15415, 1413, 4, 2, 1437, 2, 7, 4]  \n",
       "47691  [463, 13, 38, 568, 1203, 14, 26808, 338, 2, 62...  \n",
       "\n",
       "[47692 rows x 4 columns]"
      ]
     },
     "execution_count": 455,
     "metadata": {},
     "output_type": "execute_result"
    }
   ],
   "source": [
    "df"
   ]
  },
  {
   "cell_type": "markdown",
   "id": "eab55e3b",
   "metadata": {},
   "source": [
    "## Selecting padding parameter"
   ]
  },
  {
   "cell_type": "code",
   "execution_count": 456,
   "id": "e5fcbcab",
   "metadata": {},
   "outputs": [],
   "source": [
    "lengths=[]\n",
    "for text in df['cleaned_text']:\n",
    "    x=len(text)\n",
    "    \n",
    "    lengths.append(x)"
   ]
  },
  {
   "cell_type": "code",
   "execution_count": 457,
   "id": "b80273ec",
   "metadata": {},
   "outputs": [
    {
     "data": {
      "text/plain": [
       "Counter({5: 1871,\n",
       "         11: 2974,\n",
       "         6: 2043,\n",
       "         9: 2760,\n",
       "         14: 2535,\n",
       "         10: 2881,\n",
       "         7: 2327,\n",
       "         4: 1559,\n",
       "         2: 756,\n",
       "         18: 1134,\n",
       "         8: 2549,\n",
       "         15: 2101,\n",
       "         12: 2910,\n",
       "         13: 2858,\n",
       "         3: 1173,\n",
       "         21: 1015,\n",
       "         23: 1121,\n",
       "         16: 1706,\n",
       "         20: 933,\n",
       "         1: 249,\n",
       "         17: 1343,\n",
       "         19: 1086,\n",
       "         24: 1131,\n",
       "         0: 43,\n",
       "         25: 1107,\n",
       "         22: 1055,\n",
       "         28: 705,\n",
       "         162: 1,\n",
       "         29: 549,\n",
       "         111: 2,\n",
       "         87: 1,\n",
       "         27: 869,\n",
       "         26: 936,\n",
       "         31: 266,\n",
       "         32: 225,\n",
       "         30: 410,\n",
       "         34: 123,\n",
       "         35: 67,\n",
       "         33: 135,\n",
       "         39: 17,\n",
       "         36: 43,\n",
       "         37: 37,\n",
       "         38: 15,\n",
       "         60: 2,\n",
       "         41: 10,\n",
       "         43: 6,\n",
       "         139: 1,\n",
       "         40: 15,\n",
       "         48: 2,\n",
       "         118: 1,\n",
       "         55: 1,\n",
       "         61: 1,\n",
       "         127: 1,\n",
       "         80: 1,\n",
       "         42: 4,\n",
       "         44: 4,\n",
       "         47: 2,\n",
       "         54: 1,\n",
       "         406: 1,\n",
       "         96: 1,\n",
       "         104: 1,\n",
       "         492: 1,\n",
       "         296: 1,\n",
       "         62: 1,\n",
       "         79: 1,\n",
       "         141: 2,\n",
       "         50: 1,\n",
       "         45: 2,\n",
       "         46: 1,\n",
       "         56: 1,\n",
       "         51: 1,\n",
       "         49: 1,\n",
       "         205: 1,\n",
       "         84: 1,\n",
       "         175: 1})"
      ]
     },
     "execution_count": 457,
     "metadata": {},
     "output_type": "execute_result"
    }
   ],
   "source": [
    "Counter(lengths)"
   ]
  },
  {
   "cell_type": "code",
   "execution_count": 458,
   "id": "6d821928",
   "metadata": {},
   "outputs": [
    {
     "data": {
      "image/png": "[encoded data removed]",
      "text/plain": [
       "<Figure size 2000x600 with 1 Axes>"
      ]
     },
     "metadata": {},
     "output_type": "display_data"
    }
   ],
   "source": [
    "import seaborn as sns\n",
    "import matplotlib.pyplot as plt\n",
    "\n",
    "plt.figure(figsize=(20, 6))\n",
    "\n",
    "sns.set_palette(\"pastel\")\n",
    "\n",
    "ax = sns.countplot(x=lengths, palette=\"viridis\")\n",
    "\n",
    "\n",
    "ax.set_xlabel(\"length of text\", fontsize=14)\n",
    "ax.set_ylabel(\"Count\", fontsize=14)\n",
    "ax.set_title(\"Countplot of Data\", fontsize=16)\n",
    "\n",
    "\n",
    "ax.tick_params(axis='x')\n",
    "ax.tick_params(axis='y', labelsize=12)\n",
    "\n",
    "\n",
    "ax.grid(True, linestyle='--', alpha=0.5)\n",
    "\n",
    "\n",
    "plt.show()\n"
   ]
  },
  {
   "cell_type": "code",
   "execution_count": 459,
   "id": "47837890",
   "metadata": {},
   "outputs": [],
   "source": [
    "# Pad the sequences to the correct length\n",
    "from tensorflow.keras.preprocessing.sequence import pad_sequences\n",
    "sequences_padded = pad_sequences(df['sequences'], maxlen=14, padding='post', truncating='post')\n"
   ]
  },
  {
   "cell_type": "code",
   "execution_count": 460,
   "id": "c30b7533",
   "metadata": {},
   "outputs": [
    {
     "data": {
      "text/plain": [
       "14"
      ]
     },
     "execution_count": 460,
     "metadata": {},
     "output_type": "execute_result"
    }
   ],
   "source": [
    "len(sequences_padded[20])"
   ]
  },
  {
   "cell_type": "code",
   "execution_count": null,
   "id": "b45702fb",
   "metadata": {},
   "outputs": [],
   "source": []
  },
  {
   "cell_type": "code",
   "execution_count": 461,
   "id": "f40059d5",
   "metadata": {},
   "outputs": [
    {
     "data": {
      "text/html": [
       "<div>\n",
       "<style scoped>\n",
       "    .dataframe tbody tr th:only-of-type {\n",
       "        vertical-align: middle;\n",
       "    }\n",
       "\n",
       "    .dataframe tbody tr th {\n",
       "        vertical-align: top;\n",
       "    }\n",
       "\n",
       "    .dataframe thead th {\n",
       "        text-align: right;\n",
       "    }\n",
       "</style>\n",
       "<table border=\"1\" class=\"dataframe\">\n",
       "  <thead>\n",
       "    <tr style=\"text-align: right;\">\n",
       "      <th></th>\n",
       "      <th>tweet_text</th>\n",
       "      <th>cyberbullying_type</th>\n",
       "      <th>cleaned_text</th>\n",
       "      <th>sequences</th>\n",
       "    </tr>\n",
       "  </thead>\n",
       "  <tbody>\n",
       "    <tr>\n",
       "      <th>0</th>\n",
       "      <td>In other words #katandandre, your food was cra...</td>\n",
       "      <td>3</td>\n",
       "      <td>[word, katandandr, food, crapilici, mkr]</td>\n",
       "      <td>[93, 2199, 645, 18603, 26]</td>\n",
       "    </tr>\n",
       "    <tr>\n",
       "      <th>1</th>\n",
       "      <td>Why is #aussietv so white? #MKR #theblock #ImA...</td>\n",
       "      <td>3</td>\n",
       "      <td>[aussietv, white, mkr, theblock, imacelebritya...</td>\n",
       "      <td>[18595, 32, 26, 18119, 8421, 169, 18107, 5026,...</td>\n",
       "    </tr>\n",
       "    <tr>\n",
       "      <th>2</th>\n",
       "      <td>@XochitlSuckkks a classy whore? Or more red ve...</td>\n",
       "      <td>3</td>\n",
       "      <td>[xochitlsuckkk, classi, whore, red, velvet, cu...</td>\n",
       "      <td>[18675, 2005, 1216, 776, 9832, 4461]</td>\n",
       "    </tr>\n",
       "    <tr>\n",
       "      <th>3</th>\n",
       "      <td>@Jason_Gio meh. :P  thanks for the heads up, b...</td>\n",
       "      <td>3</td>\n",
       "      <td>[jason, gio, meh, p, thank, head, concern, ano...</td>\n",
       "      <td>[2145, 4838, 3236, 164, 174, 222, 859, 176, 71...</td>\n",
       "    </tr>\n",
       "    <tr>\n",
       "      <th>4</th>\n",
       "      <td>@RudhoeEnglish This is an ISIS account pretend...</td>\n",
       "      <td>3</td>\n",
       "      <td>[rudhoeenglish, isi, account, pretend, kurdish...</td>\n",
       "      <td>[10673, 112, 365, 820, 2824, 365, 3, 28, 191]</td>\n",
       "    </tr>\n",
       "    <tr>\n",
       "      <th>...</th>\n",
       "      <td>...</td>\n",
       "      <td>...</td>\n",
       "      <td>...</td>\n",
       "      <td>...</td>\n",
       "    </tr>\n",
       "    <tr>\n",
       "      <th>47687</th>\n",
       "      <td>Black ppl aren't expected to do anything, depe...</td>\n",
       "      <td>1</td>\n",
       "      <td>[black, ppl, expect, anyth, depend, anyth, yet...</td>\n",
       "      <td>[23, 156, 513, 74, 1441, 74, 267, 370, 2038, 1...</td>\n",
       "    </tr>\n",
       "    <tr>\n",
       "      <th>47688</th>\n",
       "      <td>Turner did not withhold his disappointment. Tu...</td>\n",
       "      <td>1</td>\n",
       "      <td>[turner, withhold, disappoint, turner, call, c...</td>\n",
       "      <td>[7353, 9648, 1414, 7353, 15, 1390, 8933, 33660...</td>\n",
       "    </tr>\n",
       "    <tr>\n",
       "      <th>47689</th>\n",
       "      <td>I swear to God. This dumb nigger bitch. I have...</td>\n",
       "      <td>1</td>\n",
       "      <td>[swear, god, dumb, nigger, bitch, got, bleach,...</td>\n",
       "      <td>[756, 120, 7, 4, 30, 38, 2867, 311, 40987, 572...</td>\n",
       "    </tr>\n",
       "    <tr>\n",
       "      <th>47690</th>\n",
       "      <td>Yea fuck you RT @therealexel: IF YOURE A NIGGE...</td>\n",
       "      <td>1</td>\n",
       "      <td>[yea, fuck, rt, therealexel, your, nigger, fuc...</td>\n",
       "      <td>[977, 2, 14, 15415, 1413, 4, 2, 1437, 2, 7, 4]</td>\n",
       "    </tr>\n",
       "    <tr>\n",
       "      <th>47691</th>\n",
       "      <td>Bro. U gotta chill RT @CHILLShrammy: Dog FUCK ...</td>\n",
       "      <td>1</td>\n",
       "      <td>[bro, u, got, ta, chill, rt, chillshrammi, dog...</td>\n",
       "      <td>[463, 13, 38, 568, 1203, 14, 26808, 338, 2, 62...</td>\n",
       "    </tr>\n",
       "  </tbody>\n",
       "</table>\n",
       "<p>47692 rows × 4 columns</p>\n",
       "</div>"
      ],
      "text/plain": [
       "                                              tweet_text  cyberbullying_type  \\\n",
       "0      In other words #katandandre, your food was cra...                   3   \n",
       "1      Why is #aussietv so white? #MKR #theblock #ImA...                   3   \n",
       "2      @XochitlSuckkks a classy whore? Or more red ve...                   3   \n",
       "3      @Jason_Gio meh. :P  thanks for the heads up, b...                   3   \n",
       "4      @RudhoeEnglish This is an ISIS account pretend...                   3   \n",
       "...                                                  ...                 ...   \n",
       "47687  Black ppl aren't expected to do anything, depe...                   1   \n",
       "47688  Turner did not withhold his disappointment. Tu...                   1   \n",
       "47689  I swear to God. This dumb nigger bitch. I have...                   1   \n",
       "47690  Yea fuck you RT @therealexel: IF YOURE A NIGGE...                   1   \n",
       "47691  Bro. U gotta chill RT @CHILLShrammy: Dog FUCK ...                   1   \n",
       "\n",
       "                                            cleaned_text  \\\n",
       "0               [word, katandandr, food, crapilici, mkr]   \n",
       "1      [aussietv, white, mkr, theblock, imacelebritya...   \n",
       "2      [xochitlsuckkk, classi, whore, red, velvet, cu...   \n",
       "3      [jason, gio, meh, p, thank, head, concern, ano...   \n",
       "4      [rudhoeenglish, isi, account, pretend, kurdish...   \n",
       "...                                                  ...   \n",
       "47687  [black, ppl, expect, anyth, depend, anyth, yet...   \n",
       "47688  [turner, withhold, disappoint, turner, call, c...   \n",
       "47689  [swear, god, dumb, nigger, bitch, got, bleach,...   \n",
       "47690  [yea, fuck, rt, therealexel, your, nigger, fuc...   \n",
       "47691  [bro, u, got, ta, chill, rt, chillshrammi, dog...   \n",
       "\n",
       "                                               sequences  \n",
       "0                             [93, 2199, 645, 18603, 26]  \n",
       "1      [18595, 32, 26, 18119, 8421, 169, 18107, 5026,...  \n",
       "2                   [18675, 2005, 1216, 776, 9832, 4461]  \n",
       "3      [2145, 4838, 3236, 164, 174, 222, 859, 176, 71...  \n",
       "4          [10673, 112, 365, 820, 2824, 365, 3, 28, 191]  \n",
       "...                                                  ...  \n",
       "47687  [23, 156, 513, 74, 1441, 74, 267, 370, 2038, 1...  \n",
       "47688  [7353, 9648, 1414, 7353, 15, 1390, 8933, 33660...  \n",
       "47689  [756, 120, 7, 4, 30, 38, 2867, 311, 40987, 572...  \n",
       "47690     [977, 2, 14, 15415, 1413, 4, 2, 1437, 2, 7, 4]  \n",
       "47691  [463, 13, 38, 568, 1203, 14, 26808, 338, 2, 62...  \n",
       "\n",
       "[47692 rows x 4 columns]"
      ]
     },
     "execution_count": 461,
     "metadata": {},
     "output_type": "execute_result"
    }
   ],
   "source": [
    "df"
   ]
  },
  {
   "cell_type": "markdown",
   "id": "ee6e485d",
   "metadata": {},
   "source": [
    "### Split the data into training and test sets"
   ]
  },
  {
   "cell_type": "code",
   "execution_count": 462,
   "id": "4e9a5ca9",
   "metadata": {},
   "outputs": [],
   "source": [
    "\n",
    "X_train, X_test, y_train, y_test = train_test_split(sequences_padded, y, test_size=0.2, random_state=42)"
   ]
  },
  {
   "cell_type": "markdown",
   "id": "b9763e5c",
   "metadata": {},
   "source": [
    "# vanilla rnn"
   ]
  },
  {
   "cell_type": "code",
   "execution_count": 463,
   "id": "52ddad03",
   "metadata": {},
   "outputs": [
    {
     "name": "stdout",
     "output_type": "stream",
     "text": [
      "Epoch 1/5\n",
      "1193/1193 - 10s - loss: 0.7437 - accuracy: 0.7048 - val_loss: 0.7021 - val_accuracy: 0.7351 - 10s/epoch - 8ms/step\n",
      "Epoch 2/5\n",
      "1193/1193 - 7s - loss: 0.6119 - accuracy: 0.7549 - val_loss: 0.6307 - val_accuracy: 0.7513 - 7s/epoch - 6ms/step\n",
      "Epoch 3/5\n",
      "1193/1193 - 7s - loss: 0.5840 - accuracy: 0.7653 - val_loss: 0.6109 - val_accuracy: 0.7640 - 7s/epoch - 6ms/step\n",
      "Epoch 4/5\n",
      "1193/1193 - 7s - loss: 0.5724 - accuracy: 0.7710 - val_loss: 0.5838 - val_accuracy: 0.7752 - 7s/epoch - 6ms/step\n",
      "Epoch 5/5\n",
      "1193/1193 - 7s - loss: 0.5531 - accuracy: 0.7780 - val_loss: 0.5925 - val_accuracy: 0.7647 - 7s/epoch - 6ms/step\n"
     ]
    },
    {
     "data": {
      "text/plain": [
       "<keras.callbacks.History at 0x1d3e9b2bc70>"
      ]
     },
     "execution_count": 463,
     "metadata": {},
     "output_type": "execute_result"
    }
   ],
   "source": [
    "\n",
    "\n",
    "\n",
    "rnn_model = Sequential()\n",
    "rnn_model.add(Embedding(input_dim=len(model.wv), output_dim=300, weights=[embedding_matrix], input_length=14, trainable=False))\n",
    "rnn_model.add(SimpleRNN(128))\n",
    "rnn_model.add(Dense(6))\n",
    "rnn_model.add(Activation(\"softmax\"))\n",
    "\n",
    "\n",
    "rnn_model.compile(loss='categorical_crossentropy', optimizer='adam', metrics=['accuracy'])\n",
    "\n",
    "\n",
    "rnn_model.fit(X_train, y_train, batch_size=32, epochs=5, validation_data=(X_test, y_test), verbose=2)\n"
   ]
  },
  {
   "cell_type": "code",
   "execution_count": 464,
   "id": "bc1983c1",
   "metadata": {},
   "outputs": [
    {
     "name": "stdout",
     "output_type": "stream",
     "text": [
      "Test Accuracy: 0.7646504044532776\n"
     ]
    }
   ],
   "source": [
    "loss, accuracy = rnn_model.evaluate(X_test, y_test, verbose=0)\n",
    "vanilla_accuracy=accuracy\n",
    "print(f\"Test Accuracy: {accuracy}\")\n"
   ]
  },
  {
   "cell_type": "code",
   "execution_count": 465,
   "id": "a5569302",
   "metadata": {},
   "outputs": [
    {
     "name": "stdout",
     "output_type": "stream",
     "text": [
      "299/299 [==============================] - 1s 3ms/step\n",
      "              precision    recall  f1-score   support\n",
      "\n",
      "           0       0.89      0.92      0.91      1603\n",
      "           1       0.97      0.91      0.94      1603\n",
      "           2       0.95      0.67      0.79      1531\n",
      "           3       0.64      0.32      0.43      1624\n",
      "           4       0.48      0.91      0.63      1612\n",
      "           5       0.93      0.86      0.90      1566\n",
      "\n",
      "    accuracy                           0.76      9539\n",
      "   macro avg       0.81      0.77      0.76      9539\n",
      "weighted avg       0.81      0.76      0.76      9539\n",
      "\n"
     ]
    }
   ],
   "source": [
    "\n",
    "from sklearn.metrics import classification_report, roc_curve, auc\n",
    "import matplotlib.pyplot as plt\n",
    "\n",
    "\n",
    "y_pred = rnn_model.predict(X_test)\n",
    "\n",
    "\n",
    "y_pred_labels = np.argmax(y_pred, axis=1)\n",
    "y_test_labels = np.argmax(y_test, axis=1)\n",
    "\n",
    "\n",
    "report = classification_report(y_test_labels, y_pred_labels)\n",
    "print(report)\n"
   ]
  },
  {
   "cell_type": "markdown",
   "id": "c2436a66",
   "metadata": {},
   "source": [
    "## GRU"
   ]
  },
  {
   "cell_type": "code",
   "execution_count": 318,
   "id": "cbdfb73b",
   "metadata": {},
   "outputs": [],
   "source": [
    "\n",
    "\n",
    "GRU_model = Sequential()\n",
    "GRU_model.add(Embedding(input_dim=len(model.wv), output_dim=300, weights=[embedding_matrix], input_length=14, trainable=False))\n",
    "GRU_model.add(SpatialDropout1D(0.2))\n",
    "GRU_model.add(GRU(128,return_sequences=True))\n",
    "GRU_model.add(Conv1D(64, kernel_size=3, padding=\"valid\", kernel_initializer=\"glorot_uniform\"))\n",
    "GRU_model.add(GlobalMaxPooling1D())\n",
    "GRU_model.add(Dense(6))\n",
    "GRU_model.add(Activation(\"softmax\"))\n"
   ]
  },
  {
   "cell_type": "code",
   "execution_count": 319,
   "id": "9524ec50",
   "metadata": {},
   "outputs": [
    {
     "name": "stdout",
     "output_type": "stream",
     "text": [
      "Epoch 1/5\n",
      "1193/1193 - 47s - loss: 0.6116 - accuracy: 0.7535 - val_loss: 0.5280 - val_accuracy: 0.7879 - 47s/epoch - 40ms/step\n",
      "Epoch 2/5\n",
      "1193/1193 - 21s - loss: 0.5000 - accuracy: 0.7963 - val_loss: 0.4934 - val_accuracy: 0.8060 - 21s/epoch - 18ms/step\n",
      "Epoch 3/5\n",
      "1193/1193 - 35s - loss: 0.4720 - accuracy: 0.8087 - val_loss: 0.4897 - val_accuracy: 0.8108 - 35s/epoch - 29ms/step\n",
      "Epoch 4/5\n",
      "1193/1193 - 19s - loss: 0.4481 - accuracy: 0.8167 - val_loss: 0.4711 - val_accuracy: 0.8150 - 19s/epoch - 16ms/step\n",
      "Epoch 5/5\n",
      "1193/1193 - 17s - loss: 0.4299 - accuracy: 0.8243 - val_loss: 0.4697 - val_accuracy: 0.8165 - 17s/epoch - 14ms/step\n"
     ]
    },
    {
     "data": {
      "text/plain": [
       "<keras.callbacks.History at 0x1d3c3b6e9e0>"
      ]
     },
     "execution_count": 319,
     "metadata": {},
     "output_type": "execute_result"
    }
   ],
   "source": [
    "\n",
    "GRU_model.compile(loss='categorical_crossentropy', optimizer='adam', metrics=['accuracy'])\n",
    "GRU_model.fit(X_train, y_train, batch_size=32, epochs=5, validation_data=(X_test, y_test), verbose=2)\n"
   ]
  },
  {
   "cell_type": "code",
   "execution_count": 320,
   "id": "002ca8b3",
   "metadata": {},
   "outputs": [
    {
     "name": "stdout",
     "output_type": "stream",
     "text": [
      "Test Accuracy: 0.8165426254272461\n"
     ]
    }
   ],
   "source": [
    "loss, accuracy = GRU_model.evaluate(X_test, y_test, verbose=0)\n",
    "print(f\"Test Accuracy: {accuracy}\")\n",
    "GRU_accuracy=accuracy\n"
   ]
  },
  {
   "cell_type": "code",
   "execution_count": 321,
   "id": "dfff6797",
   "metadata": {},
   "outputs": [
    {
     "name": "stdout",
     "output_type": "stream",
     "text": [
      "299/299 [==============================] - 2s 5ms/step\n",
      "              precision    recall  f1-score   support\n",
      "\n",
      "           0       0.94      0.93      0.93      1603\n",
      "           1       0.96      0.96      0.96      1603\n",
      "           2       0.84      0.82      0.83      1531\n",
      "           3       0.74      0.43      0.55      1624\n",
      "           4       0.58      0.84      0.69      1612\n",
      "           5       0.91      0.93      0.92      1566\n",
      "\n",
      "    accuracy                           0.82      9539\n",
      "   macro avg       0.83      0.82      0.81      9539\n",
      "weighted avg       0.83      0.82      0.81      9539\n",
      "\n"
     ]
    }
   ],
   "source": [
    "\n",
    "y_pred = GRU_model.predict(X_test)\n",
    "\n",
    "\n",
    "y_pred_labels = np.argmax(y_pred, axis=1)\n",
    "y_test_labels = np.argmax(y_test, axis=1)\n",
    "\n",
    "\n",
    "report = classification_report(y_test_labels, y_pred_labels)\n",
    "print(report)"
   ]
  },
  {
   "cell_type": "markdown",
   "id": "72d1c870",
   "metadata": {},
   "source": [
    "## Biderectional LSTM"
   ]
  },
  {
   "cell_type": "code",
   "execution_count": 466,
   "id": "cbf18fc6",
   "metadata": {},
   "outputs": [],
   "source": [
    "\n",
    "from tensorflow.keras.models import Sequential\n",
    "\n",
    "sequential_model = Sequential()\n",
    "sequential_model.add(Embedding(input_dim=len(model.wv), output_dim=300, weights=[embedding_matrix], input_length=14, trainable=False))\n",
    "sequential_model.add(SpatialDropout1D(0.2))\n",
    "sequential_model.add(Bidirectional(LSTM(128, return_sequences=True)))\n",
    "sequential_model.add(Conv1D(64, kernel_size=3, padding=\"valid\", kernel_initializer=\"glorot_uniform\"))\n",
    "sequential_model.add(GlobalMaxPooling1D())\n",
    "sequential_model.add(Dense(6))\n",
    "sequential_model.add(Activation(\"softmax\"))\n"
   ]
  },
  {
   "cell_type": "code",
   "execution_count": 467,
   "id": "428abdcd",
   "metadata": {},
   "outputs": [
    {
     "name": "stdout",
     "output_type": "stream",
     "text": [
      "Epoch 1/5\n",
      "1193/1193 - 72s - loss: 0.6031 - accuracy: 0.7590 - val_loss: 0.5234 - val_accuracy: 0.7943 - 72s/epoch - 61ms/step\n",
      "Epoch 2/5\n",
      "1193/1193 - 69s - loss: 0.4943 - accuracy: 0.7984 - val_loss: 0.4982 - val_accuracy: 0.8036 - 69s/epoch - 57ms/step\n",
      "Epoch 3/5\n",
      "1193/1193 - 53s - loss: 0.4636 - accuracy: 0.8101 - val_loss: 0.4680 - val_accuracy: 0.8144 - 53s/epoch - 45ms/step\n",
      "Epoch 4/5\n",
      "1193/1193 - 50s - loss: 0.4444 - accuracy: 0.8166 - val_loss: 0.4580 - val_accuracy: 0.8193 - 50s/epoch - 42ms/step\n",
      "Epoch 5/5\n",
      "1193/1193 - 51s - loss: 0.4225 - accuracy: 0.8263 - val_loss: 0.4657 - val_accuracy: 0.8127 - 51s/epoch - 42ms/step\n"
     ]
    },
    {
     "data": {
      "text/plain": [
       "<keras.callbacks.History at 0x1d3f805f0a0>"
      ]
     },
     "execution_count": 467,
     "metadata": {},
     "output_type": "execute_result"
    }
   ],
   "source": [
    "\n",
    "sequential_model.compile(loss='categorical_crossentropy', optimizer='adam', metrics=['accuracy'])\n",
    "sequential_model.fit(X_train, y_train, batch_size=32, epochs=5, validation_data=(X_test, y_test), verbose=2)\n"
   ]
  },
  {
   "cell_type": "code",
   "execution_count": 468,
   "id": "579c9fb4",
   "metadata": {},
   "outputs": [
    {
     "name": "stdout",
     "output_type": "stream",
     "text": [
      "Test Accuracy: 0.8126637935638428\n"
     ]
    }
   ],
   "source": [
    "loss, accuracy = sequential_model.evaluate(X_test, y_test, verbose=0)\n",
    "print(f\"Test Accuracy: {accuracy}\")\n",
    "bid_accuracy=accuracy"
   ]
  },
  {
   "cell_type": "code",
   "execution_count": 325,
   "id": "44380800",
   "metadata": {},
   "outputs": [
    {
     "name": "stdout",
     "output_type": "stream",
     "text": [
      "299/299 [==============================] - 3s 7ms/step\n",
      "              precision    recall  f1-score   support\n",
      "\n",
      "           0       0.88      0.96      0.92      1603\n",
      "           1       0.97      0.94      0.95      1603\n",
      "           2       0.83      0.84      0.83      1531\n",
      "           3       0.53      0.75      0.62      1624\n",
      "           4       0.71      0.38      0.50      1612\n",
      "           5       0.93      0.91      0.92      1566\n",
      "\n",
      "    accuracy                           0.79      9539\n",
      "   macro avg       0.81      0.80      0.79      9539\n",
      "weighted avg       0.81      0.79      0.79      9539\n",
      "\n"
     ]
    }
   ],
   "source": [
    "\n",
    "y_pred = sequential_model.predict(X_test)\n",
    "\n",
    "\n",
    "y_pred_labels = np.argmax(y_pred, axis=1)\n",
    "y_test_labels = np.argmax(y_test, axis=1)\n",
    "\n",
    "\n",
    "report = classification_report(y_test_labels, y_pred_labels)\n",
    "print(report)"
   ]
  },
  {
   "cell_type": "markdown",
   "id": "2739d631",
   "metadata": {},
   "source": [
    "### ANN MODEL"
   ]
  },
  {
   "cell_type": "code",
   "execution_count": 328,
   "id": "2a051b00",
   "metadata": {},
   "outputs": [],
   "source": [
    "ann_model = Sequential()\n",
    "ann_model.add(Embedding(input_dim=len(model.wv), output_dim=300, weights=[embedding_matrix], input_length=14, trainable=False))\n",
    "ann_model.add(Flatten())\n",
    "\n",
    "ann_model.add(Dense(128, activation='relu'))\n",
    "\n",
    "\n",
    "ann_model.add(Dropout(0.5))\n",
    "\n",
    "\n",
    "ann_model.add(Dense(6, activation='softmax'))\n",
    "\n",
    "ann_model.compile(loss='categorical_crossentropy', optimizer='adam', metrics=['accuracy'])"
   ]
  },
  {
   "cell_type": "code",
   "execution_count": 329,
   "id": "703fc9ce",
   "metadata": {},
   "outputs": [
    {
     "name": "stdout",
     "output_type": "stream",
     "text": [
      "Epoch 1/5\n",
      "1193/1193 - 4s - loss: 0.8101 - accuracy: 0.6838 - val_loss: 0.6052 - val_accuracy: 0.7617 - 4s/epoch - 3ms/step\n",
      "Epoch 2/5\n",
      "1193/1193 - 3s - loss: 0.6581 - accuracy: 0.7366 - val_loss: 0.5810 - val_accuracy: 0.7720 - 3s/epoch - 3ms/step\n",
      "Epoch 3/5\n",
      "1193/1193 - 3s - loss: 0.6269 - accuracy: 0.7459 - val_loss: 0.5637 - val_accuracy: 0.7746 - 3s/epoch - 3ms/step\n",
      "Epoch 4/5\n",
      "1193/1193 - 3s - loss: 0.6064 - accuracy: 0.7548 - val_loss: 0.5690 - val_accuracy: 0.7726 - 3s/epoch - 3ms/step\n",
      "Epoch 5/5\n",
      "1193/1193 - 3s - loss: 0.5885 - accuracy: 0.7590 - val_loss: 0.5739 - val_accuracy: 0.7747 - 3s/epoch - 2ms/step\n",
      "Test Accuracy: 0.7747143507003784\n"
     ]
    }
   ],
   "source": [
    "\n",
    "ann_model.compile(loss='categorical_crossentropy', optimizer='adam', metrics=['accuracy'])\n",
    "ann_model.fit(X_train, y_train, batch_size=32, epochs=5, validation_data=(X_test, y_test), verbose=2)\n",
    "loss, accuracy = ann_model.evaluate(X_test, y_test, verbose=0)\n",
    "print(f\"Test Accuracy: {accuracy}\")\n",
    "ann_accuracy=accuracy\n"
   ]
  },
  {
   "cell_type": "markdown",
   "id": "dfb4a7d3",
   "metadata": {},
   "source": [
    "### LSTM MODEL"
   ]
  },
  {
   "cell_type": "code",
   "execution_count": 330,
   "id": "b77b3d18",
   "metadata": {},
   "outputs": [],
   "source": [
    "lstm_model = Sequential()\n",
    "\n",
    "\n",
    "lstm_model.add(Embedding(input_dim=len(model.wv), output_dim=300, weights=[embedding_matrix], input_length=14, trainable=False))\n",
    "\n",
    "\n",
    "lstm_model.add(LSTM(128))\n",
    "\n",
    "\n",
    "lstm_model.add(Dense(6))\n",
    "lstm_model.add(Activation(\"softmax\"))\n",
    "\n",
    "\n",
    "lstm_model.compile(loss='categorical_crossentropy', optimizer='adam', metrics=['accuracy'])\n",
    "\n",
    "\n"
   ]
  },
  {
   "cell_type": "code",
   "execution_count": 331,
   "id": "7c21fd71",
   "metadata": {},
   "outputs": [
    {
     "name": "stdout",
     "output_type": "stream",
     "text": [
      "Epoch 1/5\n",
      "1193/1193 - 16s - loss: 0.6211 - accuracy: 0.7483 - val_loss: 0.5336 - val_accuracy: 0.7835 - 16s/epoch - 13ms/step\n",
      "Epoch 2/5\n",
      "1193/1193 - 15s - loss: 0.4967 - accuracy: 0.7949 - val_loss: 0.4956 - val_accuracy: 0.7925 - 15s/epoch - 12ms/step\n",
      "Epoch 3/5\n",
      "1193/1193 - 16s - loss: 0.4645 - accuracy: 0.8067 - val_loss: 0.4868 - val_accuracy: 0.7982 - 16s/epoch - 13ms/step\n",
      "Epoch 4/5\n",
      "1193/1193 - 15s - loss: 0.4447 - accuracy: 0.8144 - val_loss: 0.4791 - val_accuracy: 0.8090 - 15s/epoch - 13ms/step\n",
      "Epoch 5/5\n",
      "1193/1193 - 14s - loss: 0.4271 - accuracy: 0.8218 - val_loss: 0.4560 - val_accuracy: 0.8169 - 14s/epoch - 12ms/step\n",
      "Test Accuracy: 0.816857099533081\n"
     ]
    }
   ],
   "source": [
    "\n",
    "lstm_model.compile(loss='categorical_crossentropy', optimizer='adam', metrics=['accuracy'])\n",
    "lstm_model.fit(X_train, y_train, batch_size=32, epochs=5, validation_data=(X_test, y_test), verbose=2)\n",
    "loss, accuracy = lstm_model.evaluate(X_test, y_test, verbose=0)\n",
    "print(f\"Test Accuracy: {accuracy}\")\n",
    "lstm_accuracy=accuracy\n"
   ]
  },
  {
   "cell_type": "markdown",
   "id": "33ec1776",
   "metadata": {},
   "source": [
    "## Comparison"
   ]
  },
  {
   "cell_type": "code",
   "execution_count": 491,
   "id": "368ec19a",
   "metadata": {},
   "outputs": [
    {
     "data": {
      "application/vnd.plotly.v1+json": {
       "config": {
        "plotlyServerURL": "https://plot.ly"
       },
       "data": [
        {
         "marker": {
          "color": "orange"
         },
         "type": "bar",
         "x": [
          "Vanilla_RNN",
          "GRU",
          "Bidirec-LSTM",
          "ANN",
          "LSTM"
         ],
         "y": [
          0.7646504044532776,
          0.8165426254272461,
          0.8126637935638428,
          0.7747143507003784,
          0.816857099533081
         ]
        }
       ],
       "layout": {
        "template": {
         "data": {
          "bar": [
           {
            "error_x": {
             "color": "#2a3f5f"
            },
            "error_y": {
             "color": "#2a3f5f"
            },
            "marker": {
             "line": {
              "color": "#E5ECF6",
              "width": 0.5
             },
             "pattern": {
              "fillmode": "overlay",
              "size": 10,
              "solidity": 0.2
             }
            },
            "type": "bar"
           }
          ],
          "barpolar": [
           {
            "marker": {
             "line": {
              "color": "#E5ECF6",
              "width": 0.5
             },
             "pattern": {
              "fillmode": "overlay",
              "size": 10,
              "solidity": 0.2
             }
            },
            "type": "barpolar"
           }
          ],
          "carpet": [
           {
            "aaxis": {
             "endlinecolor": "#2a3f5f",
             "gridcolor": "white",
             "linecolor": "white",
             "minorgridcolor": "white",
             "startlinecolor": "#2a3f5f"
            },
            "baxis": {
             "endlinecolor": "#2a3f5f",
             "gridcolor": "white",
             "linecolor": "white",
             "minorgridcolor": "white",
             "startlinecolor": "#2a3f5f"
            },
            "type": "carpet"
           }
          ],
          "choropleth": [
           {
            "colorbar": {
             "outlinewidth": 0,
             "ticks": ""
            },
            "type": "choropleth"
           }
          ],
          "contour": [
           {
            "colorbar": {
             "outlinewidth": 0,
             "ticks": ""
            },
            "colorscale": [
             [
              0,
              "#0d0887"
             ],
             [
              0.1111111111111111,
              "#46039f"
             ],
             [
              0.2222222222222222,
              "#7201a8"
             ],
             [
              0.3333333333333333,
              "#9c179e"
             ],
             [
              0.4444444444444444,
              "#bd3786"
             ],
             [
              0.5555555555555556,
              "#d8576b"
             ],
             [
              0.6666666666666666,
              "#ed7953"
             ],
             [
              0.7777777777777778,
              "#fb9f3a"
             ],
             [
              0.8888888888888888,
              "#fdca26"
             ],
             [
              1,
              "#f0f921"
             ]
            ],
            "type": "contour"
           }
          ],
          "contourcarpet": [
           {
            "colorbar": {
             "outlinewidth": 0,
             "ticks": ""
            },
            "type": "contourcarpet"
           }
          ],
          "heatmap": [
           {
            "colorbar": {
             "outlinewidth": 0,
             "ticks": ""
            },
            "colorscale": [
             [
              0,
              "#0d0887"
             ],
             [
              0.1111111111111111,
              "#46039f"
             ],
             [
              0.2222222222222222,
              "#7201a8"
             ],
             [
              0.3333333333333333,
              "#9c179e"
             ],
             [
              0.4444444444444444,
              "#bd3786"
             ],
             [
              0.5555555555555556,
              "#d8576b"
             ],
             [
              0.6666666666666666,
              "#ed7953"
             ],
             [
              0.7777777777777778,
              "#fb9f3a"
             ],
             [
              0.8888888888888888,
              "#fdca26"
             ],
             [
              1,
              "#f0f921"
             ]
            ],
            "type": "heatmap"
           }
          ],
          "heatmapgl": [
           {
            "colorbar": {
             "outlinewidth": 0,
             "ticks": ""
            },
            "colorscale": [
             [
              0,
              "#0d0887"
             ],
             [
              0.1111111111111111,
              "#46039f"
             ],
             [
              0.2222222222222222,
              "#7201a8"
             ],
             [
              0.3333333333333333,
              "#9c179e"
             ],
             [
              0.4444444444444444,
              "#bd3786"
             ],
             [
              0.5555555555555556,
              "#d8576b"
             ],
             [
              0.6666666666666666,
              "#ed7953"
             ],
             [
              0.7777777777777778,
              "#fb9f3a"
             ],
             [
              0.8888888888888888,
              "#fdca26"
             ],
             [
              1,
              "#f0f921"
             ]
            ],
            "type": "heatmapgl"
           }
          ],
          "histogram": [
           {
            "marker": {
             "pattern": {
              "fillmode": "overlay",
              "size": 10,
              "solidity": 0.2
             }
            },
            "type": "histogram"
           }
          ],
          "histogram2d": [
           {
            "colorbar": {
             "outlinewidth": 0,
             "ticks": ""
            },
            "colorscale": [
             [
              0,
              "#0d0887"
             ],
             [
              0.1111111111111111,
              "#46039f"
             ],
             [
              0.2222222222222222,
              "#7201a8"
             ],
             [
              0.3333333333333333,
              "#9c179e"
             ],
             [
              0.4444444444444444,
              "#bd3786"
             ],
             [
              0.5555555555555556,
              "#d8576b"
             ],
             [
              0.6666666666666666,
              "#ed7953"
             ],
             [
              0.7777777777777778,
              "#fb9f3a"
             ],
             [
              0.8888888888888888,
              "#fdca26"
             ],
             [
              1,
              "#f0f921"
             ]
            ],
            "type": "histogram2d"
           }
          ],
          "histogram2dcontour": [
           {
            "colorbar": {
             "outlinewidth": 0,
             "ticks": ""
            },
            "colorscale": [
             [
              0,
              "#0d0887"
             ],
             [
              0.1111111111111111,
              "#46039f"
             ],
             [
              0.2222222222222222,
              "#7201a8"
             ],
             [
              0.3333333333333333,
              "#9c179e"
             ],
             [
              0.4444444444444444,
              "#bd3786"
             ],
             [
              0.5555555555555556,
              "#d8576b"
             ],
             [
              0.6666666666666666,
              "#ed7953"
             ],
             [
              0.7777777777777778,
              "#fb9f3a"
             ],
             [
              0.8888888888888888,
              "#fdca26"
             ],
             [
              1,
              "#f0f921"
             ]
            ],
            "type": "histogram2dcontour"
           }
          ],
          "mesh3d": [
           {
            "colorbar": {
             "outlinewidth": 0,
             "ticks": ""
            },
            "type": "mesh3d"
           }
          ],
          "parcoords": [
           {
            "line": {
             "colorbar": {
              "outlinewidth": 0,
              "ticks": ""
             }
            },
            "type": "parcoords"
           }
          ],
          "pie": [
           {
            "automargin": true,
            "type": "pie"
           }
          ],
          "scatter": [
           {
            "fillpattern": {
             "fillmode": "overlay",
             "size": 10,
             "solidity": 0.2
            },
            "type": "scatter"
           }
          ],
          "scatter3d": [
           {
            "line": {
             "colorbar": {
              "outlinewidth": 0,
              "ticks": ""
             }
            },
            "marker": {
             "colorbar": {
              "outlinewidth": 0,
              "ticks": ""
             }
            },
            "type": "scatter3d"
           }
          ],
          "scattercarpet": [
           {
            "marker": {
             "colorbar": {
              "outlinewidth": 0,
              "ticks": ""
             }
            },
            "type": "scattercarpet"
           }
          ],
          "scattergeo": [
           {
            "marker": {
             "colorbar": {
              "outlinewidth": 0,
              "ticks": ""
             }
            },
            "type": "scattergeo"
           }
          ],
          "scattergl": [
           {
            "marker": {
             "colorbar": {
              "outlinewidth": 0,
              "ticks": ""
             }
            },
            "type": "scattergl"
           }
          ],
          "scattermapbox": [
           {
            "marker": {
             "colorbar": {
              "outlinewidth": 0,
              "ticks": ""
             }
            },
            "type": "scattermapbox"
           }
          ],
          "scatterpolar": [
           {
            "marker": {
             "colorbar": {
              "outlinewidth": 0,
              "ticks": ""
             }
            },
            "type": "scatterpolar"
           }
          ],
          "scatterpolargl": [
           {
            "marker": {
             "colorbar": {
              "outlinewidth": 0,
              "ticks": ""
             }
            },
            "type": "scatterpolargl"
           }
          ],
          "scatterternary": [
           {
            "marker": {
             "colorbar": {
              "outlinewidth": 0,
              "ticks": ""
             }
            },
            "type": "scatterternary"
           }
          ],
          "surface": [
           {
            "colorbar": {
             "outlinewidth": 0,
             "ticks": ""
            },
            "colorscale": [
             [
              0,
              "#0d0887"
             ],
             [
              0.1111111111111111,
              "#46039f"
             ],
             [
              0.2222222222222222,
              "#7201a8"
             ],
             [
              0.3333333333333333,
              "#9c179e"
             ],
             [
              0.4444444444444444,
              "#bd3786"
             ],
             [
              0.5555555555555556,
              "#d8576b"
             ],
             [
              0.6666666666666666,
              "#ed7953"
             ],
             [
              0.7777777777777778,
              "#fb9f3a"
             ],
             [
              0.8888888888888888,
              "#fdca26"
             ],
             [
              1,
              "#f0f921"
             ]
            ],
            "type": "surface"
           }
          ],
          "table": [
           {
            "cells": {
             "fill": {
              "color": "#EBF0F8"
             },
             "line": {
              "color": "white"
             }
            },
            "header": {
             "fill": {
              "color": "#C8D4E3"
             },
             "line": {
              "color": "white"
             }
            },
            "type": "table"
           }
          ]
         },
         "layout": {
          "annotationdefaults": {
           "arrowcolor": "#2a3f5f",
           "arrowhead": 0,
           "arrowwidth": 1
          },
          "autotypenumbers": "strict",
          "coloraxis": {
           "colorbar": {
            "outlinewidth": 0,
            "ticks": ""
           }
          },
          "colorscale": {
           "diverging": [
            [
             0,
             "#8e0152"
            ],
            [
             0.1,
             "#c51b7d"
            ],
            [
             0.2,
             "#de77ae"
            ],
            [
             0.3,
             "#f1b6da"
            ],
            [
             0.4,
             "#fde0ef"
            ],
            [
             0.5,
             "#f7f7f7"
            ],
            [
             0.6,
             "#e6f5d0"
            ],
            [
             0.7,
             "#b8e186"
            ],
            [
             0.8,
             "#7fbc41"
            ],
            [
             0.9,
             "#4d9221"
            ],
            [
             1,
             "#276419"
            ]
           ],
           "sequential": [
            [
             0,
             "#0d0887"
            ],
            [
             0.1111111111111111,
             "#46039f"
            ],
            [
             0.2222222222222222,
             "#7201a8"
            ],
            [
             0.3333333333333333,
             "#9c179e"
            ],
            [
             0.4444444444444444,
             "#bd3786"
            ],
            [
             0.5555555555555556,
             "#d8576b"
            ],
            [
             0.6666666666666666,
             "#ed7953"
            ],
            [
             0.7777777777777778,
             "#fb9f3a"
            ],
            [
             0.8888888888888888,
             "#fdca26"
            ],
            [
             1,
             "#f0f921"
            ]
           ],
           "sequentialminus": [
            [
             0,
             "#0d0887"
            ],
            [
             0.1111111111111111,
             "#46039f"
            ],
            [
             0.2222222222222222,
             "#7201a8"
            ],
            [
             0.3333333333333333,
             "#9c179e"
            ],
            [
             0.4444444444444444,
             "#bd3786"
            ],
            [
             0.5555555555555556,
             "#d8576b"
            ],
            [
             0.6666666666666666,
             "#ed7953"
            ],
            [
             0.7777777777777778,
             "#fb9f3a"
            ],
            [
             0.8888888888888888,
             "#fdca26"
            ],
            [
             1,
             "#f0f921"
            ]
           ]
          },
          "colorway": [
           "#636efa",
           "#EF553B",
           "#00cc96",
           "#ab63fa",
           "#FFA15A",
           "#19d3f3",
           "#FF6692",
           "#B6E880",
           "#FF97FF",
           "#FECB52"
          ],
          "font": {
           "color": "#2a3f5f"
          },
          "geo": {
           "bgcolor": "white",
           "lakecolor": "white",
           "landcolor": "#E5ECF6",
           "showlakes": true,
           "showland": true,
           "subunitcolor": "white"
          },
          "hoverlabel": {
           "align": "left"
          },
          "hovermode": "closest",
          "mapbox": {
           "style": "light"
          },
          "paper_bgcolor": "white",
          "plot_bgcolor": "#E5ECF6",
          "polar": {
           "angularaxis": {
            "gridcolor": "white",
            "linecolor": "white",
            "ticks": ""
           },
           "bgcolor": "#E5ECF6",
           "radialaxis": {
            "gridcolor": "white",
            "linecolor": "white",
            "ticks": ""
           }
          },
          "scene": {
           "xaxis": {
            "backgroundcolor": "#E5ECF6",
            "gridcolor": "white",
            "gridwidth": 2,
            "linecolor": "white",
            "showbackground": true,
            "ticks": "",
            "zerolinecolor": "white"
           },
           "yaxis": {
            "backgroundcolor": "#E5ECF6",
            "gridcolor": "white",
            "gridwidth": 2,
            "linecolor": "white",
            "showbackground": true,
            "ticks": "",
            "zerolinecolor": "white"
           },
           "zaxis": {
            "backgroundcolor": "#E5ECF6",
            "gridcolor": "white",
            "gridwidth": 2,
            "linecolor": "white",
            "showbackground": true,
            "ticks": "",
            "zerolinecolor": "white"
           }
          },
          "shapedefaults": {
           "line": {
            "color": "#2a3f5f"
           }
          },
          "ternary": {
           "aaxis": {
            "gridcolor": "white",
            "linecolor": "white",
            "ticks": ""
           },
           "baxis": {
            "gridcolor": "white",
            "linecolor": "white",
            "ticks": ""
           },
           "bgcolor": "#E5ECF6",
           "caxis": {
            "gridcolor": "white",
            "linecolor": "white",
            "ticks": ""
           }
          },
          "title": {
           "x": 0.05
          },
          "xaxis": {
           "automargin": true,
           "gridcolor": "white",
           "linecolor": "white",
           "ticks": "",
           "title": {
            "standoff": 15
           },
           "zerolinecolor": "white",
           "zerolinewidth": 2
          },
          "yaxis": {
           "automargin": true,
           "gridcolor": "white",
           "linecolor": "white",
           "ticks": "",
           "title": {
            "standoff": 15
           },
           "zerolinecolor": "white",
           "zerolinewidth": 2
          }
         }
        },
        "title": {
         "text": "Accuracy of Models"
        },
        "xaxis": {
         "title": {
          "text": "Models"
         }
        },
        "yaxis": {
         "title": {
          "text": "Accuracy"
         }
        }
       }
      },
      "text/html": [
       "<div>                            <div id=\"471eba77-6645-41ef-89f1-e34ecce5e964\" class=\"plotly-graph-div\" style=\"height:525px; width:100%;\"></div>            <script type=\"text/javascript\">                require([\"plotly\"], function(Plotly) {                    window.PLOTLYENV=window.PLOTLYENV || {};                                    if (document.getElementById(\"471eba77-6645-41ef-89f1-e34ecce5e964\")) {                    Plotly.newPlot(                        \"471eba77-6645-41ef-89f1-e34ecce5e964\",                        [{\"marker\":{\"color\":\"orange\"},\"x\":[\"Vanilla_RNN\",\"GRU\",\"Bidirec-LSTM\",\"ANN\",\"LSTM\"],\"y\":[0.7646504044532776,0.8165426254272461,0.8126637935638428,0.7747143507003784,0.816857099533081],\"type\":\"bar\"}],                        {\"template\":{\"data\":{\"histogram2dcontour\":[{\"type\":\"histogram2dcontour\",\"colorbar\":{\"outlinewidth\":0,\"ticks\":\"\"},\"colorscale\":[[0.0,\"#0d0887\"],[0.1111111111111111,\"#46039f\"],[0.2222222222222222,\"#7201a8\"],[0.3333333333333333,\"#9c179e\"],[0.4444444444444444,\"#bd3786\"],[0.5555555555555556,\"#d8576b\"],[0.6666666666666666,\"#ed7953\"],[0.7777777777777778,\"#fb9f3a\"],[0.8888888888888888,\"#fdca26\"],[1.0,\"#f0f921\"]]}],\"choropleth\":[{\"type\":\"choropleth\",\"colorbar\":{\"outlinewidth\":0,\"ticks\":\"\"}}],\"histogram2d\":[{\"type\":\"histogram2d\",\"colorbar\":{\"outlinewidth\":0,\"ticks\":\"\"},\"colorscale\":[[0.0,\"#0d0887\"],[0.1111111111111111,\"#46039f\"],[0.2222222222222222,\"#7201a8\"],[0.3333333333333333,\"#9c179e\"],[0.4444444444444444,\"#bd3786\"],[0.5555555555555556,\"#d8576b\"],[0.6666666666666666,\"#ed7953\"],[0.7777777777777778,\"#fb9f3a\"],[0.8888888888888888,\"#fdca26\"],[1.0,\"#f0f921\"]]}],\"heatmap\":[{\"type\":\"heatmap\",\"colorbar\":{\"outlinewidth\":0,\"ticks\":\"\"},\"colorscale\":[[0.0,\"#0d0887\"],[0.1111111111111111,\"#46039f\"],[0.2222222222222222,\"#7201a8\"],[0.3333333333333333,\"#9c179e\"],[0.4444444444444444,\"#bd3786\"],[0.5555555555555556,\"#d8576b\"],[0.6666666666666666,\"#ed7953\"],[0.7777777777777778,\"#fb9f3a\"],[0.8888888888888888,\"#fdca26\"],[1.0,\"#f0f921\"]]}],\"heatmapgl\":[{\"type\":\"heatmapgl\",\"colorbar\":{\"outlinewidth\":0,\"ticks\":\"\"},\"colorscale\":[[0.0,\"#0d0887\"],[0.1111111111111111,\"#46039f\"],[0.2222222222222222,\"#7201a8\"],[0.3333333333333333,\"#9c179e\"],[0.4444444444444444,\"#bd3786\"],[0.5555555555555556,\"#d8576b\"],[0.6666666666666666,\"#ed7953\"],[0.7777777777777778,\"#fb9f3a\"],[0.8888888888888888,\"#fdca26\"],[1.0,\"#f0f921\"]]}],\"contourcarpet\":[{\"type\":\"contourcarpet\",\"colorbar\":{\"outlinewidth\":0,\"ticks\":\"\"}}],\"contour\":[{\"type\":\"contour\",\"colorbar\":{\"outlinewidth\":0,\"ticks\":\"\"},\"colorscale\":[[0.0,\"#0d0887\"],[0.1111111111111111,\"#46039f\"],[0.2222222222222222,\"#7201a8\"],[0.3333333333333333,\"#9c179e\"],[0.4444444444444444,\"#bd3786\"],[0.5555555555555556,\"#d8576b\"],[0.6666666666666666,\"#ed7953\"],[0.7777777777777778,\"#fb9f3a\"],[0.8888888888888888,\"#fdca26\"],[1.0,\"#f0f921\"]]}],\"surface\":[{\"type\":\"surface\",\"colorbar\":{\"outlinewidth\":0,\"ticks\":\"\"},\"colorscale\":[[0.0,\"#0d0887\"],[0.1111111111111111,\"#46039f\"],[0.2222222222222222,\"#7201a8\"],[0.3333333333333333,\"#9c179e\"],[0.4444444444444444,\"#bd3786\"],[0.5555555555555556,\"#d8576b\"],[0.6666666666666666,\"#ed7953\"],[0.7777777777777778,\"#fb9f3a\"],[0.8888888888888888,\"#fdca26\"],[1.0,\"#f0f921\"]]}],\"mesh3d\":[{\"type\":\"mesh3d\",\"colorbar\":{\"outlinewidth\":0,\"ticks\":\"\"}}],\"scatter\":[{\"fillpattern\":{\"fillmode\":\"overlay\",\"size\":10,\"solidity\":0.2},\"type\":\"scatter\"}],\"parcoords\":[{\"type\":\"parcoords\",\"line\":{\"colorbar\":{\"outlinewidth\":0,\"ticks\":\"\"}}}],\"scatterpolargl\":[{\"type\":\"scatterpolargl\",\"marker\":{\"colorbar\":{\"outlinewidth\":0,\"ticks\":\"\"}}}],\"bar\":[{\"error_x\":{\"color\":\"#2a3f5f\"},\"error_y\":{\"color\":\"#2a3f5f\"},\"marker\":{\"line\":{\"color\":\"#E5ECF6\",\"width\":0.5},\"pattern\":{\"fillmode\":\"overlay\",\"size\":10,\"solidity\":0.2}},\"type\":\"bar\"}],\"scattergeo\":[{\"type\":\"scattergeo\",\"marker\":{\"colorbar\":{\"outlinewidth\":0,\"ticks\":\"\"}}}],\"scatterpolar\":[{\"type\":\"scatterpolar\",\"marker\":{\"colorbar\":{\"outlinewidth\":0,\"ticks\":\"\"}}}],\"histogram\":[{\"marker\":{\"pattern\":{\"fillmode\":\"overlay\",\"size\":10,\"solidity\":0.2}},\"type\":\"histogram\"}],\"scattergl\":[{\"type\":\"scattergl\",\"marker\":{\"colorbar\":{\"outlinewidth\":0,\"ticks\":\"\"}}}],\"scatter3d\":[{\"type\":\"scatter3d\",\"line\":{\"colorbar\":{\"outlinewidth\":0,\"ticks\":\"\"}},\"marker\":{\"colorbar\":{\"outlinewidth\":0,\"ticks\":\"\"}}}],\"scattermapbox\":[{\"type\":\"scattermapbox\",\"marker\":{\"colorbar\":{\"outlinewidth\":0,\"ticks\":\"\"}}}],\"scatterternary\":[{\"type\":\"scatterternary\",\"marker\":{\"colorbar\":{\"outlinewidth\":0,\"ticks\":\"\"}}}],\"scattercarpet\":[{\"type\":\"scattercarpet\",\"marker\":{\"colorbar\":{\"outlinewidth\":0,\"ticks\":\"\"}}}],\"carpet\":[{\"aaxis\":{\"endlinecolor\":\"#2a3f5f\",\"gridcolor\":\"white\",\"linecolor\":\"white\",\"minorgridcolor\":\"white\",\"startlinecolor\":\"#2a3f5f\"},\"baxis\":{\"endlinecolor\":\"#2a3f5f\",\"gridcolor\":\"white\",\"linecolor\":\"white\",\"minorgridcolor\":\"white\",\"startlinecolor\":\"#2a3f5f\"},\"type\":\"carpet\"}],\"table\":[{\"cells\":{\"fill\":{\"color\":\"#EBF0F8\"},\"line\":{\"color\":\"white\"}},\"header\":{\"fill\":{\"color\":\"#C8D4E3\"},\"line\":{\"color\":\"white\"}},\"type\":\"table\"}],\"barpolar\":[{\"marker\":{\"line\":{\"color\":\"#E5ECF6\",\"width\":0.5},\"pattern\":{\"fillmode\":\"overlay\",\"size\":10,\"solidity\":0.2}},\"type\":\"barpolar\"}],\"pie\":[{\"automargin\":true,\"type\":\"pie\"}]},\"layout\":{\"autotypenumbers\":\"strict\",\"colorway\":[\"#636efa\",\"#EF553B\",\"#00cc96\",\"#ab63fa\",\"#FFA15A\",\"#19d3f3\",\"#FF6692\",\"#B6E880\",\"#FF97FF\",\"#FECB52\"],\"font\":{\"color\":\"#2a3f5f\"},\"hovermode\":\"closest\",\"hoverlabel\":{\"align\":\"left\"},\"paper_bgcolor\":\"white\",\"plot_bgcolor\":\"#E5ECF6\",\"polar\":{\"bgcolor\":\"#E5ECF6\",\"angularaxis\":{\"gridcolor\":\"white\",\"linecolor\":\"white\",\"ticks\":\"\"},\"radialaxis\":{\"gridcolor\":\"white\",\"linecolor\":\"white\",\"ticks\":\"\"}},\"ternary\":{\"bgcolor\":\"#E5ECF6\",\"aaxis\":{\"gridcolor\":\"white\",\"linecolor\":\"white\",\"ticks\":\"\"},\"baxis\":{\"gridcolor\":\"white\",\"linecolor\":\"white\",\"ticks\":\"\"},\"caxis\":{\"gridcolor\":\"white\",\"linecolor\":\"white\",\"ticks\":\"\"}},\"coloraxis\":{\"colorbar\":{\"outlinewidth\":0,\"ticks\":\"\"}},\"colorscale\":{\"sequential\":[[0.0,\"#0d0887\"],[0.1111111111111111,\"#46039f\"],[0.2222222222222222,\"#7201a8\"],[0.3333333333333333,\"#9c179e\"],[0.4444444444444444,\"#bd3786\"],[0.5555555555555556,\"#d8576b\"],[0.6666666666666666,\"#ed7953\"],[0.7777777777777778,\"#fb9f3a\"],[0.8888888888888888,\"#fdca26\"],[1.0,\"#f0f921\"]],\"sequentialminus\":[[0.0,\"#0d0887\"],[0.1111111111111111,\"#46039f\"],[0.2222222222222222,\"#7201a8\"],[0.3333333333333333,\"#9c179e\"],[0.4444444444444444,\"#bd3786\"],[0.5555555555555556,\"#d8576b\"],[0.6666666666666666,\"#ed7953\"],[0.7777777777777778,\"#fb9f3a\"],[0.8888888888888888,\"#fdca26\"],[1.0,\"#f0f921\"]],\"diverging\":[[0,\"#8e0152\"],[0.1,\"#c51b7d\"],[0.2,\"#de77ae\"],[0.3,\"#f1b6da\"],[0.4,\"#fde0ef\"],[0.5,\"#f7f7f7\"],[0.6,\"#e6f5d0\"],[0.7,\"#b8e186\"],[0.8,\"#7fbc41\"],[0.9,\"#4d9221\"],[1,\"#276419\"]]},\"xaxis\":{\"gridcolor\":\"white\",\"linecolor\":\"white\",\"ticks\":\"\",\"title\":{\"standoff\":15},\"zerolinecolor\":\"white\",\"automargin\":true,\"zerolinewidth\":2},\"yaxis\":{\"gridcolor\":\"white\",\"linecolor\":\"white\",\"ticks\":\"\",\"title\":{\"standoff\":15},\"zerolinecolor\":\"white\",\"automargin\":true,\"zerolinewidth\":2},\"scene\":{\"xaxis\":{\"backgroundcolor\":\"#E5ECF6\",\"gridcolor\":\"white\",\"linecolor\":\"white\",\"showbackground\":true,\"ticks\":\"\",\"zerolinecolor\":\"white\",\"gridwidth\":2},\"yaxis\":{\"backgroundcolor\":\"#E5ECF6\",\"gridcolor\":\"white\",\"linecolor\":\"white\",\"showbackground\":true,\"ticks\":\"\",\"zerolinecolor\":\"white\",\"gridwidth\":2},\"zaxis\":{\"backgroundcolor\":\"#E5ECF6\",\"gridcolor\":\"white\",\"linecolor\":\"white\",\"showbackground\":true,\"ticks\":\"\",\"zerolinecolor\":\"white\",\"gridwidth\":2}},\"shapedefaults\":{\"line\":{\"color\":\"#2a3f5f\"}},\"annotationdefaults\":{\"arrowcolor\":\"#2a3f5f\",\"arrowhead\":0,\"arrowwidth\":1},\"geo\":{\"bgcolor\":\"white\",\"landcolor\":\"#E5ECF6\",\"subunitcolor\":\"white\",\"showland\":true,\"showlakes\":true,\"lakecolor\":\"white\"},\"title\":{\"x\":0.05},\"mapbox\":{\"style\":\"light\"}}},\"title\":{\"text\":\"Accuracy of Models\"},\"xaxis\":{\"title\":{\"text\":\"Models\"}},\"yaxis\":{\"title\":{\"text\":\"Accuracy\"}}},                        {\"responsive\": true}                    ).then(function(){\n",
       "                            \n",
       "var gd = document.getElementById('471eba77-6645-41ef-89f1-e34ecce5e964');\n",
       "var x = new MutationObserver(function (mutations, observer) {{\n",
       "        var display = window.getComputedStyle(gd).display;\n",
       "        if (!display || display === 'none') {{\n",
       "            console.log([gd, 'removed!']);\n",
       "            Plotly.purge(gd);\n",
       "            observer.disconnect();\n",
       "        }}\n",
       "}});\n",
       "\n",
       "// Listen for the removal of the full notebook cells\n",
       "var notebookContainer = gd.closest('#notebook-container');\n",
       "if (notebookContainer) {{\n",
       "    x.observe(notebookContainer, {childList: true});\n",
       "}}\n",
       "\n",
       "// Listen for the clearing of the current output cell\n",
       "var outputEl = gd.closest('.output');\n",
       "if (outputEl) {{\n",
       "    x.observe(outputEl, {childList: true});\n",
       "}}\n",
       "\n",
       "                        })                };                });            </script>        </div>"
      ]
     },
     "metadata": {},
     "output_type": "display_data"
    }
   ],
   "source": [
    "x_labels=[vanilla_accuracy,GRU_accuracy,bid_accuracy,ann_accuracy,lstm_accuracy]\n",
    "y_labels=[\"Vanilla_RNN\",\"GRU\",\"Bidirec-LSTM\",\"ANN\",\"LSTM\"]\n",
    "colors=['red','green','blue']\n",
    "import plotly.graph_objects as go\n",
    "fig = go.Figure(data=[go.Bar(x=y_labels, y=x_labels,marker_color=\"orange\")])\n",
    "fig.update_layout(\n",
    "    title=\"Accuracy of Models\",\n",
    "    xaxis_title=\"Models\",\n",
    "    yaxis_title=\"Accuracy\"\n",
    ")\n",
    "\n",
    "fig.show()"
   ]
  },
  {
   "cell_type": "markdown",
   "id": "e48cb1fe",
   "metadata": {},
   "source": [
    "## Conclusion\n",
    "- The improved performance of the GRU and Bidirectional LSTM models over the Vanilla RNN suggests that the architecture of the recurrent neural network is a critical factor for the cyberbullying detection task. GRU and Bidirectional LSTM models have more complex architectures that allow them to capture dependencies in the text more effectively. The Bidirectional LSTM, which processes the input text in both forward and backward directions, provides a more comprehensive understanding of the context, which likely contributed to its slightly superior performance."
   ]
  },
  {
   "cell_type": "code",
   "execution_count": null,
   "id": "768c8027",
   "metadata": {},
   "outputs": [],
   "source": []
  },
  {
   "cell_type": "markdown",
   "id": "ec0f2402",
   "metadata": {},
   "source": [
    "# Q-2"
   ]
  },
  {
   "cell_type": "markdown",
   "id": "17ed11c7",
   "metadata": {},
   "source": [
    "## Problem Staement\n",
    "- Develop a multi-class text classification model for Financial Sentiment Analysis. The goal is to classify financial documents, such as news articles, tweets, or reports, into predefined categories that represent the sentiment or tone of the content, such as \"positive,\" \"negative,\" or \"neutral.\" The model should effectively identify and categorize the sentiment in financial texts, aiding investors, analysts, and financial institutions in making informed decisions based on real-time sentiment analysis."
   ]
  },
  {
   "cell_type": "markdown",
   "id": "04b77ebc",
   "metadata": {},
   "source": [
    "## About Dataset\n",
    "- The following data is intended for advancing financial sentiment analysis research. It's two datasets (FiQA, Financial PhraseBank) combined into one easy-to-use CSV file. It provides financial sentences with sentiment labels.\n",
    "- https://www.kaggle.com/datasets/sbhatti/financial-sentiment-analysis"
   ]
  },
  {
   "cell_type": "markdown",
   "id": "9b5e64cd",
   "metadata": {},
   "source": [
    "## Methodology\n",
    "\n",
    "### Obtaining Dataset\n",
    "\n",
    "### Splitting Data into training and testing \n",
    "\n",
    "### Data Augumentation on Training Data\n",
    "\n",
    "### Data Preprocessing\n",
    "  - Special Characters removal\n",
    "  - Stemming and Lemitization\n",
    "  - Tokenization\n",
    "  - word 2 vec using Gensim library\n",
    "  \n",
    "### Creating embedding matrix\n",
    "\n",
    "### Finding words position in vocabulary and applying paddding\n",
    "\n",
    "### Encoding Cyberbullying_type \n",
    "\n",
    "\n",
    "### Model Building\n",
    "  - Vanilla rnn\n",
    "  - LSTM\n",
    "  - GRU\n",
    "  - Bidirectional LSTM\n",
    "  \n",
    "###  Model Comparison\n"
   ]
  },
  {
   "cell_type": "code",
   "execution_count": 470,
   "id": "4f1689ef",
   "metadata": {},
   "outputs": [
    {
     "data": {
      "text/html": [
       "<div>\n",
       "<style scoped>\n",
       "    .dataframe tbody tr th:only-of-type {\n",
       "        vertical-align: middle;\n",
       "    }\n",
       "\n",
       "    .dataframe tbody tr th {\n",
       "        vertical-align: top;\n",
       "    }\n",
       "\n",
       "    .dataframe thead th {\n",
       "        text-align: right;\n",
       "    }\n",
       "</style>\n",
       "<table border=\"1\" class=\"dataframe\">\n",
       "  <thead>\n",
       "    <tr style=\"text-align: right;\">\n",
       "      <th></th>\n",
       "      <th>Sentence</th>\n",
       "      <th>Sentiment</th>\n",
       "    </tr>\n",
       "  </thead>\n",
       "  <tbody>\n",
       "    <tr>\n",
       "      <th>0</th>\n",
       "      <td>The GeoSolutions technology will leverage Bene...</td>\n",
       "      <td>positive</td>\n",
       "    </tr>\n",
       "    <tr>\n",
       "      <th>1</th>\n",
       "      <td>$ESI on lows, down $1.50 to $2.50 BK a real po...</td>\n",
       "      <td>negative</td>\n",
       "    </tr>\n",
       "    <tr>\n",
       "      <th>2</th>\n",
       "      <td>For the last quarter of 2010 , Componenta 's n...</td>\n",
       "      <td>positive</td>\n",
       "    </tr>\n",
       "    <tr>\n",
       "      <th>3</th>\n",
       "      <td>According to the Finnish-Russian Chamber of Co...</td>\n",
       "      <td>neutral</td>\n",
       "    </tr>\n",
       "    <tr>\n",
       "      <th>4</th>\n",
       "      <td>The Swedish buyout firm has sold its remaining...</td>\n",
       "      <td>neutral</td>\n",
       "    </tr>\n",
       "    <tr>\n",
       "      <th>...</th>\n",
       "      <td>...</td>\n",
       "      <td>...</td>\n",
       "    </tr>\n",
       "    <tr>\n",
       "      <th>5837</th>\n",
       "      <td>RISING costs have forced packaging producer Hu...</td>\n",
       "      <td>negative</td>\n",
       "    </tr>\n",
       "    <tr>\n",
       "      <th>5838</th>\n",
       "      <td>Nordic Walking was first used as a summer trai...</td>\n",
       "      <td>neutral</td>\n",
       "    </tr>\n",
       "    <tr>\n",
       "      <th>5839</th>\n",
       "      <td>According shipping company Viking Line , the E...</td>\n",
       "      <td>neutral</td>\n",
       "    </tr>\n",
       "    <tr>\n",
       "      <th>5840</th>\n",
       "      <td>In the building and home improvement trade , s...</td>\n",
       "      <td>neutral</td>\n",
       "    </tr>\n",
       "    <tr>\n",
       "      <th>5841</th>\n",
       "      <td>HELSINKI AFX - KCI Konecranes said it has won ...</td>\n",
       "      <td>positive</td>\n",
       "    </tr>\n",
       "  </tbody>\n",
       "</table>\n",
       "<p>5842 rows × 2 columns</p>\n",
       "</div>"
      ],
      "text/plain": [
       "                                               Sentence Sentiment\n",
       "0     The GeoSolutions technology will leverage Bene...  positive\n",
       "1     $ESI on lows, down $1.50 to $2.50 BK a real po...  negative\n",
       "2     For the last quarter of 2010 , Componenta 's n...  positive\n",
       "3     According to the Finnish-Russian Chamber of Co...   neutral\n",
       "4     The Swedish buyout firm has sold its remaining...   neutral\n",
       "...                                                 ...       ...\n",
       "5837  RISING costs have forced packaging producer Hu...  negative\n",
       "5838  Nordic Walking was first used as a summer trai...   neutral\n",
       "5839  According shipping company Viking Line , the E...   neutral\n",
       "5840  In the building and home improvement trade , s...   neutral\n",
       "5841  HELSINKI AFX - KCI Konecranes said it has won ...  positive\n",
       "\n",
       "[5842 rows x 2 columns]"
      ]
     },
     "execution_count": 470,
     "metadata": {},
     "output_type": "execute_result"
    }
   ],
   "source": [
    "data=pd.read_csv('data.csv')\n",
    "data\n"
   ]
  },
  {
   "cell_type": "markdown",
   "id": "ec1b51d5",
   "metadata": {},
   "source": [
    "## EDA "
   ]
  },
  {
   "cell_type": "code",
   "execution_count": 334,
   "id": "0ed70c18",
   "metadata": {},
   "outputs": [],
   "source": [
    "all_texts=' '.join(data['Sentence'])\n",
    "all_texts=re.sub('[^a-zA-Z0-9?$%]',' ',all_texts)\n",
    "words=all_texts.split()\n",
    "stop_words = set(stopwords.words('english'))\n",
    "words = [word for word in words if not word in stop_words]\n"
   ]
  },
  {
   "cell_type": "code",
   "execution_count": 335,
   "id": "b9d5c38d",
   "metadata": {},
   "outputs": [
    {
     "data": {
      "text/plain": [
       "[('The', 1309),\n",
       " ('EUR', 1192),\n",
       " ('company', 763),\n",
       " ('mn', 729),\n",
       " ('1', 590),\n",
       " ('Finnish', 539),\n",
       " ('profit', 535),\n",
       " ('sales', 519),\n",
       " ('said', 511),\n",
       " ('%', 502),\n",
       " ('million', 488),\n",
       " ('year', 477),\n",
       " ('2', 459),\n",
       " ('net', 436),\n",
       " ('3', 429),\n",
       " ('5', 418),\n",
       " ('4', 364),\n",
       " ('2009', 358),\n",
       " ('0', 354),\n",
       " ('mln', 351),\n",
       " ('2008', 350),\n",
       " ('quarter', 341),\n",
       " ('Finland', 339),\n",
       " ('period', 335),\n",
       " ('6', 316),\n",
       " ('2007', 306),\n",
       " ('7', 291),\n",
       " ('8', 285),\n",
       " ('share', 281),\n",
       " ('9', 279),\n",
       " ('co', 277),\n",
       " ('2010', 257),\n",
       " ('$', 254),\n",
       " ('new', 248),\n",
       " ('Oyj', 240),\n",
       " ('first', 239),\n",
       " ('000', 234),\n",
       " ('In', 232),\n",
       " ('market', 226),\n",
       " ('loss', 215),\n",
       " ('shares', 209),\n",
       " ('business', 208),\n",
       " ('operating', 201),\n",
       " ('2006', 198),\n",
       " ('compared', 195),\n",
       " ('also', 194),\n",
       " ('today', 187),\n",
       " ('Group', 180),\n",
       " ('euro', 174),\n",
       " ('Operating', 170),\n",
       " ('10', 169),\n",
       " ('services', 161),\n",
       " ('corresponding', 158),\n",
       " ('Helsinki', 156),\n",
       " ('per', 155),\n",
       " ('group', 150),\n",
       " ('percent', 148),\n",
       " ('operations', 145),\n",
       " ('total', 140),\n",
       " ('http', 139),\n",
       " ('contract', 134),\n",
       " ('https', 132),\n",
       " ('stks', 132),\n",
       " ('decreased', 131),\n",
       " ('price', 129),\n",
       " ('Nokia', 127),\n",
       " ('2005', 125),\n",
       " ('HEL', 124),\n",
       " ('Corporation', 118),\n",
       " ('based', 117),\n",
       " ('pct', 115),\n",
       " ('products', 114),\n",
       " ('A', 111),\n",
       " ('second', 109),\n",
       " ('production', 108),\n",
       " ('third', 108),\n",
       " ('12', 107),\n",
       " ('increased', 107),\n",
       " ('plant', 107),\n",
       " ('earlier', 106),\n",
       " ('well', 106),\n",
       " ('11', 105),\n",
       " ('January', 105),\n",
       " ('value', 105),\n",
       " ('financial', 103),\n",
       " ('Bank', 102),\n",
       " ('companies', 101),\n",
       " ('OMX', 100),\n",
       " ('20', 100),\n",
       " ('rose', 99),\n",
       " ('September', 98),\n",
       " ('30', 97),\n",
       " ('15', 97),\n",
       " ('result', 97),\n",
       " ('fell', 96),\n",
       " ('eur', 95),\n",
       " ('mobile', 95),\n",
       " ('one', 92),\n",
       " ('would', 92),\n",
       " ('expected', 92)]"
      ]
     },
     "execution_count": 335,
     "metadata": {},
     "output_type": "execute_result"
    }
   ],
   "source": [
    "word_counts = Counter(words)\n",
    "top_words = word_counts.most_common(100)\n",
    "top_words"
   ]
  },
  {
   "cell_type": "code",
   "execution_count": 336,
   "id": "38b3b44e",
   "metadata": {},
   "outputs": [
    {
     "data": {
      "image/png": "[encoded data removed]",
      "text/plain": [
       "<Figure size 640x480 with 1 Axes>"
      ]
     },
     "metadata": {},
     "output_type": "display_data"
    }
   ],
   "source": [
    "# Create a bar chart of the most common words\n",
    "top_words = word_counts.most_common(10) # Change the number to show more/less words\n",
    "x_values = [word[0] for word in top_words]\n",
    "y_values = [word[1] for word in top_words]\n",
    "plt.bar(x_values, y_values)\n",
    "plt.xlabel('Word')\n",
    "plt.ylabel('Frequency')\n",
    "plt.title('Most Commonly Used Words')\n",
    "plt.show()"
   ]
  },
  {
   "cell_type": "code",
   "execution_count": 337,
   "id": "b3b985fd",
   "metadata": {},
   "outputs": [
    {
     "data": {
      "image/png": "[encoded data removed]",
      "text/plain": [
       "<Figure size 640x480 with 1 Axes>"
      ]
     },
     "metadata": {},
     "output_type": "display_data"
    }
   ],
   "source": [
    "class_counts = data['Sentiment'].value_counts()\n",
    "class_counts.plot(kind='bar')\n",
    "plt.title('Class Distribution of Sentiment Types')\n",
    "plt.xlabel('Labels')\n",
    "plt.ylabel('Number of messages')\n",
    "plt.show()"
   ]
  },
  {
   "cell_type": "markdown",
   "id": "4a4f27bd",
   "metadata": {},
   "source": [
    "## Data Preprocessing"
   ]
  },
  {
   "cell_type": "code",
   "execution_count": 339,
   "id": "0841764b",
   "metadata": {},
   "outputs": [],
   "source": [
    "import re\n",
    "import nltk\n",
    "from nltk.stem import PorterStemmer\n",
    "from nltk.corpus import stopwords\n",
    "def clean(text):\n",
    "    text=re.sub('[^a-zA-Z0-9?.$%]',' ',text)\n",
    "    words = nltk.word_tokenize(text)\n",
    "    \n",
    "    # Remove stopwords\n",
    "    stop_words = set(stopwords.words('english'))\n",
    "    words = [w for w in words if w not in stop_words]\n",
    "    \n",
    "    # Stem the words\n",
    "    stemmer = PorterStemmer()\n",
    "    words = [stemmer.stem(w) for w in words]\n",
    "    \n",
    "    return words\n",
    "    \n",
    "    \n",
    "    "
   ]
  },
  {
   "cell_type": "code",
   "execution_count": 340,
   "id": "7dea196a",
   "metadata": {},
   "outputs": [],
   "source": [
    "data['cleanedtext']=data['Sentence'].apply(clean)"
   ]
  },
  {
   "cell_type": "code",
   "execution_count": 341,
   "id": "2c218dda",
   "metadata": {},
   "outputs": [
    {
     "data": {
      "text/html": [
       "<div>\n",
       "<style scoped>\n",
       "    .dataframe tbody tr th:only-of-type {\n",
       "        vertical-align: middle;\n",
       "    }\n",
       "\n",
       "    .dataframe tbody tr th {\n",
       "        vertical-align: top;\n",
       "    }\n",
       "\n",
       "    .dataframe thead th {\n",
       "        text-align: right;\n",
       "    }\n",
       "</style>\n",
       "<table border=\"1\" class=\"dataframe\">\n",
       "  <thead>\n",
       "    <tr style=\"text-align: right;\">\n",
       "      <th></th>\n",
       "      <th>Sentence</th>\n",
       "      <th>Sentiment</th>\n",
       "      <th>cleanedtext</th>\n",
       "    </tr>\n",
       "  </thead>\n",
       "  <tbody>\n",
       "    <tr>\n",
       "      <th>0</th>\n",
       "      <td>The GeoSolutions technology will leverage Bene...</td>\n",
       "      <td>positive</td>\n",
       "      <td>[the, geosolut, technolog, leverag, benefon, g...</td>\n",
       "    </tr>\n",
       "    <tr>\n",
       "      <th>1</th>\n",
       "      <td>$ESI on lows, down $1.50 to $2.50 BK a real po...</td>\n",
       "      <td>negative</td>\n",
       "      <td>[$, esi, low, $, 1.50, $, 2.50, bk, real, poss...</td>\n",
       "    </tr>\n",
       "    <tr>\n",
       "      <th>2</th>\n",
       "      <td>For the last quarter of 2010 , Componenta 's n...</td>\n",
       "      <td>positive</td>\n",
       "      <td>[for, last, quarter, 2010, componenta, net, sa...</td>\n",
       "    </tr>\n",
       "    <tr>\n",
       "      <th>3</th>\n",
       "      <td>According to the Finnish-Russian Chamber of Co...</td>\n",
       "      <td>neutral</td>\n",
       "      <td>[accord, finnish, russian, chamber, commerc, m...</td>\n",
       "    </tr>\n",
       "    <tr>\n",
       "      <th>4</th>\n",
       "      <td>The Swedish buyout firm has sold its remaining...</td>\n",
       "      <td>neutral</td>\n",
       "      <td>[the, swedish, buyout, firm, sold, remain, 22....</td>\n",
       "    </tr>\n",
       "    <tr>\n",
       "      <th>...</th>\n",
       "      <td>...</td>\n",
       "      <td>...</td>\n",
       "      <td>...</td>\n",
       "    </tr>\n",
       "    <tr>\n",
       "      <th>5837</th>\n",
       "      <td>RISING costs have forced packaging producer Hu...</td>\n",
       "      <td>negative</td>\n",
       "      <td>[rise, cost, forc, packag, produc, huhtamaki, ...</td>\n",
       "    </tr>\n",
       "    <tr>\n",
       "      <th>5838</th>\n",
       "      <td>Nordic Walking was first used as a summer trai...</td>\n",
       "      <td>neutral</td>\n",
       "      <td>[nordic, walk, first, use, summer, train, meth...</td>\n",
       "    </tr>\n",
       "    <tr>\n",
       "      <th>5839</th>\n",
       "      <td>According shipping company Viking Line , the E...</td>\n",
       "      <td>neutral</td>\n",
       "      <td>[accord, ship, compani, vike, line, eu, decis,...</td>\n",
       "    </tr>\n",
       "    <tr>\n",
       "      <th>5840</th>\n",
       "      <td>In the building and home improvement trade , s...</td>\n",
       "      <td>neutral</td>\n",
       "      <td>[in, build, home, improv, trade, sale, decreas...</td>\n",
       "    </tr>\n",
       "    <tr>\n",
       "      <th>5841</th>\n",
       "      <td>HELSINKI AFX - KCI Konecranes said it has won ...</td>\n",
       "      <td>positive</td>\n",
       "      <td>[helsinki, afx, kci, konecran, said, order, fo...</td>\n",
       "    </tr>\n",
       "  </tbody>\n",
       "</table>\n",
       "<p>5842 rows × 3 columns</p>\n",
       "</div>"
      ],
      "text/plain": [
       "                                               Sentence Sentiment  \\\n",
       "0     The GeoSolutions technology will leverage Bene...  positive   \n",
       "1     $ESI on lows, down $1.50 to $2.50 BK a real po...  negative   \n",
       "2     For the last quarter of 2010 , Componenta 's n...  positive   \n",
       "3     According to the Finnish-Russian Chamber of Co...   neutral   \n",
       "4     The Swedish buyout firm has sold its remaining...   neutral   \n",
       "...                                                 ...       ...   \n",
       "5837  RISING costs have forced packaging producer Hu...  negative   \n",
       "5838  Nordic Walking was first used as a summer trai...   neutral   \n",
       "5839  According shipping company Viking Line , the E...   neutral   \n",
       "5840  In the building and home improvement trade , s...   neutral   \n",
       "5841  HELSINKI AFX - KCI Konecranes said it has won ...  positive   \n",
       "\n",
       "                                            cleanedtext  \n",
       "0     [the, geosolut, technolog, leverag, benefon, g...  \n",
       "1     [$, esi, low, $, 1.50, $, 2.50, bk, real, poss...  \n",
       "2     [for, last, quarter, 2010, componenta, net, sa...  \n",
       "3     [accord, finnish, russian, chamber, commerc, m...  \n",
       "4     [the, swedish, buyout, firm, sold, remain, 22....  \n",
       "...                                                 ...  \n",
       "5837  [rise, cost, forc, packag, produc, huhtamaki, ...  \n",
       "5838  [nordic, walk, first, use, summer, train, meth...  \n",
       "5839  [accord, ship, compani, vike, line, eu, decis,...  \n",
       "5840  [in, build, home, improv, trade, sale, decreas...  \n",
       "5841  [helsinki, afx, kci, konecran, said, order, fo...  \n",
       "\n",
       "[5842 rows x 3 columns]"
      ]
     },
     "execution_count": 341,
     "metadata": {},
     "output_type": "execute_result"
    }
   ],
   "source": [
    "data"
   ]
  },
  {
   "cell_type": "markdown",
   "id": "49755ef5",
   "metadata": {},
   "source": [
    "### Word 2 vec"
   ]
  },
  {
   "cell_type": "code",
   "execution_count": 342,
   "id": "7cbd358b",
   "metadata": {},
   "outputs": [],
   "source": [
    "from gensim.models import Word2Vec\n",
    "\n",
    "\n",
    "model = Word2Vec(sentences=data['cleanedtext'], vector_size=300, window=5, min_count=1, workers=4, sg=1)\n",
    "\n",
    "\n"
   ]
  },
  {
   "cell_type": "code",
   "execution_count": 343,
   "id": "9262956e",
   "metadata": {},
   "outputs": [
    {
     "data": {
      "text/plain": [
       "[('half', 0.9871945381164551),\n",
       " ('fourth', 0.9774666428565979),\n",
       " ('third', 0.977461040019989),\n",
       " ('2008', 0.973557710647583),\n",
       " ('april', 0.9723542928695679)]"
      ]
     },
     "execution_count": 343,
     "metadata": {},
     "output_type": "execute_result"
    }
   ],
   "source": [
    "similar_words = model.wv.most_similar('quarter', topn=5)\n",
    "similar_words"
   ]
  },
  {
   "cell_type": "markdown",
   "id": "fd13ee9c",
   "metadata": {},
   "source": [
    "### Createing embedding matrix"
   ]
  },
  {
   "cell_type": "code",
   "execution_count": 344,
   "id": "3c356617",
   "metadata": {},
   "outputs": [
    {
     "data": {
      "text/plain": [
       "['.',\n",
       " '$',\n",
       " 'the',\n",
       " 'eur',\n",
       " 'compani',\n",
       " 'mn',\n",
       " 'oper',\n",
       " 'sale',\n",
       " 'profit',\n",
       " '%',\n",
       " 'finnish',\n",
       " 'year',\n",
       " 'share',\n",
       " 'said',\n",
       " 'net',\n",
       " 'million',\n",
       " '2009',\n",
       " 'mln',\n",
       " 'quarter',\n",
       " '2008',\n",
       " 'market',\n",
       " 'new',\n",
       " 'finland',\n",
       " 'period',\n",
       " 'group',\n",
       " 'total',\n",
       " '2007',\n",
       " 'product',\n",
       " 'servic',\n",
       " 'busi',\n",
       " 'http',\n",
       " 'euro',\n",
       " '2010',\n",
       " 'oyj',\n",
       " 'first',\n",
       " 'in',\n",
       " 'loss',\n",
       " '000',\n",
       " 'increas',\n",
       " 'compar',\n",
       " 'report',\n",
       " 'also',\n",
       " 'today',\n",
       " '2006',\n",
       " 'develop',\n",
       " 'price',\n",
       " 'includ',\n",
       " 'helsinki',\n",
       " 'contract',\n",
       " 'bank',\n",
       " '1',\n",
       " 'correspond',\n",
       " 'expect',\n",
       " 'invest',\n",
       " 'unit',\n",
       " 'manufactur',\n",
       " 'base',\n",
       " 'per',\n",
       " 'solut',\n",
       " 'result',\n",
       " 'percent',\n",
       " 'stock',\n",
       " 'decreas',\n",
       " 'industri',\n",
       " 'corpor',\n",
       " 'order',\n",
       " 'manag',\n",
       " 'provid',\n",
       " 'system',\n",
       " 'financi',\n",
       " 'plant',\n",
       " 'custom',\n",
       " 'stks.co',\n",
       " 't.co',\n",
       " 'month',\n",
       " '10',\n",
       " 'technolog',\n",
       " 'accord',\n",
       " 'nokia',\n",
       " '2005',\n",
       " 'hel',\n",
       " 'mobil',\n",
       " 'build',\n",
       " 'end',\n",
       " 'project',\n",
       " 'capit',\n",
       " 'long',\n",
       " 'valu',\n",
       " 'pct',\n",
       " 'third',\n",
       " 'use',\n",
       " 'well',\n",
       " 'start',\n",
       " 'continu',\n",
       " '2',\n",
       " 'second',\n",
       " 'plan',\n",
       " 'earlier',\n",
       " 'it',\n",
       " 'one',\n",
       " 'a',\n",
       " 'januari',\n",
       " 'last',\n",
       " 'deal',\n",
       " 'rose',\n",
       " 'construct',\n",
       " 'part',\n",
       " 'omx',\n",
       " 'buy',\n",
       " 'estim',\n",
       " 'plc',\n",
       " 'agreement',\n",
       " 'septemb',\n",
       " 'fell',\n",
       " 'time',\n",
       " 'board',\n",
       " 'area',\n",
       " 'amount',\n",
       " 'announc',\n",
       " 'close',\n",
       " 'network',\n",
       " 'would',\n",
       " 'earn',\n",
       " 'sell',\n",
       " 'line',\n",
       " 'posit',\n",
       " 'offer',\n",
       " 'billion',\n",
       " 'lower',\n",
       " 'ceo',\n",
       " 'half',\n",
       " 'high',\n",
       " 'two',\n",
       " 'cost',\n",
       " '3',\n",
       " 'aapl',\n",
       " 'make',\n",
       " 'paper',\n",
       " 'gener',\n",
       " 'usd',\n",
       " 'term',\n",
       " 'growth',\n",
       " 'oy',\n",
       " 'day',\n",
       " 'process',\n",
       " 'revenu',\n",
       " 'maker',\n",
       " 'short',\n",
       " 'equip',\n",
       " 'trade',\n",
       " 'hold',\n",
       " 'electron',\n",
       " 'offic',\n",
       " 'commun',\n",
       " 'issu',\n",
       " 'media',\n",
       " 'acquisit',\n",
       " 'employe',\n",
       " 'director',\n",
       " '5',\n",
       " 'eur0',\n",
       " 'annual',\n",
       " 'i',\n",
       " 'design',\n",
       " 'dividend',\n",
       " 'us',\n",
       " 'right',\n",
       " 'russia',\n",
       " 'number',\n",
       " 'may',\n",
       " '20',\n",
       " 'current',\n",
       " 'look',\n",
       " 'countri',\n",
       " '...',\n",
       " 'march',\n",
       " 'cut',\n",
       " 'support',\n",
       " 'secur',\n",
       " 'as',\n",
       " 'global',\n",
       " 'octob',\n",
       " 'exchang',\n",
       " 'engin',\n",
       " 'real',\n",
       " '2011',\n",
       " '30',\n",
       " 'softwar',\n",
       " 'howev',\n",
       " 'stake',\n",
       " 'work',\n",
       " 'take',\n",
       " 'approxim',\n",
       " 'target',\n",
       " 'rate',\n",
       " 'june',\n",
       " 'complet',\n",
       " 'data',\n",
       " 'option',\n",
       " 'improv',\n",
       " 'peopl',\n",
       " 'suppli',\n",
       " 'inform',\n",
       " 'say',\n",
       " 'tsla',\n",
       " 'volum',\n",
       " 'cash',\n",
       " 'sign',\n",
       " 'april',\n",
       " 'releas',\n",
       " 'ep',\n",
       " 'oil',\n",
       " 'thi',\n",
       " '4',\n",
       " 'acquir',\n",
       " 'steel',\n",
       " 'move',\n",
       " 'sector',\n",
       " 'good',\n",
       " 'retail',\n",
       " 'non',\n",
       " 'remain',\n",
       " 'sharehold',\n",
       " 'transact',\n",
       " '100',\n",
       " 'we',\n",
       " '12',\n",
       " 'follow',\n",
       " 'post',\n",
       " 'activ',\n",
       " 'drop',\n",
       " 'produc',\n",
       " 'deliv',\n",
       " 'phone',\n",
       " 'nine',\n",
       " 'week',\n",
       " 'see',\n",
       " 'call',\n",
       " 'relat',\n",
       " 'three',\n",
       " 'china',\n",
       " 'intern',\n",
       " 'chang',\n",
       " 'due',\n",
       " 'major',\n",
       " 'lead',\n",
       " 'brand',\n",
       " '15',\n",
       " '?',\n",
       " 'fall',\n",
       " 'made',\n",
       " 'back',\n",
       " 'largest',\n",
       " 'facil',\n",
       " 'publish',\n",
       " 'level',\n",
       " 'negoti',\n",
       " 'power',\n",
       " 'cover',\n",
       " 'tax',\n",
       " 'higher',\n",
       " 'subsidiari',\n",
       " 'go',\n",
       " 'store',\n",
       " 'state',\n",
       " 'applic',\n",
       " '6',\n",
       " 'distribut',\n",
       " 'measur',\n",
       " 'fund',\n",
       " '2004',\n",
       " 'at',\n",
       " 'like',\n",
       " 'item',\n",
       " 'cent',\n",
       " 'energi',\n",
       " 'baltic',\n",
       " 'swedish',\n",
       " 'investor',\n",
       " '50',\n",
       " 'next',\n",
       " 'ad',\n",
       " 'addit',\n",
       " 'deliveri',\n",
       " '25',\n",
       " 'sinc',\n",
       " 'august',\n",
       " 'februari',\n",
       " 'own',\n",
       " 'around',\n",
       " '7',\n",
       " 'employ',\n",
       " 'world',\n",
       " 'repres',\n",
       " 'local',\n",
       " 'meet',\n",
       " 'insur',\n",
       " 'food',\n",
       " 'model',\n",
       " 'divis',\n",
       " 'presid',\n",
       " '8',\n",
       " 'set',\n",
       " 'interest',\n",
       " 'properti',\n",
       " 'aim',\n",
       " 'supplier',\n",
       " 'ship',\n",
       " 'head',\n",
       " 'member',\n",
       " 'nordic',\n",
       " 'pretax',\n",
       " 'get',\n",
       " 'ltd',\n",
       " 'capac',\n",
       " 'still',\n",
       " 'come',\n",
       " 'purchas',\n",
       " 'rise',\n",
       " 'strong',\n",
       " 'low',\n",
       " 'control',\n",
       " 'award',\n",
       " 'receiv',\n",
       " 'devic',\n",
       " '.3',\n",
       " 'fb',\n",
       " 'sweden',\n",
       " 'approv',\n",
       " 'point',\n",
       " 'place',\n",
       " 'avail',\n",
       " 'handl',\n",
       " 'hit',\n",
       " 'materi',\n",
       " 'demand',\n",
       " 'staff',\n",
       " 'transfer',\n",
       " 'turnov',\n",
       " 'fourth',\n",
       " 'consum',\n",
       " 'juli',\n",
       " 'updat',\n",
       " 'full',\n",
       " 'locat',\n",
       " 'citi',\n",
       " 'recur',\n",
       " 'chairman',\n",
       " 'break',\n",
       " 'analyst',\n",
       " 'program',\n",
       " 'uk',\n",
       " 'passeng',\n",
       " 'signific',\n",
       " 'perform',\n",
       " 'machineri',\n",
       " 'expand',\n",
       " 'stora',\n",
       " 'enabl',\n",
       " 'elcoteq',\n",
       " 'vote',\n",
       " 'disclos',\n",
       " 'm',\n",
       " 'previou',\n",
       " 'need',\n",
       " '18',\n",
       " 'mill',\n",
       " 'print',\n",
       " 'metal',\n",
       " 'pharmaceut',\n",
       " 'consolid',\n",
       " 'exclud',\n",
       " 'combin',\n",
       " 'account',\n",
       " 'scanfil',\n",
       " '9',\n",
       " 'ruukki',\n",
       " 'spi',\n",
       " 'ab',\n",
       " 'russian',\n",
       " 'novemb',\n",
       " 'test',\n",
       " 'with',\n",
       " 'establish',\n",
       " 'margin',\n",
       " 'effect',\n",
       " 'propos',\n",
       " 'baswar',\n",
       " 'ago',\n",
       " 'yit',\n",
       " 'nordea',\n",
       " 'declin',\n",
       " 'structur',\n",
       " 'launch',\n",
       " 'lay',\n",
       " 'partner',\n",
       " 'rang',\n",
       " 'life',\n",
       " 'personnel',\n",
       " 'execut',\n",
       " 'l',\n",
       " 'upm',\n",
       " 'situat',\n",
       " 'whole',\n",
       " 'sport',\n",
       " 'gain',\n",
       " 'alreadi',\n",
       " '40',\n",
       " 'headquart',\n",
       " 'traffic',\n",
       " 'enso',\n",
       " 'job',\n",
       " 'competit',\n",
       " 'cooper',\n",
       " '200',\n",
       " 'chief',\n",
       " 'person',\n",
       " 'strategi',\n",
       " 'name',\n",
       " 'via',\n",
       " 'agre',\n",
       " 'save',\n",
       " '19',\n",
       " 'firm',\n",
       " 'asset',\n",
       " 'index',\n",
       " 'grew',\n",
       " 'list',\n",
       " 'beer',\n",
       " 'region',\n",
       " 'near',\n",
       " 'run',\n",
       " 'grow',\n",
       " 'eur1',\n",
       " 'research',\n",
       " 'fix',\n",
       " 'rais',\n",
       " 'record',\n",
       " 'chain',\n",
       " 'sold',\n",
       " 'open',\n",
       " 'after',\n",
       " 'north',\n",
       " 'financ',\n",
       " 'estat',\n",
       " 'america',\n",
       " 'finnair',\n",
       " 'detail',\n",
       " 'commerci',\n",
       " '.9',\n",
       " 'bid',\n",
       " '11',\n",
       " 'astrazeneca',\n",
       " '.5',\n",
       " 'b',\n",
       " 'europ',\n",
       " 'hous',\n",
       " 'fiskar',\n",
       " 'chart',\n",
       " 'pay',\n",
       " '14',\n",
       " 'to',\n",
       " 'adp',\n",
       " 'ftse',\n",
       " 'instal',\n",
       " 'effici',\n",
       " 'tesco',\n",
       " 'recent',\n",
       " 'capman',\n",
       " 'center',\n",
       " 'six',\n",
       " 'incom',\n",
       " 'packag',\n",
       " 'four',\n",
       " '17',\n",
       " 'implement',\n",
       " 'sampo',\n",
       " 'bn',\n",
       " 'flow',\n",
       " 'forest',\n",
       " 'internet',\n",
       " 'neg',\n",
       " '700',\n",
       " 'previous',\n",
       " 'key',\n",
       " 'qualiti',\n",
       " 'went',\n",
       " 'held',\n",
       " 'import',\n",
       " '..',\n",
       " 'joint',\n",
       " 'petersburg',\n",
       " 'transport',\n",
       " 'subscript',\n",
       " 'export',\n",
       " 'press',\n",
       " 'owner',\n",
       " 'london',\n",
       " 'begin',\n",
       " 'european',\n",
       " 'worth',\n",
       " 'larg',\n",
       " 'daili',\n",
       " 'upgrad',\n",
       " 'focu',\n",
       " 'small',\n",
       " 'turn',\n",
       " '.6',\n",
       " 'weak',\n",
       " 'shop',\n",
       " 'wednesday',\n",
       " 'kemira',\n",
       " 'estonia',\n",
       " '60',\n",
       " 'regist',\n",
       " 'put',\n",
       " '23',\n",
       " 'sever',\n",
       " 'carri',\n",
       " 'alma',\n",
       " 'sanoma',\n",
       " 'give',\n",
       " 'friday',\n",
       " '22',\n",
       " 'electr',\n",
       " 'reduc',\n",
       " 'decid',\n",
       " 'x20ac',\n",
       " 'germani',\n",
       " 'govern',\n",
       " 'top',\n",
       " 'book',\n",
       " 'mainten',\n",
       " 'telecom',\n",
       " 'credit',\n",
       " 'recal',\n",
       " 'standard',\n",
       " 'subscrib',\n",
       " 'aspo',\n",
       " 'thursday',\n",
       " 'respect',\n",
       " 'public',\n",
       " 'forecast',\n",
       " 'metso',\n",
       " 'initi',\n",
       " 'futur',\n",
       " 'barclay',\n",
       " 'anoth',\n",
       " 'decemb',\n",
       " '31',\n",
       " 'u.s.',\n",
       " 'home',\n",
       " 'way',\n",
       " 'versu',\n",
       " 'site',\n",
       " 'show',\n",
       " 'schedul',\n",
       " 'no',\n",
       " 'machin',\n",
       " 'statement',\n",
       " 'lift',\n",
       " 'water',\n",
       " 'present',\n",
       " 'monday',\n",
       " 'inc.',\n",
       " 'teliasonera',\n",
       " 'and',\n",
       " 'technic',\n",
       " 'stockmann',\n",
       " '.1',\n",
       " 'liquid',\n",
       " 'yesterday',\n",
       " 'could',\n",
       " 'loan',\n",
       " 'becom',\n",
       " 'cargotec',\n",
       " 'decis',\n",
       " 'concern',\n",
       " 'strengthen',\n",
       " 'land',\n",
       " 'warn',\n",
       " 'liter',\n",
       " 'okmet',\n",
       " '.2',\n",
       " 'administr',\n",
       " 'x',\n",
       " 'serv',\n",
       " 'poyri',\n",
       " 'outlook',\n",
       " 'built',\n",
       " '29',\n",
       " 'signal',\n",
       " 'respons',\n",
       " '.8',\n",
       " 'doubl',\n",
       " 'telest',\n",
       " 'segment',\n",
       " 'tuesday',\n",
       " 'pohjola',\n",
       " 'content',\n",
       " 'reduct',\n",
       " '500',\n",
       " '1.5',\n",
       " 'takeov',\n",
       " 'afx',\n",
       " 'for',\n",
       " 'rapala',\n",
       " 'heat',\n",
       " 'return',\n",
       " 'corp.',\n",
       " 'drug',\n",
       " 'outotec',\n",
       " 'aspocomp',\n",
       " 'nest',\n",
       " 'eur2',\n",
       " 'paid',\n",
       " 'car',\n",
       " 'differ',\n",
       " 'squar',\n",
       " '70',\n",
       " 'slightli',\n",
       " 'rautaruukki',\n",
       " 'st.',\n",
       " 'mid',\n",
       " 'central',\n",
       " 'q1',\n",
       " 'up',\n",
       " 'pulp',\n",
       " 'ventur',\n",
       " 'exist',\n",
       " 'factori',\n",
       " 'digit',\n",
       " 'creat',\n",
       " 'tonn',\n",
       " 'fiscal',\n",
       " 'breakout',\n",
       " 'restructur',\n",
       " '16',\n",
       " 'main',\n",
       " 'bring',\n",
       " 'reach',\n",
       " 'ahlstrom',\n",
       " 'patent',\n",
       " 'bounc',\n",
       " 'organ',\n",
       " 'sabmil',\n",
       " 'on',\n",
       " 'direct',\n",
       " 'nation',\n",
       " 'componenta',\n",
       " 'earli',\n",
       " 'resourc',\n",
       " 'off',\n",
       " 'glass',\n",
       " 'compon',\n",
       " 'handset',\n",
       " '.4',\n",
       " 'ga',\n",
       " 'particip',\n",
       " 'aldata',\n",
       " 'incap',\n",
       " 'resist',\n",
       " 'mine',\n",
       " 'consult',\n",
       " '26',\n",
       " 'jump',\n",
       " 'konecran',\n",
       " 'maximum',\n",
       " 'five',\n",
       " 'potenti',\n",
       " 'rental',\n",
       " 'analysi',\n",
       " 'strateg',\n",
       " 'within',\n",
       " 'charg',\n",
       " 'rout',\n",
       " 'bullish',\n",
       " '13',\n",
       " 'poland',\n",
       " 'merger',\n",
       " 'nasdaq',\n",
       " 'india',\n",
       " 'final',\n",
       " 'connect',\n",
       " 'client',\n",
       " 'onlin',\n",
       " 'big',\n",
       " '28',\n",
       " 'user',\n",
       " 'nice',\n",
       " 'chemic',\n",
       " 'readi',\n",
       " 'bought',\n",
       " 'compris',\n",
       " 'date',\n",
       " 'marimekko',\n",
       " 'player',\n",
       " 'form',\n",
       " 'team',\n",
       " 'narrow',\n",
       " 'comment',\n",
       " 'almost',\n",
       " 'parti',\n",
       " 'associ',\n",
       " 'video',\n",
       " 'slip',\n",
       " 'mr',\n",
       " 'drive',\n",
       " 'function',\n",
       " 'meat',\n",
       " 'glaston',\n",
       " 'airlin',\n",
       " 'rt',\n",
       " 'fish',\n",
       " 'logist',\n",
       " 'note',\n",
       " 'told',\n",
       " 'enter',\n",
       " 'magazin',\n",
       " 'termin',\n",
       " 'stockholm',\n",
       " '1.2',\n",
       " 'tikkurila',\n",
       " 'appoint',\n",
       " 'fair',\n",
       " 'both',\n",
       " 'siemen',\n",
       " '45',\n",
       " 'mail',\n",
       " 'infrastructur',\n",
       " 'author',\n",
       " 'co',\n",
       " 'watch',\n",
       " '35',\n",
       " 'broadband',\n",
       " '2.7',\n",
       " 'kone',\n",
       " 'bridg',\n",
       " 'cargo',\n",
       " 'affect',\n",
       " 'coat',\n",
       " 'corp',\n",
       " 'commiss',\n",
       " 'kesko',\n",
       " 'tool',\n",
       " '300',\n",
       " 'far',\n",
       " 'found',\n",
       " 'boost',\n",
       " 'portfolio',\n",
       " 'our',\n",
       " 'appl',\n",
       " 'pension',\n",
       " 'autom',\n",
       " 'divest',\n",
       " 'port',\n",
       " 'bond',\n",
       " 'condit',\n",
       " 'franc',\n",
       " 'tesla',\n",
       " 'outsid',\n",
       " 'forward',\n",
       " 'much',\n",
       " 's',\n",
       " 'studi',\n",
       " 'indic',\n",
       " 'vice',\n",
       " '2.2',\n",
       " 'these',\n",
       " 'raw',\n",
       " 'worker',\n",
       " 'size',\n",
       " '27',\n",
       " 'raut',\n",
       " 'type',\n",
       " 'adpnew',\n",
       " 'feb',\n",
       " 'outokumpu',\n",
       " '21',\n",
       " 'act',\n",
       " 'requir',\n",
       " 'figur',\n",
       " 'cramo',\n",
       " 'consist',\n",
       " 'sq',\n",
       " 'dilut',\n",
       " 'talvivaara',\n",
       " '80',\n",
       " 'park',\n",
       " 'atria',\n",
       " 'kymmen',\n",
       " 'involv',\n",
       " 'e',\n",
       " 'natur',\n",
       " 'pre',\n",
       " 'fine',\n",
       " 'privat',\n",
       " '2.5',\n",
       " 'wood',\n",
       " '1.3',\n",
       " '1.1',\n",
       " 'stood',\n",
       " 'mainli',\n",
       " 'treatment',\n",
       " 'talk',\n",
       " 'got',\n",
       " 'rival',\n",
       " 'inbev',\n",
       " '3.5',\n",
       " 'norway',\n",
       " 'cap',\n",
       " 'american',\n",
       " 'action',\n",
       " 'cencorp',\n",
       " 'best',\n",
       " 'invoic',\n",
       " 'leas',\n",
       " 'institut',\n",
       " 'fortum',\n",
       " '0.8',\n",
       " 'espoo',\n",
       " 'great',\n",
       " 'currenc',\n",
       " 'select',\n",
       " 'pleas',\n",
       " 'expans',\n",
       " 'given',\n",
       " 'news',\n",
       " 'street',\n",
       " 'equiti',\n",
       " 'want',\n",
       " 'ebit',\n",
       " 'impact',\n",
       " 'comptel',\n",
       " 'actual',\n",
       " 'interim',\n",
       " 'nyse',\n",
       " 'contain',\n",
       " 'mani',\n",
       " 'metr',\n",
       " 'bottom',\n",
       " 'win',\n",
       " 'came',\n",
       " 'vessel',\n",
       " 'experi',\n",
       " 'trend',\n",
       " 'limit',\n",
       " 'phase',\n",
       " 'environment',\n",
       " 't',\n",
       " 'method',\n",
       " 'bp',\n",
       " '0.3',\n",
       " 'eu',\n",
       " 'biohit',\n",
       " 'tiimari',\n",
       " 'huhtamaki',\n",
       " 'temporari',\n",
       " 'entir',\n",
       " 'norwegian',\n",
       " 'profil',\n",
       " 'latest',\n",
       " 'royal',\n",
       " 'green',\n",
       " 'shell',\n",
       " 'm.',\n",
       " 'ton',\n",
       " 'biggest',\n",
       " 'morn',\n",
       " 'debt',\n",
       " 'f',\n",
       " 'elisa',\n",
       " 'googl',\n",
       " '400',\n",
       " 'even',\n",
       " 'econom',\n",
       " 'vaisala',\n",
       " 'space',\n",
       " 'extens',\n",
       " 'crane',\n",
       " 'bln',\n",
       " 'union',\n",
       " 'asia',\n",
       " 'web',\n",
       " 'p',\n",
       " 'side',\n",
       " 'suomen',\n",
       " 'face',\n",
       " 'r',\n",
       " 'especi',\n",
       " 'ramir',\n",
       " 'music',\n",
       " 'licens',\n",
       " 'think',\n",
       " 'charter',\n",
       " 'south',\n",
       " 'find',\n",
       " 'sourc',\n",
       " 'telecommun',\n",
       " 'adjust',\n",
       " 'money',\n",
       " 'sek',\n",
       " 'vehicl',\n",
       " 'summer',\n",
       " 'domest',\n",
       " 'seat',\n",
       " '4.5',\n",
       " 'arrang',\n",
       " 'talentum',\n",
       " 'keep',\n",
       " 'newspap',\n",
       " 'less',\n",
       " 'japan',\n",
       " 'abl',\n",
       " 'latvia',\n",
       " 'integr',\n",
       " 'depart',\n",
       " 'va.',\n",
       " 'expens',\n",
       " 'amzn',\n",
       " 'carrier',\n",
       " 'nflx',\n",
       " 'allow',\n",
       " 'add',\n",
       " 'deutsch',\n",
       " 'alexandria',\n",
       " 'nearli',\n",
       " 'tekla',\n",
       " '150',\n",
       " 'ground',\n",
       " 'access',\n",
       " 'raisio',\n",
       " 'clear',\n",
       " 'ferri',\n",
       " '33',\n",
       " 'cloth',\n",
       " 'recommend',\n",
       " 'moscow',\n",
       " 'he',\n",
       " 'yet',\n",
       " 'temporarili',\n",
       " 'flight',\n",
       " 'of',\n",
       " 'tallinn',\n",
       " 'under',\n",
       " 'extend',\n",
       " 'enterpris',\n",
       " 'hotel',\n",
       " 'travel',\n",
       " '600',\n",
       " 'worldwid',\n",
       " 'inc',\n",
       " 'confer',\n",
       " 'load',\n",
       " 'appli',\n",
       " 'consid',\n",
       " 'scienc',\n",
       " 'mark',\n",
       " 'eur4',\n",
       " 'separ',\n",
       " 'all',\n",
       " 'core',\n",
       " 'without',\n",
       " 'flexibl',\n",
       " 'thomson',\n",
       " 'cross',\n",
       " 'voic',\n",
       " 'czech',\n",
       " 'republ',\n",
       " 'sbux',\n",
       " 'ltd.',\n",
       " 'special',\n",
       " 'efor',\n",
       " '90',\n",
       " 'fulli',\n",
       " 'aviva',\n",
       " 'variou',\n",
       " 'olvi',\n",
       " 'later',\n",
       " 'leader',\n",
       " 'suominen',\n",
       " '5.5',\n",
       " 'tel',\n",
       " 'lse',\n",
       " 'd',\n",
       " 'c',\n",
       " '5.1',\n",
       " 'know',\n",
       " 'platform',\n",
       " 'hand',\n",
       " 'surg',\n",
       " '2.3',\n",
       " 'p.m.',\n",
       " 'vike',\n",
       " '2.0',\n",
       " 'setup',\n",
       " 'advanc',\n",
       " 'sea',\n",
       " 'field',\n",
       " '36',\n",
       " ...]"
      ]
     },
     "execution_count": 344,
     "metadata": {},
     "output_type": "execute_result"
    }
   ],
   "source": [
    "model.wv.index_to_key\n"
   ]
  },
  {
   "cell_type": "code",
   "execution_count": 345,
   "id": "02af3881",
   "metadata": {},
   "outputs": [],
   "source": [
    "embedding_matrix = np.zeros((len(model.wv), 300))\n",
    "for i,word in enumerate(model.wv.index_to_key):\n",
    "    embedding_matrix[i]=model.wv[word]"
   ]
  },
  {
   "cell_type": "code",
   "execution_count": 346,
   "id": "53fd17bc",
   "metadata": {},
   "outputs": [
    {
     "data": {
      "text/plain": [
       "array([[ 0.08680844,  0.14751117,  0.09662943, ..., -0.19946869,\n",
       "         0.15408345, -0.0917621 ],\n",
       "       [ 0.22740065,  0.19801491,  0.12686147, ..., -0.34148806,\n",
       "         0.42216727, -0.30853564],\n",
       "       [ 0.09277637,  0.19766037, -0.08010889, ..., -0.02491454,\n",
       "         0.01391681,  0.0502221 ],\n",
       "       ...,\n",
       "       [ 0.01632202,  0.04514016, -0.0070703 , ..., -0.03555856,\n",
       "         0.02963611, -0.00397648],\n",
       "       [ 0.0174238 ,  0.04545058, -0.01079816, ..., -0.03590748,\n",
       "         0.02846352,  0.00346945],\n",
       "       [ 0.0078912 ,  0.03896748, -0.00658999, ..., -0.02133865,\n",
       "         0.01329939,  0.00613438]])"
      ]
     },
     "execution_count": 346,
     "metadata": {},
     "output_type": "execute_result"
    }
   ],
   "source": [
    "embedding_matrix"
   ]
  },
  {
   "cell_type": "markdown",
   "id": "fe48265f",
   "metadata": {},
   "source": [
    "### Word position in vocabulary"
   ]
  },
  {
   "cell_type": "code",
   "execution_count": 347,
   "id": "677bb8c7",
   "metadata": {},
   "outputs": [],
   "source": [
    "word_to_index = model.wv.key_to_index"
   ]
  },
  {
   "cell_type": "code",
   "execution_count": 348,
   "id": "288063cc",
   "metadata": {},
   "outputs": [],
   "source": [
    "def indexfinder(row):\n",
    "    sentence=[]\n",
    "    for word in row:\n",
    "        index = word_to_index[word]\n",
    "        sentence.append(index)\n",
    "        \n",
    "    return sentence\n",
    "        \n",
    "\n",
    "\n",
    "data[\"sequences\"]=data[\"cleanedtext\"].apply(indexfinder)\n"
   ]
  },
  {
   "cell_type": "code",
   "execution_count": 349,
   "id": "edcbc2ba",
   "metadata": {
    "scrolled": true
   },
   "outputs": [
    {
     "data": {
      "text/html": [
       "<div>\n",
       "<style scoped>\n",
       "    .dataframe tbody tr th:only-of-type {\n",
       "        vertical-align: middle;\n",
       "    }\n",
       "\n",
       "    .dataframe tbody tr th {\n",
       "        vertical-align: top;\n",
       "    }\n",
       "\n",
       "    .dataframe thead th {\n",
       "        text-align: right;\n",
       "    }\n",
       "</style>\n",
       "<table border=\"1\" class=\"dataframe\">\n",
       "  <thead>\n",
       "    <tr style=\"text-align: right;\">\n",
       "      <th></th>\n",
       "      <th>Sentence</th>\n",
       "      <th>Sentiment</th>\n",
       "      <th>cleanedtext</th>\n",
       "      <th>sequences</th>\n",
       "    </tr>\n",
       "  </thead>\n",
       "  <tbody>\n",
       "    <tr>\n",
       "      <th>0</th>\n",
       "      <td>The GeoSolutions technology will leverage Bene...</td>\n",
       "      <td>positive</td>\n",
       "      <td>[the, geosolut, technolog, leverag, benefon, g...</td>\n",
       "      <td>[2, 3513, 76, 3260, 1284, 1969, 58, 67, 344, 5...</td>\n",
       "    </tr>\n",
       "    <tr>\n",
       "      <th>1</th>\n",
       "      <td>$ESI on lows, down $1.50 to $2.50 BK a real po...</td>\n",
       "      <td>negative</td>\n",
       "      <td>[$, esi, low, $, 1.50, $, 2.50, bk, real, poss...</td>\n",
       "      <td>[1, 5202, 320, 1, 3527, 1, 5249, 3464, 184, 1007]</td>\n",
       "    </tr>\n",
       "    <tr>\n",
       "      <th>2</th>\n",
       "      <td>For the last quarter of 2010 , Componenta 's n...</td>\n",
       "      <td>positive</td>\n",
       "      <td>[for, last, quarter, 2010, componenta, net, sa...</td>\n",
       "      <td>[605, 102, 18, 32, 649, 14, 7, 594, 5397, 5383...</td>\n",
       "    </tr>\n",
       "    <tr>\n",
       "      <th>3</th>\n",
       "      <td>According to the Finnish-Russian Chamber of Co...</td>\n",
       "      <td>neutral</td>\n",
       "      <td>[accord, finnish, russian, chamber, commerc, m...</td>\n",
       "      <td>[77, 10, 379, 3588, 2167, 244, 105, 4, 22, 6, ...</td>\n",
       "    </tr>\n",
       "    <tr>\n",
       "      <th>4</th>\n",
       "      <td>The Swedish buyout firm has sold its remaining...</td>\n",
       "      <td>neutral</td>\n",
       "      <td>[the, swedish, buyout, firm, sold, remain, 22....</td>\n",
       "      <td>[2, 277, 1255, 423, 439, 221, 3583, 60, 189, 7...</td>\n",
       "    </tr>\n",
       "    <tr>\n",
       "      <th>...</th>\n",
       "      <td>...</td>\n",
       "      <td>...</td>\n",
       "      <td>...</td>\n",
       "      <td>...</td>\n",
       "    </tr>\n",
       "    <tr>\n",
       "      <th>5837</th>\n",
       "      <td>RISING costs have forced packaging producer Hu...</td>\n",
       "      <td>negative</td>\n",
       "      <td>[rise, cost, forc, packag, produc, huhtamaki, ...</td>\n",
       "      <td>[318, 133, 1160, 472, 231, 856, 1778, 973, 411...</td>\n",
       "    </tr>\n",
       "    <tr>\n",
       "      <th>5838</th>\n",
       "      <td>Nordic Walking was first used as a summer trai...</td>\n",
       "      <td>neutral</td>\n",
       "      <td>[nordic, walk, first, use, summer, train, meth...</td>\n",
       "      <td>[310, 3261, 34, 90, 903, 1046, 850, 965, 173, ...</td>\n",
       "    </tr>\n",
       "    <tr>\n",
       "      <th>5839</th>\n",
       "      <td>According shipping company Viking Line , the E...</td>\n",
       "      <td>neutral</td>\n",
       "      <td>[accord, ship, compani, vike, line, eu, decis,...</td>\n",
       "      <td>[77, 307, 4, 993, 124, 853, 576, 353, 69, 832, 0]</td>\n",
       "    </tr>\n",
       "    <tr>\n",
       "      <th>5840</th>\n",
       "      <td>In the building and home improvement trade , s...</td>\n",
       "      <td>neutral</td>\n",
       "      <td>[in, build, home, improv, trade, sale, decreas...</td>\n",
       "      <td>[35, 82, 551, 199, 149, 7, 62, 4033, 9, 3, 487...</td>\n",
       "    </tr>\n",
       "    <tr>\n",
       "      <th>5841</th>\n",
       "      <td>HELSINKI AFX - KCI Konecranes said it has won ...</td>\n",
       "      <td>positive</td>\n",
       "      <td>[helsinki, afx, kci, konecran, said, order, fo...</td>\n",
       "      <td>[47, 604, 2693, 666, 13, 65, 473, 1704, 368, 4...</td>\n",
       "    </tr>\n",
       "  </tbody>\n",
       "</table>\n",
       "<p>5842 rows × 4 columns</p>\n",
       "</div>"
      ],
      "text/plain": [
       "                                               Sentence Sentiment  \\\n",
       "0     The GeoSolutions technology will leverage Bene...  positive   \n",
       "1     $ESI on lows, down $1.50 to $2.50 BK a real po...  negative   \n",
       "2     For the last quarter of 2010 , Componenta 's n...  positive   \n",
       "3     According to the Finnish-Russian Chamber of Co...   neutral   \n",
       "4     The Swedish buyout firm has sold its remaining...   neutral   \n",
       "...                                                 ...       ...   \n",
       "5837  RISING costs have forced packaging producer Hu...  negative   \n",
       "5838  Nordic Walking was first used as a summer trai...   neutral   \n",
       "5839  According shipping company Viking Line , the E...   neutral   \n",
       "5840  In the building and home improvement trade , s...   neutral   \n",
       "5841  HELSINKI AFX - KCI Konecranes said it has won ...  positive   \n",
       "\n",
       "                                            cleanedtext  \\\n",
       "0     [the, geosolut, technolog, leverag, benefon, g...   \n",
       "1     [$, esi, low, $, 1.50, $, 2.50, bk, real, poss...   \n",
       "2     [for, last, quarter, 2010, componenta, net, sa...   \n",
       "3     [accord, finnish, russian, chamber, commerc, m...   \n",
       "4     [the, swedish, buyout, firm, sold, remain, 22....   \n",
       "...                                                 ...   \n",
       "5837  [rise, cost, forc, packag, produc, huhtamaki, ...   \n",
       "5838  [nordic, walk, first, use, summer, train, meth...   \n",
       "5839  [accord, ship, compani, vike, line, eu, decis,...   \n",
       "5840  [in, build, home, improv, trade, sale, decreas...   \n",
       "5841  [helsinki, afx, kci, konecran, said, order, fo...   \n",
       "\n",
       "                                              sequences  \n",
       "0     [2, 3513, 76, 3260, 1284, 1969, 58, 67, 344, 5...  \n",
       "1     [1, 5202, 320, 1, 3527, 1, 5249, 3464, 184, 1007]  \n",
       "2     [605, 102, 18, 32, 649, 14, 7, 594, 5397, 5383...  \n",
       "3     [77, 10, 379, 3588, 2167, 244, 105, 4, 22, 6, ...  \n",
       "4     [2, 277, 1255, 423, 439, 221, 3583, 60, 189, 7...  \n",
       "...                                                 ...  \n",
       "5837  [318, 133, 1160, 472, 231, 856, 1778, 973, 411...  \n",
       "5838  [310, 3261, 34, 90, 903, 1046, 850, 965, 173, ...  \n",
       "5839  [77, 307, 4, 993, 124, 853, 576, 353, 69, 832, 0]  \n",
       "5840  [35, 82, 551, 199, 149, 7, 62, 4033, 9, 3, 487...  \n",
       "5841  [47, 604, 2693, 666, 13, 65, 473, 1704, 368, 4...  \n",
       "\n",
       "[5842 rows x 4 columns]"
      ]
     },
     "execution_count": 349,
     "metadata": {},
     "output_type": "execute_result"
    }
   ],
   "source": [
    "data\n"
   ]
  },
  {
   "cell_type": "code",
   "execution_count": null,
   "id": "7b15d765",
   "metadata": {},
   "outputs": [],
   "source": []
  },
  {
   "cell_type": "code",
   "execution_count": 350,
   "id": "0225fc87",
   "metadata": {},
   "outputs": [],
   "source": [
    "data.drop('Sentence',axis=1,inplace=True)"
   ]
  },
  {
   "cell_type": "markdown",
   "id": "f1406c1a",
   "metadata": {},
   "source": [
    "data"
   ]
  },
  {
   "cell_type": "markdown",
   "id": "cfbfac3f",
   "metadata": {},
   "source": [
    "## Padding "
   ]
  },
  {
   "cell_type": "markdown",
   "id": "d7335803",
   "metadata": {},
   "source": [
    "### Checking optimal Length to pad"
   ]
  },
  {
   "cell_type": "code",
   "execution_count": 351,
   "id": "37472905",
   "metadata": {},
   "outputs": [],
   "source": [
    "lengths=[]\n",
    "for text in data['cleanedtext']:\n",
    "    x=len(text)\n",
    "    lengths.append(x)"
   ]
  },
  {
   "cell_type": "code",
   "execution_count": 352,
   "id": "eff5608b",
   "metadata": {},
   "outputs": [
    {
     "data": {
      "text/plain": [
       "Counter({23: 128,\n",
       "         10: 376,\n",
       "         12: 385,\n",
       "         17: 293,\n",
       "         6: 174,\n",
       "         9: 404,\n",
       "         27: 58,\n",
       "         13: 390,\n",
       "         20: 170,\n",
       "         11: 428,\n",
       "         26: 85,\n",
       "         5: 101,\n",
       "         18: 254,\n",
       "         8: 354,\n",
       "         15: 323,\n",
       "         14: 363,\n",
       "         22: 122,\n",
       "         3: 17,\n",
       "         24: 91,\n",
       "         7: 291,\n",
       "         19: 198,\n",
       "         21: 136,\n",
       "         4: 41,\n",
       "         16: 283,\n",
       "         29: 60,\n",
       "         31: 34,\n",
       "         33: 22,\n",
       "         34: 9,\n",
       "         38: 5,\n",
       "         32: 34,\n",
       "         25: 75,\n",
       "         28: 69,\n",
       "         30: 41,\n",
       "         36: 5,\n",
       "         40: 3,\n",
       "         2: 3,\n",
       "         35: 10,\n",
       "         1: 1,\n",
       "         39: 3,\n",
       "         49: 2,\n",
       "         37: 1})"
      ]
     },
     "execution_count": 352,
     "metadata": {},
     "output_type": "execute_result"
    }
   ],
   "source": [
    "\n",
    "Counter(lengths)"
   ]
  },
  {
   "cell_type": "code",
   "execution_count": 353,
   "id": "e45bc2be",
   "metadata": {},
   "outputs": [
    {
     "data": {
      "image/png": "[encoded data removed]",
      "text/plain": [
       "<Figure size 1000x600 with 1 Axes>"
      ]
     },
     "metadata": {},
     "output_type": "display_data"
    }
   ],
   "source": [
    "import seaborn as sns\n",
    "import matplotlib.pyplot as plt\n",
    "\n",
    "plt.figure(figsize=(10, 6))\n",
    "# Set the color palette\n",
    "sns.set_palette(\"pastel\")\n",
    "\n",
    "ax = sns.countplot(x=lengths, palette=\"viridis\")\n",
    "\n",
    "\n",
    "ax.set_xlabel(\"length of text\", fontsize=14)\n",
    "ax.set_ylabel(\"Count\", fontsize=14)\n",
    "ax.set_title(\"Countplot of Data\", fontsize=16)\n",
    "\n",
    "ax.tick_params(axis='x')\n",
    "ax.tick_params(axis='y', labelsize=12)\n",
    "\n",
    "\n",
    "ax.grid(True, linestyle='--', alpha=0.5)\n",
    "\n",
    "\n",
    "plt.show()\n"
   ]
  },
  {
   "cell_type": "code",
   "execution_count": 354,
   "id": "bdfe29f1",
   "metadata": {},
   "outputs": [],
   "source": [
    "# Pad the sequences to the correct length\n",
    "from tensorflow.keras.preprocessing.sequence import pad_sequences\n",
    "sequences_padded = pad_sequences(data['sequences'], maxlen=14, padding='post', truncating='post')\n"
   ]
  },
  {
   "cell_type": "markdown",
   "id": "ee8fa19c",
   "metadata": {},
   "source": [
    "###  Encoding  target variable"
   ]
  },
  {
   "cell_type": "code",
   "execution_count": 355,
   "id": "6803776c",
   "metadata": {},
   "outputs": [],
   "source": [
    "from sklearn.preprocessing import LabelEncoder\n",
    "# Encode the labels\n",
    "label_encoder = LabelEncoder()\n",
    "data['Sentiment'] = label_encoder.fit_transform(data['Sentiment'])"
   ]
  },
  {
   "cell_type": "code",
   "execution_count": 356,
   "id": "f6efb4c5",
   "metadata": {},
   "outputs": [
    {
     "name": "stdout",
     "output_type": "stream",
     "text": [
      "{'negative': 0, 'neutral': 1, 'positive': 2}\n"
     ]
    }
   ],
   "source": [
    "label_to_integer_mapping = dict(zip(label_encoder.classes_, range(len(label_encoder.classes_))))\n",
    "print(label_to_integer_mapping)\n"
   ]
  },
  {
   "cell_type": "code",
   "execution_count": 357,
   "id": "906173b1",
   "metadata": {},
   "outputs": [
    {
     "data": {
      "text/plain": [
       "array([[0., 0., 1.],\n",
       "       [1., 0., 0.],\n",
       "       [0., 0., 1.],\n",
       "       ...,\n",
       "       [0., 1., 0.],\n",
       "       [0., 1., 0.],\n",
       "       [0., 0., 1.]], dtype=float32)"
      ]
     },
     "execution_count": 357,
     "metadata": {},
     "output_type": "execute_result"
    }
   ],
   "source": [
    "from tensorflow.keras.utils import to_categorical\n",
    "y = to_categorical(data['Sentiment'])\n",
    "y"
   ]
  },
  {
   "cell_type": "markdown",
   "id": "5ce4dc10",
   "metadata": {},
   "source": [
    "## Train-test split"
   ]
  },
  {
   "cell_type": "code",
   "execution_count": 358,
   "id": "afbbf21e",
   "metadata": {},
   "outputs": [],
   "source": [
    "\n",
    "X_train, X_test, y_train, y_test = train_test_split(sequences_padded, y, test_size=0.2, random_state=42)"
   ]
  },
  {
   "cell_type": "markdown",
   "id": "548f09bd",
   "metadata": {},
   "source": [
    "## Model Building"
   ]
  },
  {
   "cell_type": "markdown",
   "id": "b0bf2e2f",
   "metadata": {},
   "source": [
    "## vanila Rnn"
   ]
  },
  {
   "cell_type": "code",
   "execution_count": 359,
   "id": "2c6d82a7",
   "metadata": {},
   "outputs": [],
   "source": [
    "from tensorflow.keras.layers import Dropout\n",
    "\n",
    "seq_model = Sequential()\n",
    "seq_model.add(Embedding(input_dim=len(model.wv), output_dim=300, input_length=14, weights=[embedding_matrix], trainable=False))\n",
    "seq_model.add(Dropout(0.2))\n",
    "seq_model.add(SimpleRNN(units=32))\n",
    "\n",
    "seq_model.add(Dense(3, activation='softmax'))\n",
    "\n",
    "seq_model.compile(loss='categorical_crossentropy', optimizer='adam', metrics=['accuracy'])\n",
    "\n"
   ]
  },
  {
   "cell_type": "code",
   "execution_count": 360,
   "id": "787f2ba3",
   "metadata": {},
   "outputs": [
    {
     "name": "stdout",
     "output_type": "stream",
     "text": [
      "Epoch 1/5\n",
      "147/147 - 2s - loss: 0.9580 - accuracy: 0.5553 - val_loss: 0.8755 - val_accuracy: 0.6108 - 2s/epoch - 13ms/step\n",
      "Epoch 2/5\n",
      "147/147 - 1s - loss: 0.9070 - accuracy: 0.5934 - val_loss: 0.8984 - val_accuracy: 0.6176 - 734ms/epoch - 5ms/step\n",
      "Epoch 3/5\n",
      "147/147 - 1s - loss: 0.8855 - accuracy: 0.6026 - val_loss: 0.8449 - val_accuracy: 0.6228 - 695ms/epoch - 5ms/step\n",
      "Epoch 4/5\n",
      "147/147 - 1s - loss: 0.8702 - accuracy: 0.5988 - val_loss: 0.8775 - val_accuracy: 0.6091 - 696ms/epoch - 5ms/step\n",
      "Epoch 5/5\n",
      "147/147 - 1s - loss: 0.8735 - accuracy: 0.6020 - val_loss: 0.8392 - val_accuracy: 0.6279 - 704ms/epoch - 5ms/step\n"
     ]
    },
    {
     "data": {
      "text/plain": [
       "<keras.callbacks.History at 0x1d3e9625960>"
      ]
     },
     "execution_count": 360,
     "metadata": {},
     "output_type": "execute_result"
    }
   ],
   "source": [
    "seq_model.fit(X_train, y_train, batch_size=32, epochs=5, validation_data=(X_test, y_test), verbose=2)"
   ]
  },
  {
   "cell_type": "code",
   "execution_count": 361,
   "id": "f51ec12b",
   "metadata": {},
   "outputs": [
    {
     "name": "stdout",
     "output_type": "stream",
     "text": [
      "Test Accuracy  0.6278870701789856\n"
     ]
    }
   ],
   "source": [
    "loss, accuracy = seq_model.evaluate(X_test, y_test, verbose=0)\n",
    "print(\"Test Accuracy \",accuracy)\n",
    "van_acc=accuracy\n"
   ]
  },
  {
   "cell_type": "markdown",
   "id": "aa3443ed",
   "metadata": {},
   "source": [
    "## LSTM "
   ]
  },
  {
   "cell_type": "code",
   "execution_count": 362,
   "id": "487e481d",
   "metadata": {},
   "outputs": [],
   "source": [
    "LSTM_model = Sequential()\n",
    "LSTM_model.add(Embedding(input_dim=len(model.wv), output_dim=300, input_length=14, weights=[embedding_matrix], trainable=False))\n",
    "LSTM_model.add(Dropout(0.2))\n",
    "LSTM_model.add(LSTM(128))\n",
    "\n",
    "LSTM_model.add(Dense(3, activation='softmax'))\n",
    "\n",
    "LSTM_model.compile(loss='categorical_crossentropy', optimizer='adam', metrics=['accuracy'])\n"
   ]
  },
  {
   "cell_type": "code",
   "execution_count": 363,
   "id": "4e23cd89",
   "metadata": {},
   "outputs": [
    {
     "name": "stdout",
     "output_type": "stream",
     "text": [
      "Epoch 1/5\n",
      "147/147 - 4s - loss: 0.9127 - accuracy: 0.5804 - val_loss: 0.8459 - val_accuracy: 0.6168 - 4s/epoch - 28ms/step\n",
      "Epoch 2/5\n",
      "147/147 - 2s - loss: 0.8793 - accuracy: 0.5998 - val_loss: 0.8396 - val_accuracy: 0.6176 - 2s/epoch - 11ms/step\n",
      "Epoch 3/5\n",
      "147/147 - 2s - loss: 0.8723 - accuracy: 0.6039 - val_loss: 0.8418 - val_accuracy: 0.6193 - 2s/epoch - 12ms/step\n",
      "Epoch 4/5\n",
      "147/147 - 2s - loss: 0.8594 - accuracy: 0.6067 - val_loss: 0.8371 - val_accuracy: 0.6168 - 2s/epoch - 13ms/step\n",
      "Epoch 5/5\n",
      "147/147 - 2s - loss: 0.8542 - accuracy: 0.6116 - val_loss: 0.8330 - val_accuracy: 0.6159 - 2s/epoch - 13ms/step\n"
     ]
    },
    {
     "data": {
      "text/plain": [
       "<keras.callbacks.History at 0x1d402d2bf70>"
      ]
     },
     "execution_count": 363,
     "metadata": {},
     "output_type": "execute_result"
    }
   ],
   "source": [
    "LSTM_model.fit(X_train, y_train, batch_size=32, epochs=5, validation_data=(X_test, y_test), verbose=2)"
   ]
  },
  {
   "cell_type": "code",
   "execution_count": 364,
   "id": "cbec6b2f",
   "metadata": {},
   "outputs": [
    {
     "name": "stdout",
     "output_type": "stream",
     "text": [
      "Test Accuracy  0.6159110069274902\n"
     ]
    }
   ],
   "source": [
    "loss, accuracy = LSTM_model.evaluate(X_test, y_test, verbose=0)\n",
    "print(\"Test Accuracy \",accuracy)\n",
    "Lstm_acc=accuracy"
   ]
  },
  {
   "cell_type": "markdown",
   "id": "2e3deb89",
   "metadata": {},
   "source": [
    "## GRU "
   ]
  },
  {
   "cell_type": "code",
   "execution_count": 365,
   "id": "a0de30b4",
   "metadata": {},
   "outputs": [],
   "source": [
    "GRU_model = Sequential()\n",
    "GRU_model.add(Embedding(input_dim=len(model.wv), output_dim=300, input_length=14, weights=[embedding_matrix], trainable=False))\n",
    "GRU_model.add(SpatialDropout1D(0.2))\n",
    "GRU_model.add(GRU(128))\n",
    "\n",
    "GRU_model.add(Dense(3, activation='softmax'))\n",
    "\n",
    "GRU_model.compile(loss='categorical_crossentropy', optimizer='adam', metrics=['accuracy'])\n"
   ]
  },
  {
   "cell_type": "code",
   "execution_count": 366,
   "id": "e56ccf14",
   "metadata": {},
   "outputs": [
    {
     "name": "stdout",
     "output_type": "stream",
     "text": [
      "Epoch 1/5\n",
      "147/147 - 5s - loss: 0.9400 - accuracy: 0.5637 - val_loss: 0.8738 - val_accuracy: 0.6185 - 5s/epoch - 37ms/step\n",
      "Epoch 2/5\n",
      "147/147 - 2s - loss: 0.8819 - accuracy: 0.5985 - val_loss: 0.8540 - val_accuracy: 0.6253 - 2s/epoch - 11ms/step\n",
      "Epoch 3/5\n",
      "147/147 - 2s - loss: 0.8737 - accuracy: 0.5949 - val_loss: 0.8910 - val_accuracy: 0.5774 - 2s/epoch - 11ms/step\n",
      "Epoch 4/5\n",
      "147/147 - 2s - loss: 0.8724 - accuracy: 0.5979 - val_loss: 0.8408 - val_accuracy: 0.6193 - 2s/epoch - 11ms/step\n",
      "Epoch 5/5\n",
      "147/147 - 2s - loss: 0.8559 - accuracy: 0.6129 - val_loss: 0.8222 - val_accuracy: 0.6287 - 2s/epoch - 14ms/step\n"
     ]
    },
    {
     "data": {
      "text/plain": [
       "<keras.callbacks.History at 0x1d404171c30>"
      ]
     },
     "execution_count": 366,
     "metadata": {},
     "output_type": "execute_result"
    }
   ],
   "source": [
    "GRU_model.fit(X_train, y_train, batch_size=32, epochs=5, validation_data=(X_test, y_test), verbose=2)"
   ]
  },
  {
   "cell_type": "code",
   "execution_count": 367,
   "id": "c7e0984f",
   "metadata": {},
   "outputs": [
    {
     "name": "stdout",
     "output_type": "stream",
     "text": [
      "Test Accuracy  0.628742516040802\n"
     ]
    }
   ],
   "source": [
    "loss, accuracy = GRU_model.evaluate(X_test, y_test, verbose=0)\n",
    "print(\"Test Accuracy \",accuracy)\n",
    "gru_acc=accuracy"
   ]
  },
  {
   "cell_type": "markdown",
   "id": "5e054367",
   "metadata": {},
   "source": [
    "## Bidirectional LSTM"
   ]
  },
  {
   "cell_type": "code",
   "execution_count": 368,
   "id": "09976317",
   "metadata": {},
   "outputs": [],
   "source": [
    "Bid_model = Sequential()\n",
    "Bid_model.add(Embedding(input_dim=len(model.wv), output_dim=300, input_length=14, weights=[embedding_matrix], trainable=False))\n",
    "Bid_model.add(Dropout(0.2))\n",
    "\n",
    "Bid_model.add(Bidirectional(LSTM(128)))\n",
    "\n",
    "Bid_model.add(Dense(3, activation='softmax'))\n",
    "\n",
    "Bid_model.compile(loss='categorical_crossentropy', optimizer='adam', metrics=['accuracy'])\n"
   ]
  },
  {
   "cell_type": "code",
   "execution_count": 369,
   "id": "0fe8bac3",
   "metadata": {},
   "outputs": [
    {
     "name": "stdout",
     "output_type": "stream",
     "text": [
      "Epoch 1/5\n",
      "147/147 - 9s - loss: 0.9100 - accuracy: 0.5938 - val_loss: 0.8507 - val_accuracy: 0.6168 - 9s/epoch - 61ms/step\n",
      "Epoch 2/5\n",
      "147/147 - 8s - loss: 0.8679 - accuracy: 0.6013 - val_loss: 0.8316 - val_accuracy: 0.6159 - 8s/epoch - 56ms/step\n",
      "Epoch 3/5\n",
      "147/147 - 7s - loss: 0.8610 - accuracy: 0.6045 - val_loss: 0.8318 - val_accuracy: 0.6262 - 7s/epoch - 49ms/step\n",
      "Epoch 4/5\n",
      "147/147 - 5s - loss: 0.8553 - accuracy: 0.6041 - val_loss: 0.8402 - val_accuracy: 0.6108 - 5s/epoch - 36ms/step\n",
      "Epoch 5/5\n",
      "147/147 - 7s - loss: 0.8456 - accuracy: 0.6127 - val_loss: 0.8325 - val_accuracy: 0.6176 - 7s/epoch - 45ms/step\n"
     ]
    },
    {
     "data": {
      "text/plain": [
       "<keras.callbacks.History at 0x1d3f845a650>"
      ]
     },
     "execution_count": 369,
     "metadata": {},
     "output_type": "execute_result"
    }
   ],
   "source": [
    "Bid_model.fit(X_train, y_train, batch_size=32, epochs=5, validation_data=(X_test, y_test), verbose=2)"
   ]
  },
  {
   "cell_type": "code",
   "execution_count": 370,
   "id": "0be64f89",
   "metadata": {},
   "outputs": [
    {
     "name": "stdout",
     "output_type": "stream",
     "text": [
      "Test Accuracy  0.617621898651123\n"
     ]
    }
   ],
   "source": [
    "loss, accuracy = Bid_model.evaluate(X_test, y_test, verbose=0)\n",
    "print(\"Test Accuracy \",accuracy)\n",
    "bid_acc=accuracy"
   ]
  },
  {
   "cell_type": "code",
   "execution_count": 371,
   "id": "2fa899bf",
   "metadata": {},
   "outputs": [
    {
     "data": {
      "application/vnd.plotly.v1+json": {
       "config": {
        "plotlyServerURL": "https://plot.ly"
       },
       "data": [
        {
         "marker": {
          "color": "orange"
         },
         "type": "bar",
         "x": [
          "Vanilla_RNN",
          "LSTM",
          "GRU",
          "Bidirec-LSTM"
         ],
         "y": [
          0.6278870701789856,
          0.6159110069274902,
          0.628742516040802,
          0.617621898651123
         ]
        }
       ],
       "layout": {
        "template": {
         "data": {
          "bar": [
           {
            "error_x": {
             "color": "#2a3f5f"
            },
            "error_y": {
             "color": "#2a3f5f"
            },
            "marker": {
             "line": {
              "color": "#E5ECF6",
              "width": 0.5
             },
             "pattern": {
              "fillmode": "overlay",
              "size": 10,
              "solidity": 0.2
             }
            },
            "type": "bar"
           }
          ],
          "barpolar": [
           {
            "marker": {
             "line": {
              "color": "#E5ECF6",
              "width": 0.5
             },
             "pattern": {
              "fillmode": "overlay",
              "size": 10,
              "solidity": 0.2
             }
            },
            "type": "barpolar"
           }
          ],
          "carpet": [
           {
            "aaxis": {
             "endlinecolor": "#2a3f5f",
             "gridcolor": "white",
             "linecolor": "white",
             "minorgridcolor": "white",
             "startlinecolor": "#2a3f5f"
            },
            "baxis": {
             "endlinecolor": "#2a3f5f",
             "gridcolor": "white",
             "linecolor": "white",
             "minorgridcolor": "white",
             "startlinecolor": "#2a3f5f"
            },
            "type": "carpet"
           }
          ],
          "choropleth": [
           {
            "colorbar": {
             "outlinewidth": 0,
             "ticks": ""
            },
            "type": "choropleth"
           }
          ],
          "contour": [
           {
            "colorbar": {
             "outlinewidth": 0,
             "ticks": ""
            },
            "colorscale": [
             [
              0,
              "#0d0887"
             ],
             [
              0.1111111111111111,
              "#46039f"
             ],
             [
              0.2222222222222222,
              "#7201a8"
             ],
             [
              0.3333333333333333,
              "#9c179e"
             ],
             [
              0.4444444444444444,
              "#bd3786"
             ],
             [
              0.5555555555555556,
              "#d8576b"
             ],
             [
              0.6666666666666666,
              "#ed7953"
             ],
             [
              0.7777777777777778,
              "#fb9f3a"
             ],
             [
              0.8888888888888888,
              "#fdca26"
             ],
             [
              1,
              "#f0f921"
             ]
            ],
            "type": "contour"
           }
          ],
          "contourcarpet": [
           {
            "colorbar": {
             "outlinewidth": 0,
             "ticks": ""
            },
            "type": "contourcarpet"
           }
          ],
          "heatmap": [
           {
            "colorbar": {
             "outlinewidth": 0,
             "ticks": ""
            },
            "colorscale": [
             [
              0,
              "#0d0887"
             ],
             [
              0.1111111111111111,
              "#46039f"
             ],
             [
              0.2222222222222222,
              "#7201a8"
             ],
             [
              0.3333333333333333,
              "#9c179e"
             ],
             [
              0.4444444444444444,
              "#bd3786"
             ],
             [
              0.5555555555555556,
              "#d8576b"
             ],
             [
              0.6666666666666666,
              "#ed7953"
             ],
             [
              0.7777777777777778,
              "#fb9f3a"
             ],
             [
              0.8888888888888888,
              "#fdca26"
             ],
             [
              1,
              "#f0f921"
             ]
            ],
            "type": "heatmap"
           }
          ],
          "heatmapgl": [
           {
            "colorbar": {
             "outlinewidth": 0,
             "ticks": ""
            },
            "colorscale": [
             [
              0,
              "#0d0887"
             ],
             [
              0.1111111111111111,
              "#46039f"
             ],
             [
              0.2222222222222222,
              "#7201a8"
             ],
             [
              0.3333333333333333,
              "#9c179e"
             ],
             [
              0.4444444444444444,
              "#bd3786"
             ],
             [
              0.5555555555555556,
              "#d8576b"
             ],
             [
              0.6666666666666666,
              "#ed7953"
             ],
             [
              0.7777777777777778,
              "#fb9f3a"
             ],
             [
              0.8888888888888888,
              "#fdca26"
             ],
             [
              1,
              "#f0f921"
             ]
            ],
            "type": "heatmapgl"
           }
          ],
          "histogram": [
           {
            "marker": {
             "pattern": {
              "fillmode": "overlay",
              "size": 10,
              "solidity": 0.2
             }
            },
            "type": "histogram"
           }
          ],
          "histogram2d": [
           {
            "colorbar": {
             "outlinewidth": 0,
             "ticks": ""
            },
            "colorscale": [
             [
              0,
              "#0d0887"
             ],
             [
              0.1111111111111111,
              "#46039f"
             ],
             [
              0.2222222222222222,
              "#7201a8"
             ],
             [
              0.3333333333333333,
              "#9c179e"
             ],
             [
              0.4444444444444444,
              "#bd3786"
             ],
             [
              0.5555555555555556,
              "#d8576b"
             ],
             [
              0.6666666666666666,
              "#ed7953"
             ],
             [
              0.7777777777777778,
              "#fb9f3a"
             ],
             [
              0.8888888888888888,
              "#fdca26"
             ],
             [
              1,
              "#f0f921"
             ]
            ],
            "type": "histogram2d"
           }
          ],
          "histogram2dcontour": [
           {
            "colorbar": {
             "outlinewidth": 0,
             "ticks": ""
            },
            "colorscale": [
             [
              0,
              "#0d0887"
             ],
             [
              0.1111111111111111,
              "#46039f"
             ],
             [
              0.2222222222222222,
              "#7201a8"
             ],
             [
              0.3333333333333333,
              "#9c179e"
             ],
             [
              0.4444444444444444,
              "#bd3786"
             ],
             [
              0.5555555555555556,
              "#d8576b"
             ],
             [
              0.6666666666666666,
              "#ed7953"
             ],
             [
              0.7777777777777778,
              "#fb9f3a"
             ],
             [
              0.8888888888888888,
              "#fdca26"
             ],
             [
              1,
              "#f0f921"
             ]
            ],
            "type": "histogram2dcontour"
           }
          ],
          "mesh3d": [
           {
            "colorbar": {
             "outlinewidth": 0,
             "ticks": ""
            },
            "type": "mesh3d"
           }
          ],
          "parcoords": [
           {
            "line": {
             "colorbar": {
              "outlinewidth": 0,
              "ticks": ""
             }
            },
            "type": "parcoords"
           }
          ],
          "pie": [
           {
            "automargin": true,
            "type": "pie"
           }
          ],
          "scatter": [
           {
            "fillpattern": {
             "fillmode": "overlay",
             "size": 10,
             "solidity": 0.2
            },
            "type": "scatter"
           }
          ],
          "scatter3d": [
           {
            "line": {
             "colorbar": {
              "outlinewidth": 0,
              "ticks": ""
             }
            },
            "marker": {
             "colorbar": {
              "outlinewidth": 0,
              "ticks": ""
             }
            },
            "type": "scatter3d"
           }
          ],
          "scattercarpet": [
           {
            "marker": {
             "colorbar": {
              "outlinewidth": 0,
              "ticks": ""
             }
            },
            "type": "scattercarpet"
           }
          ],
          "scattergeo": [
           {
            "marker": {
             "colorbar": {
              "outlinewidth": 0,
              "ticks": ""
             }
            },
            "type": "scattergeo"
           }
          ],
          "scattergl": [
           {
            "marker": {
             "colorbar": {
              "outlinewidth": 0,
              "ticks": ""
             }
            },
            "type": "scattergl"
           }
          ],
          "scattermapbox": [
           {
            "marker": {
             "colorbar": {
              "outlinewidth": 0,
              "ticks": ""
             }
            },
            "type": "scattermapbox"
           }
          ],
          "scatterpolar": [
           {
            "marker": {
             "colorbar": {
              "outlinewidth": 0,
              "ticks": ""
             }
            },
            "type": "scatterpolar"
           }
          ],
          "scatterpolargl": [
           {
            "marker": {
             "colorbar": {
              "outlinewidth": 0,
              "ticks": ""
             }
            },
            "type": "scatterpolargl"
           }
          ],
          "scatterternary": [
           {
            "marker": {
             "colorbar": {
              "outlinewidth": 0,
              "ticks": ""
             }
            },
            "type": "scatterternary"
           }
          ],
          "surface": [
           {
            "colorbar": {
             "outlinewidth": 0,
             "ticks": ""
            },
            "colorscale": [
             [
              0,
              "#0d0887"
             ],
             [
              0.1111111111111111,
              "#46039f"
             ],
             [
              0.2222222222222222,
              "#7201a8"
             ],
             [
              0.3333333333333333,
              "#9c179e"
             ],
             [
              0.4444444444444444,
              "#bd3786"
             ],
             [
              0.5555555555555556,
              "#d8576b"
             ],
             [
              0.6666666666666666,
              "#ed7953"
             ],
             [
              0.7777777777777778,
              "#fb9f3a"
             ],
             [
              0.8888888888888888,
              "#fdca26"
             ],
             [
              1,
              "#f0f921"
             ]
            ],
            "type": "surface"
           }
          ],
          "table": [
           {
            "cells": {
             "fill": {
              "color": "#EBF0F8"
             },
             "line": {
              "color": "white"
             }
            },
            "header": {
             "fill": {
              "color": "#C8D4E3"
             },
             "line": {
              "color": "white"
             }
            },
            "type": "table"
           }
          ]
         },
         "layout": {
          "annotationdefaults": {
           "arrowcolor": "#2a3f5f",
           "arrowhead": 0,
           "arrowwidth": 1
          },
          "autotypenumbers": "strict",
          "coloraxis": {
           "colorbar": {
            "outlinewidth": 0,
            "ticks": ""
           }
          },
          "colorscale": {
           "diverging": [
            [
             0,
             "#8e0152"
            ],
            [
             0.1,
             "#c51b7d"
            ],
            [
             0.2,
             "#de77ae"
            ],
            [
             0.3,
             "#f1b6da"
            ],
            [
             0.4,
             "#fde0ef"
            ],
            [
             0.5,
             "#f7f7f7"
            ],
            [
             0.6,
             "#e6f5d0"
            ],
            [
             0.7,
             "#b8e186"
            ],
            [
             0.8,
             "#7fbc41"
            ],
            [
             0.9,
             "#4d9221"
            ],
            [
             1,
             "#276419"
            ]
           ],
           "sequential": [
            [
             0,
             "#0d0887"
            ],
            [
             0.1111111111111111,
             "#46039f"
            ],
            [
             0.2222222222222222,
             "#7201a8"
            ],
            [
             0.3333333333333333,
             "#9c179e"
            ],
            [
             0.4444444444444444,
             "#bd3786"
            ],
            [
             0.5555555555555556,
             "#d8576b"
            ],
            [
             0.6666666666666666,
             "#ed7953"
            ],
            [
             0.7777777777777778,
             "#fb9f3a"
            ],
            [
             0.8888888888888888,
             "#fdca26"
            ],
            [
             1,
             "#f0f921"
            ]
           ],
           "sequentialminus": [
            [
             0,
             "#0d0887"
            ],
            [
             0.1111111111111111,
             "#46039f"
            ],
            [
             0.2222222222222222,
             "#7201a8"
            ],
            [
             0.3333333333333333,
             "#9c179e"
            ],
            [
             0.4444444444444444,
             "#bd3786"
            ],
            [
             0.5555555555555556,
             "#d8576b"
            ],
            [
             0.6666666666666666,
             "#ed7953"
            ],
            [
             0.7777777777777778,
             "#fb9f3a"
            ],
            [
             0.8888888888888888,
             "#fdca26"
            ],
            [
             1,
             "#f0f921"
            ]
           ]
          },
          "colorway": [
           "#636efa",
           "#EF553B",
           "#00cc96",
           "#ab63fa",
           "#FFA15A",
           "#19d3f3",
           "#FF6692",
           "#B6E880",
           "#FF97FF",
           "#FECB52"
          ],
          "font": {
           "color": "#2a3f5f"
          },
          "geo": {
           "bgcolor": "white",
           "lakecolor": "white",
           "landcolor": "#E5ECF6",
           "showlakes": true,
           "showland": true,
           "subunitcolor": "white"
          },
          "hoverlabel": {
           "align": "left"
          },
          "hovermode": "closest",
          "mapbox": {
           "style": "light"
          },
          "paper_bgcolor": "white",
          "plot_bgcolor": "#E5ECF6",
          "polar": {
           "angularaxis": {
            "gridcolor": "white",
            "linecolor": "white",
            "ticks": ""
           },
           "bgcolor": "#E5ECF6",
           "radialaxis": {
            "gridcolor": "white",
            "linecolor": "white",
            "ticks": ""
           }
          },
          "scene": {
           "xaxis": {
            "backgroundcolor": "#E5ECF6",
            "gridcolor": "white",
            "gridwidth": 2,
            "linecolor": "white",
            "showbackground": true,
            "ticks": "",
            "zerolinecolor": "white"
           },
           "yaxis": {
            "backgroundcolor": "#E5ECF6",
            "gridcolor": "white",
            "gridwidth": 2,
            "linecolor": "white",
            "showbackground": true,
            "ticks": "",
            "zerolinecolor": "white"
           },
           "zaxis": {
            "backgroundcolor": "#E5ECF6",
            "gridcolor": "white",
            "gridwidth": 2,
            "linecolor": "white",
            "showbackground": true,
            "ticks": "",
            "zerolinecolor": "white"
           }
          },
          "shapedefaults": {
           "line": {
            "color": "#2a3f5f"
           }
          },
          "ternary": {
           "aaxis": {
            "gridcolor": "white",
            "linecolor": "white",
            "ticks": ""
           },
           "baxis": {
            "gridcolor": "white",
            "linecolor": "white",
            "ticks": ""
           },
           "bgcolor": "#E5ECF6",
           "caxis": {
            "gridcolor": "white",
            "linecolor": "white",
            "ticks": ""
           }
          },
          "title": {
           "x": 0.05
          },
          "xaxis": {
           "automargin": true,
           "gridcolor": "white",
           "linecolor": "white",
           "ticks": "",
           "title": {
            "standoff": 15
           },
           "zerolinecolor": "white",
           "zerolinewidth": 2
          },
          "yaxis": {
           "automargin": true,
           "gridcolor": "white",
           "linecolor": "white",
           "ticks": "",
           "title": {
            "standoff": 15
           },
           "zerolinecolor": "white",
           "zerolinewidth": 2
          }
         }
        },
        "title": {
         "text": "Accuracy of Models"
        },
        "xaxis": {
         "title": {
          "text": "Models"
         }
        },
        "yaxis": {
         "title": {
          "text": "Accuracy"
         }
        }
       }
      },
      "text/html": [
       "<div>                            <div id=\"015eae52-ed38-4978-b329-6015fffd1eb9\" class=\"plotly-graph-div\" style=\"height:525px; width:100%;\"></div>            <script type=\"text/javascript\">                require([\"plotly\"], function(Plotly) {                    window.PLOTLYENV=window.PLOTLYENV || {};                                    if (document.getElementById(\"015eae52-ed38-4978-b329-6015fffd1eb9\")) {                    Plotly.newPlot(                        \"015eae52-ed38-4978-b329-6015fffd1eb9\",                        [{\"marker\":{\"color\":\"orange\"},\"x\":[\"Vanilla_RNN\",\"LSTM\",\"GRU\",\"Bidirec-LSTM\"],\"y\":[0.6278870701789856,0.6159110069274902,0.628742516040802,0.617621898651123],\"type\":\"bar\"}],                        {\"template\":{\"data\":{\"histogram2dcontour\":[{\"type\":\"histogram2dcontour\",\"colorbar\":{\"outlinewidth\":0,\"ticks\":\"\"},\"colorscale\":[[0.0,\"#0d0887\"],[0.1111111111111111,\"#46039f\"],[0.2222222222222222,\"#7201a8\"],[0.3333333333333333,\"#9c179e\"],[0.4444444444444444,\"#bd3786\"],[0.5555555555555556,\"#d8576b\"],[0.6666666666666666,\"#ed7953\"],[0.7777777777777778,\"#fb9f3a\"],[0.8888888888888888,\"#fdca26\"],[1.0,\"#f0f921\"]]}],\"choropleth\":[{\"type\":\"choropleth\",\"colorbar\":{\"outlinewidth\":0,\"ticks\":\"\"}}],\"histogram2d\":[{\"type\":\"histogram2d\",\"colorbar\":{\"outlinewidth\":0,\"ticks\":\"\"},\"colorscale\":[[0.0,\"#0d0887\"],[0.1111111111111111,\"#46039f\"],[0.2222222222222222,\"#7201a8\"],[0.3333333333333333,\"#9c179e\"],[0.4444444444444444,\"#bd3786\"],[0.5555555555555556,\"#d8576b\"],[0.6666666666666666,\"#ed7953\"],[0.7777777777777778,\"#fb9f3a\"],[0.8888888888888888,\"#fdca26\"],[1.0,\"#f0f921\"]]}],\"heatmap\":[{\"type\":\"heatmap\",\"colorbar\":{\"outlinewidth\":0,\"ticks\":\"\"},\"colorscale\":[[0.0,\"#0d0887\"],[0.1111111111111111,\"#46039f\"],[0.2222222222222222,\"#7201a8\"],[0.3333333333333333,\"#9c179e\"],[0.4444444444444444,\"#bd3786\"],[0.5555555555555556,\"#d8576b\"],[0.6666666666666666,\"#ed7953\"],[0.7777777777777778,\"#fb9f3a\"],[0.8888888888888888,\"#fdca26\"],[1.0,\"#f0f921\"]]}],\"heatmapgl\":[{\"type\":\"heatmapgl\",\"colorbar\":{\"outlinewidth\":0,\"ticks\":\"\"},\"colorscale\":[[0.0,\"#0d0887\"],[0.1111111111111111,\"#46039f\"],[0.2222222222222222,\"#7201a8\"],[0.3333333333333333,\"#9c179e\"],[0.4444444444444444,\"#bd3786\"],[0.5555555555555556,\"#d8576b\"],[0.6666666666666666,\"#ed7953\"],[0.7777777777777778,\"#fb9f3a\"],[0.8888888888888888,\"#fdca26\"],[1.0,\"#f0f921\"]]}],\"contourcarpet\":[{\"type\":\"contourcarpet\",\"colorbar\":{\"outlinewidth\":0,\"ticks\":\"\"}}],\"contour\":[{\"type\":\"contour\",\"colorbar\":{\"outlinewidth\":0,\"ticks\":\"\"},\"colorscale\":[[0.0,\"#0d0887\"],[0.1111111111111111,\"#46039f\"],[0.2222222222222222,\"#7201a8\"],[0.3333333333333333,\"#9c179e\"],[0.4444444444444444,\"#bd3786\"],[0.5555555555555556,\"#d8576b\"],[0.6666666666666666,\"#ed7953\"],[0.7777777777777778,\"#fb9f3a\"],[0.8888888888888888,\"#fdca26\"],[1.0,\"#f0f921\"]]}],\"surface\":[{\"type\":\"surface\",\"colorbar\":{\"outlinewidth\":0,\"ticks\":\"\"},\"colorscale\":[[0.0,\"#0d0887\"],[0.1111111111111111,\"#46039f\"],[0.2222222222222222,\"#7201a8\"],[0.3333333333333333,\"#9c179e\"],[0.4444444444444444,\"#bd3786\"],[0.5555555555555556,\"#d8576b\"],[0.6666666666666666,\"#ed7953\"],[0.7777777777777778,\"#fb9f3a\"],[0.8888888888888888,\"#fdca26\"],[1.0,\"#f0f921\"]]}],\"mesh3d\":[{\"type\":\"mesh3d\",\"colorbar\":{\"outlinewidth\":0,\"ticks\":\"\"}}],\"scatter\":[{\"fillpattern\":{\"fillmode\":\"overlay\",\"size\":10,\"solidity\":0.2},\"type\":\"scatter\"}],\"parcoords\":[{\"type\":\"parcoords\",\"line\":{\"colorbar\":{\"outlinewidth\":0,\"ticks\":\"\"}}}],\"scatterpolargl\":[{\"type\":\"scatterpolargl\",\"marker\":{\"colorbar\":{\"outlinewidth\":0,\"ticks\":\"\"}}}],\"bar\":[{\"error_x\":{\"color\":\"#2a3f5f\"},\"error_y\":{\"color\":\"#2a3f5f\"},\"marker\":{\"line\":{\"color\":\"#E5ECF6\",\"width\":0.5},\"pattern\":{\"fillmode\":\"overlay\",\"size\":10,\"solidity\":0.2}},\"type\":\"bar\"}],\"scattergeo\":[{\"type\":\"scattergeo\",\"marker\":{\"colorbar\":{\"outlinewidth\":0,\"ticks\":\"\"}}}],\"scatterpolar\":[{\"type\":\"scatterpolar\",\"marker\":{\"colorbar\":{\"outlinewidth\":0,\"ticks\":\"\"}}}],\"histogram\":[{\"marker\":{\"pattern\":{\"fillmode\":\"overlay\",\"size\":10,\"solidity\":0.2}},\"type\":\"histogram\"}],\"scattergl\":[{\"type\":\"scattergl\",\"marker\":{\"colorbar\":{\"outlinewidth\":0,\"ticks\":\"\"}}}],\"scatter3d\":[{\"type\":\"scatter3d\",\"line\":{\"colorbar\":{\"outlinewidth\":0,\"ticks\":\"\"}},\"marker\":{\"colorbar\":{\"outlinewidth\":0,\"ticks\":\"\"}}}],\"scattermapbox\":[{\"type\":\"scattermapbox\",\"marker\":{\"colorbar\":{\"outlinewidth\":0,\"ticks\":\"\"}}}],\"scatterternary\":[{\"type\":\"scatterternary\",\"marker\":{\"colorbar\":{\"outlinewidth\":0,\"ticks\":\"\"}}}],\"scattercarpet\":[{\"type\":\"scattercarpet\",\"marker\":{\"colorbar\":{\"outlinewidth\":0,\"ticks\":\"\"}}}],\"carpet\":[{\"aaxis\":{\"endlinecolor\":\"#2a3f5f\",\"gridcolor\":\"white\",\"linecolor\":\"white\",\"minorgridcolor\":\"white\",\"startlinecolor\":\"#2a3f5f\"},\"baxis\":{\"endlinecolor\":\"#2a3f5f\",\"gridcolor\":\"white\",\"linecolor\":\"white\",\"minorgridcolor\":\"white\",\"startlinecolor\":\"#2a3f5f\"},\"type\":\"carpet\"}],\"table\":[{\"cells\":{\"fill\":{\"color\":\"#EBF0F8\"},\"line\":{\"color\":\"white\"}},\"header\":{\"fill\":{\"color\":\"#C8D4E3\"},\"line\":{\"color\":\"white\"}},\"type\":\"table\"}],\"barpolar\":[{\"marker\":{\"line\":{\"color\":\"#E5ECF6\",\"width\":0.5},\"pattern\":{\"fillmode\":\"overlay\",\"size\":10,\"solidity\":0.2}},\"type\":\"barpolar\"}],\"pie\":[{\"automargin\":true,\"type\":\"pie\"}]},\"layout\":{\"autotypenumbers\":\"strict\",\"colorway\":[\"#636efa\",\"#EF553B\",\"#00cc96\",\"#ab63fa\",\"#FFA15A\",\"#19d3f3\",\"#FF6692\",\"#B6E880\",\"#FF97FF\",\"#FECB52\"],\"font\":{\"color\":\"#2a3f5f\"},\"hovermode\":\"closest\",\"hoverlabel\":{\"align\":\"left\"},\"paper_bgcolor\":\"white\",\"plot_bgcolor\":\"#E5ECF6\",\"polar\":{\"bgcolor\":\"#E5ECF6\",\"angularaxis\":{\"gridcolor\":\"white\",\"linecolor\":\"white\",\"ticks\":\"\"},\"radialaxis\":{\"gridcolor\":\"white\",\"linecolor\":\"white\",\"ticks\":\"\"}},\"ternary\":{\"bgcolor\":\"#E5ECF6\",\"aaxis\":{\"gridcolor\":\"white\",\"linecolor\":\"white\",\"ticks\":\"\"},\"baxis\":{\"gridcolor\":\"white\",\"linecolor\":\"white\",\"ticks\":\"\"},\"caxis\":{\"gridcolor\":\"white\",\"linecolor\":\"white\",\"ticks\":\"\"}},\"coloraxis\":{\"colorbar\":{\"outlinewidth\":0,\"ticks\":\"\"}},\"colorscale\":{\"sequential\":[[0.0,\"#0d0887\"],[0.1111111111111111,\"#46039f\"],[0.2222222222222222,\"#7201a8\"],[0.3333333333333333,\"#9c179e\"],[0.4444444444444444,\"#bd3786\"],[0.5555555555555556,\"#d8576b\"],[0.6666666666666666,\"#ed7953\"],[0.7777777777777778,\"#fb9f3a\"],[0.8888888888888888,\"#fdca26\"],[1.0,\"#f0f921\"]],\"sequentialminus\":[[0.0,\"#0d0887\"],[0.1111111111111111,\"#46039f\"],[0.2222222222222222,\"#7201a8\"],[0.3333333333333333,\"#9c179e\"],[0.4444444444444444,\"#bd3786\"],[0.5555555555555556,\"#d8576b\"],[0.6666666666666666,\"#ed7953\"],[0.7777777777777778,\"#fb9f3a\"],[0.8888888888888888,\"#fdca26\"],[1.0,\"#f0f921\"]],\"diverging\":[[0,\"#8e0152\"],[0.1,\"#c51b7d\"],[0.2,\"#de77ae\"],[0.3,\"#f1b6da\"],[0.4,\"#fde0ef\"],[0.5,\"#f7f7f7\"],[0.6,\"#e6f5d0\"],[0.7,\"#b8e186\"],[0.8,\"#7fbc41\"],[0.9,\"#4d9221\"],[1,\"#276419\"]]},\"xaxis\":{\"gridcolor\":\"white\",\"linecolor\":\"white\",\"ticks\":\"\",\"title\":{\"standoff\":15},\"zerolinecolor\":\"white\",\"automargin\":true,\"zerolinewidth\":2},\"yaxis\":{\"gridcolor\":\"white\",\"linecolor\":\"white\",\"ticks\":\"\",\"title\":{\"standoff\":15},\"zerolinecolor\":\"white\",\"automargin\":true,\"zerolinewidth\":2},\"scene\":{\"xaxis\":{\"backgroundcolor\":\"#E5ECF6\",\"gridcolor\":\"white\",\"linecolor\":\"white\",\"showbackground\":true,\"ticks\":\"\",\"zerolinecolor\":\"white\",\"gridwidth\":2},\"yaxis\":{\"backgroundcolor\":\"#E5ECF6\",\"gridcolor\":\"white\",\"linecolor\":\"white\",\"showbackground\":true,\"ticks\":\"\",\"zerolinecolor\":\"white\",\"gridwidth\":2},\"zaxis\":{\"backgroundcolor\":\"#E5ECF6\",\"gridcolor\":\"white\",\"linecolor\":\"white\",\"showbackground\":true,\"ticks\":\"\",\"zerolinecolor\":\"white\",\"gridwidth\":2}},\"shapedefaults\":{\"line\":{\"color\":\"#2a3f5f\"}},\"annotationdefaults\":{\"arrowcolor\":\"#2a3f5f\",\"arrowhead\":0,\"arrowwidth\":1},\"geo\":{\"bgcolor\":\"white\",\"landcolor\":\"#E5ECF6\",\"subunitcolor\":\"white\",\"showland\":true,\"showlakes\":true,\"lakecolor\":\"white\"},\"title\":{\"x\":0.05},\"mapbox\":{\"style\":\"light\"}}},\"title\":{\"text\":\"Accuracy of Models\"},\"xaxis\":{\"title\":{\"text\":\"Models\"}},\"yaxis\":{\"title\":{\"text\":\"Accuracy\"}}},                        {\"responsive\": true}                    ).then(function(){\n",
       "                            \n",
       "var gd = document.getElementById('015eae52-ed38-4978-b329-6015fffd1eb9');\n",
       "var x = new MutationObserver(function (mutations, observer) {{\n",
       "        var display = window.getComputedStyle(gd).display;\n",
       "        if (!display || display === 'none') {{\n",
       "            console.log([gd, 'removed!']);\n",
       "            Plotly.purge(gd);\n",
       "            observer.disconnect();\n",
       "        }}\n",
       "}});\n",
       "\n",
       "// Listen for the removal of the full notebook cells\n",
       "var notebookContainer = gd.closest('#notebook-container');\n",
       "if (notebookContainer) {{\n",
       "    x.observe(notebookContainer, {childList: true});\n",
       "}}\n",
       "\n",
       "// Listen for the clearing of the current output cell\n",
       "var outputEl = gd.closest('.output');\n",
       "if (outputEl) {{\n",
       "    x.observe(outputEl, {childList: true});\n",
       "}}\n",
       "\n",
       "                        })                };                });            </script>        </div>"
      ]
     },
     "metadata": {},
     "output_type": "display_data"
    }
   ],
   "source": [
    "x_labels=[van_acc,Lstm_acc,gru_acc,bid_acc]\n",
    "y_labels=[\"Vanilla_RNN\",\"LSTM\",\"GRU\",\"Bidirec-LSTM\"]\n",
    "colors=['red','green','blue']\n",
    "import plotly.graph_objects as go\n",
    "fig = go.Figure(data=[go.Bar(x=y_labels, y=x_labels,marker_color=\"orange\")])\n",
    "fig.update_layout(\n",
    "    title=\"Accuracy of Models\",\n",
    "    xaxis_title=\"Models\",\n",
    "    yaxis_title=\"Accuracy\"\n",
    ")\n",
    "\n",
    "fig.show()"
   ]
  },
  {
   "cell_type": "markdown",
   "id": "1e2d5a79",
   "metadata": {},
   "source": [
    "## Q2 with data Augumentation"
   ]
  },
  {
   "cell_type": "code",
   "execution_count": 372,
   "id": "34db4e57",
   "metadata": {},
   "outputs": [
    {
     "data": {
      "text/html": [
       "<div>\n",
       "<style scoped>\n",
       "    .dataframe tbody tr th:only-of-type {\n",
       "        vertical-align: middle;\n",
       "    }\n",
       "\n",
       "    .dataframe tbody tr th {\n",
       "        vertical-align: top;\n",
       "    }\n",
       "\n",
       "    .dataframe thead th {\n",
       "        text-align: right;\n",
       "    }\n",
       "</style>\n",
       "<table border=\"1\" class=\"dataframe\">\n",
       "  <thead>\n",
       "    <tr style=\"text-align: right;\">\n",
       "      <th></th>\n",
       "      <th>Sentence</th>\n",
       "      <th>Sentiment</th>\n",
       "    </tr>\n",
       "  </thead>\n",
       "  <tbody>\n",
       "    <tr>\n",
       "      <th>0</th>\n",
       "      <td>The GeoSolutions technology will leverage Bene...</td>\n",
       "      <td>positive</td>\n",
       "    </tr>\n",
       "    <tr>\n",
       "      <th>1</th>\n",
       "      <td>$ESI on lows, down $1.50 to $2.50 BK a real po...</td>\n",
       "      <td>negative</td>\n",
       "    </tr>\n",
       "    <tr>\n",
       "      <th>2</th>\n",
       "      <td>For the last quarter of 2010 , Componenta 's n...</td>\n",
       "      <td>positive</td>\n",
       "    </tr>\n",
       "    <tr>\n",
       "      <th>3</th>\n",
       "      <td>According to the Finnish-Russian Chamber of Co...</td>\n",
       "      <td>neutral</td>\n",
       "    </tr>\n",
       "    <tr>\n",
       "      <th>4</th>\n",
       "      <td>The Swedish buyout firm has sold its remaining...</td>\n",
       "      <td>neutral</td>\n",
       "    </tr>\n",
       "    <tr>\n",
       "      <th>...</th>\n",
       "      <td>...</td>\n",
       "      <td>...</td>\n",
       "    </tr>\n",
       "    <tr>\n",
       "      <th>5837</th>\n",
       "      <td>RISING costs have forced packaging producer Hu...</td>\n",
       "      <td>negative</td>\n",
       "    </tr>\n",
       "    <tr>\n",
       "      <th>5838</th>\n",
       "      <td>Nordic Walking was first used as a summer trai...</td>\n",
       "      <td>neutral</td>\n",
       "    </tr>\n",
       "    <tr>\n",
       "      <th>5839</th>\n",
       "      <td>According shipping company Viking Line , the E...</td>\n",
       "      <td>neutral</td>\n",
       "    </tr>\n",
       "    <tr>\n",
       "      <th>5840</th>\n",
       "      <td>In the building and home improvement trade , s...</td>\n",
       "      <td>neutral</td>\n",
       "    </tr>\n",
       "    <tr>\n",
       "      <th>5841</th>\n",
       "      <td>HELSINKI AFX - KCI Konecranes said it has won ...</td>\n",
       "      <td>positive</td>\n",
       "    </tr>\n",
       "  </tbody>\n",
       "</table>\n",
       "<p>5842 rows × 2 columns</p>\n",
       "</div>"
      ],
      "text/plain": [
       "                                               Sentence Sentiment\n",
       "0     The GeoSolutions technology will leverage Bene...  positive\n",
       "1     $ESI on lows, down $1.50 to $2.50 BK a real po...  negative\n",
       "2     For the last quarter of 2010 , Componenta 's n...  positive\n",
       "3     According to the Finnish-Russian Chamber of Co...   neutral\n",
       "4     The Swedish buyout firm has sold its remaining...   neutral\n",
       "...                                                 ...       ...\n",
       "5837  RISING costs have forced packaging producer Hu...  negative\n",
       "5838  Nordic Walking was first used as a summer trai...   neutral\n",
       "5839  According shipping company Viking Line , the E...   neutral\n",
       "5840  In the building and home improvement trade , s...   neutral\n",
       "5841  HELSINKI AFX - KCI Konecranes said it has won ...  positive\n",
       "\n",
       "[5842 rows x 2 columns]"
      ]
     },
     "execution_count": 372,
     "metadata": {},
     "output_type": "execute_result"
    }
   ],
   "source": [
    "data=pd.read_csv('data.csv')\n",
    "data"
   ]
  },
  {
   "cell_type": "code",
   "execution_count": 373,
   "id": "b3fcdf8c",
   "metadata": {},
   "outputs": [],
   "source": [
    "train_data, test_data = train_test_split(data, test_size=0.2, random_state=42)"
   ]
  },
  {
   "cell_type": "code",
   "execution_count": 374,
   "id": "871dddf3",
   "metadata": {},
   "outputs": [
    {
     "data": {
      "text/html": [
       "<div>\n",
       "<style scoped>\n",
       "    .dataframe tbody tr th:only-of-type {\n",
       "        vertical-align: middle;\n",
       "    }\n",
       "\n",
       "    .dataframe tbody tr th {\n",
       "        vertical-align: top;\n",
       "    }\n",
       "\n",
       "    .dataframe thead th {\n",
       "        text-align: right;\n",
       "    }\n",
       "</style>\n",
       "<table border=\"1\" class=\"dataframe\">\n",
       "  <thead>\n",
       "    <tr style=\"text-align: right;\">\n",
       "      <th></th>\n",
       "      <th>Sentence</th>\n",
       "      <th>Sentiment</th>\n",
       "    </tr>\n",
       "  </thead>\n",
       "  <tbody>\n",
       "    <tr>\n",
       "      <th>1647</th>\n",
       "      <td>The floor area of the Yliopistonrinne project ...</td>\n",
       "      <td>neutral</td>\n",
       "    </tr>\n",
       "    <tr>\n",
       "      <th>1669</th>\n",
       "      <td>no compensation for its news , opinions or dis...</td>\n",
       "      <td>neutral</td>\n",
       "    </tr>\n",
       "    <tr>\n",
       "      <th>3159</th>\n",
       "      <td>RT @ACInvestorBlog $AAPL still on track for $500</td>\n",
       "      <td>positive</td>\n",
       "    </tr>\n",
       "    <tr>\n",
       "      <th>4577</th>\n",
       "      <td>This includes a EUR 39.5 mn change in the fair...</td>\n",
       "      <td>neutral</td>\n",
       "    </tr>\n",
       "    <tr>\n",
       "      <th>4221</th>\n",
       "      <td>$GTE LONG at 7.44</td>\n",
       "      <td>positive</td>\n",
       "    </tr>\n",
       "    <tr>\n",
       "      <th>...</th>\n",
       "      <td>...</td>\n",
       "      <td>...</td>\n",
       "    </tr>\n",
       "    <tr>\n",
       "      <th>3772</th>\n",
       "      <td>@BULLYA @pollux654321 My 50 $KORS 80 Calls are...</td>\n",
       "      <td>positive</td>\n",
       "    </tr>\n",
       "    <tr>\n",
       "      <th>5191</th>\n",
       "      <td>According to Sepp+ñnen , the new technology UM...</td>\n",
       "      <td>positive</td>\n",
       "    </tr>\n",
       "    <tr>\n",
       "      <th>5226</th>\n",
       "      <td>$CRUS Upgraded to a buy by Alpha Street Research</td>\n",
       "      <td>positive</td>\n",
       "    </tr>\n",
       "    <tr>\n",
       "      <th>5390</th>\n",
       "      <td>Favourable currency rates also contributed to ...</td>\n",
       "      <td>positive</td>\n",
       "    </tr>\n",
       "    <tr>\n",
       "      <th>860</th>\n",
       "      <td>Tesco breaks its downward slide by cutting sal...</td>\n",
       "      <td>positive</td>\n",
       "    </tr>\n",
       "  </tbody>\n",
       "</table>\n",
       "<p>4673 rows × 2 columns</p>\n",
       "</div>"
      ],
      "text/plain": [
       "                                               Sentence Sentiment\n",
       "1647  The floor area of the Yliopistonrinne project ...   neutral\n",
       "1669  no compensation for its news , opinions or dis...   neutral\n",
       "3159   RT @ACInvestorBlog $AAPL still on track for $500  positive\n",
       "4577  This includes a EUR 39.5 mn change in the fair...   neutral\n",
       "4221                                  $GTE LONG at 7.44  positive\n",
       "...                                                 ...       ...\n",
       "3772  @BULLYA @pollux654321 My 50 $KORS 80 Calls are...  positive\n",
       "5191  According to Sepp+ñnen , the new technology UM...  positive\n",
       "5226   $CRUS Upgraded to a buy by Alpha Street Research  positive\n",
       "5390  Favourable currency rates also contributed to ...  positive\n",
       "860   Tesco breaks its downward slide by cutting sal...  positive\n",
       "\n",
       "[4673 rows x 2 columns]"
      ]
     },
     "execution_count": 374,
     "metadata": {},
     "output_type": "execute_result"
    }
   ],
   "source": [
    "train_data"
   ]
  },
  {
   "cell_type": "markdown",
   "id": "90f2f381",
   "metadata": {},
   "source": [
    "## Data Augumentation"
   ]
  },
  {
   "cell_type": "code",
   "execution_count": 375,
   "id": "088a3ef8",
   "metadata": {},
   "outputs": [],
   "source": [
    "import pandas as pd\n",
    "from textaugment import Wordnet\n",
    "\n",
    "\n",
    "wordnet_augmenter = Wordnet()\n",
    "\n",
    "\n",
    "def synonym_replacement(text):\n",
    "    return wordnet_augmenter.augment(text)\n",
    "\n",
    "\n",
    "\n",
    "\n"
   ]
  },
  {
   "cell_type": "code",
   "execution_count": 376,
   "id": "13a53912",
   "metadata": {},
   "outputs": [
    {
     "data": {
      "text/plain": [
       "\"data_augmented = train_data.copy()\\ndata_augmented['Sentence'] = data_augmented['Sentence'].apply(synonym_replacement)\\ntrain_data = train_data.append(data_augmented, ignore_index=True)\\n\\ntrain_data.reset_index(drop=True, inplace=True)\\n\""
      ]
     },
     "execution_count": 376,
     "metadata": {},
     "output_type": "execute_result"
    }
   ],
   "source": [
    "'''data_augmented = train_data.copy()\n",
    "data_augmented['Sentence'] = data_augmented['Sentence'].apply(synonym_replacement)\n",
    "train_data = train_data.append(data_augmented, ignore_index=True)\n",
    "\n",
    "train_data.reset_index(drop=True, inplace=True)\n",
    "'''\n"
   ]
  },
  {
   "cell_type": "code",
   "execution_count": 377,
   "id": "518ec006",
   "metadata": {},
   "outputs": [
    {
     "data": {
      "text/plain": [
       "'train_data'"
      ]
     },
     "execution_count": 377,
     "metadata": {},
     "output_type": "execute_result"
    }
   ],
   "source": [
    "'''train_data'''"
   ]
  },
  {
   "cell_type": "code",
   "execution_count": 378,
   "id": "5337edd6",
   "metadata": {},
   "outputs": [
    {
     "data": {
      "text/plain": [
       "\"train_data.to_excel('traindataset2.xlsx', index=False, engine='openpyxl')\""
      ]
     },
     "execution_count": 378,
     "metadata": {},
     "output_type": "execute_result"
    }
   ],
   "source": [
    "'''train_data.to_excel('traindataset2.xlsx', index=False, engine='openpyxl')'''"
   ]
  },
  {
   "cell_type": "code",
   "execution_count": 379,
   "id": "d0acf6f6",
   "metadata": {},
   "outputs": [
    {
     "data": {
      "text/plain": [
       "\"test_data.to_excel('testdata2.xlsx', index=False, engine='openpyxl')\""
      ]
     },
     "execution_count": 379,
     "metadata": {},
     "output_type": "execute_result"
    }
   ],
   "source": [
    "'''test_data.to_excel('testdata2.xlsx', index=False, engine='openpyxl')'''"
   ]
  },
  {
   "cell_type": "code",
   "execution_count": 380,
   "id": "c96df8d9",
   "metadata": {},
   "outputs": [
    {
     "data": {
      "text/html": [
       "<div>\n",
       "<style scoped>\n",
       "    .dataframe tbody tr th:only-of-type {\n",
       "        vertical-align: middle;\n",
       "    }\n",
       "\n",
       "    .dataframe tbody tr th {\n",
       "        vertical-align: top;\n",
       "    }\n",
       "\n",
       "    .dataframe thead th {\n",
       "        text-align: right;\n",
       "    }\n",
       "</style>\n",
       "<table border=\"1\" class=\"dataframe\">\n",
       "  <thead>\n",
       "    <tr style=\"text-align: right;\">\n",
       "      <th></th>\n",
       "      <th>Sentence</th>\n",
       "      <th>Sentiment</th>\n",
       "    </tr>\n",
       "  </thead>\n",
       "  <tbody>\n",
       "    <tr>\n",
       "      <th>0</th>\n",
       "      <td>A few employees would remain at the Oulu plant...</td>\n",
       "      <td>neutral</td>\n",
       "    </tr>\n",
       "    <tr>\n",
       "      <th>1</th>\n",
       "      <td>Comparable net sales are expected to increase ...</td>\n",
       "      <td>positive</td>\n",
       "    </tr>\n",
       "    <tr>\n",
       "      <th>2</th>\n",
       "      <td>Tesla is recalling 2,700 Model X cars: https:/...</td>\n",
       "      <td>negative</td>\n",
       "    </tr>\n",
       "    <tr>\n",
       "      <th>3</th>\n",
       "      <td>Finnish software developer Done Solutions Oyj ...</td>\n",
       "      <td>positive</td>\n",
       "    </tr>\n",
       "    <tr>\n",
       "      <th>4</th>\n",
       "      <td>Compagnie de Financement Foncier - Is to issue...</td>\n",
       "      <td>neutral</td>\n",
       "    </tr>\n",
       "    <tr>\n",
       "      <th>...</th>\n",
       "      <td>...</td>\n",
       "      <td>...</td>\n",
       "    </tr>\n",
       "    <tr>\n",
       "      <th>1164</th>\n",
       "      <td>In 2010 , the Marimekko Group s net sales were...</td>\n",
       "      <td>neutral</td>\n",
       "    </tr>\n",
       "    <tr>\n",
       "      <th>1165</th>\n",
       "      <td>Nokia said it still expects to sell 150 more m...</td>\n",
       "      <td>neutral</td>\n",
       "    </tr>\n",
       "    <tr>\n",
       "      <th>1166</th>\n",
       "      <td>PNC, Goldman Sachs Receive Dividend Hike Green...</td>\n",
       "      <td>positive</td>\n",
       "    </tr>\n",
       "    <tr>\n",
       "      <th>1167</th>\n",
       "      <td>The company , employing 6,400 , reported net s...</td>\n",
       "      <td>neutral</td>\n",
       "    </tr>\n",
       "    <tr>\n",
       "      <th>1168</th>\n",
       "      <td>To see more of New Haven Register , or to subs...</td>\n",
       "      <td>neutral</td>\n",
       "    </tr>\n",
       "  </tbody>\n",
       "</table>\n",
       "<p>1169 rows × 2 columns</p>\n",
       "</div>"
      ],
      "text/plain": [
       "                                               Sentence Sentiment\n",
       "0     A few employees would remain at the Oulu plant...   neutral\n",
       "1     Comparable net sales are expected to increase ...  positive\n",
       "2     Tesla is recalling 2,700 Model X cars: https:/...  negative\n",
       "3     Finnish software developer Done Solutions Oyj ...  positive\n",
       "4     Compagnie de Financement Foncier - Is to issue...   neutral\n",
       "...                                                 ...       ...\n",
       "1164  In 2010 , the Marimekko Group s net sales were...   neutral\n",
       "1165  Nokia said it still expects to sell 150 more m...   neutral\n",
       "1166  PNC, Goldman Sachs Receive Dividend Hike Green...  positive\n",
       "1167  The company , employing 6,400 , reported net s...   neutral\n",
       "1168  To see more of New Haven Register , or to subs...   neutral\n",
       "\n",
       "[1169 rows x 2 columns]"
      ]
     },
     "execution_count": 380,
     "metadata": {},
     "output_type": "execute_result"
    }
   ],
   "source": [
    "testdata = pd.read_excel('testdata2.xlsx', engine='openpyxl')\n",
    "testdata"
   ]
  },
  {
   "cell_type": "code",
   "execution_count": 381,
   "id": "5b56a015",
   "metadata": {},
   "outputs": [
    {
     "data": {
      "text/html": [
       "<div>\n",
       "<style scoped>\n",
       "    .dataframe tbody tr th:only-of-type {\n",
       "        vertical-align: middle;\n",
       "    }\n",
       "\n",
       "    .dataframe tbody tr th {\n",
       "        vertical-align: top;\n",
       "    }\n",
       "\n",
       "    .dataframe thead th {\n",
       "        text-align: right;\n",
       "    }\n",
       "</style>\n",
       "<table border=\"1\" class=\"dataframe\">\n",
       "  <thead>\n",
       "    <tr style=\"text-align: right;\">\n",
       "      <th></th>\n",
       "      <th>Sentence</th>\n",
       "      <th>Sentiment</th>\n",
       "    </tr>\n",
       "  </thead>\n",
       "  <tbody>\n",
       "    <tr>\n",
       "      <th>0</th>\n",
       "      <td>The floor area of the Yliopistonrinne project ...</td>\n",
       "      <td>neutral</td>\n",
       "    </tr>\n",
       "    <tr>\n",
       "      <th>1</th>\n",
       "      <td>no compensation for its news , opinions or dis...</td>\n",
       "      <td>neutral</td>\n",
       "    </tr>\n",
       "    <tr>\n",
       "      <th>2</th>\n",
       "      <td>RT @ACInvestorBlog $AAPL still on track for $500</td>\n",
       "      <td>positive</td>\n",
       "    </tr>\n",
       "    <tr>\n",
       "      <th>3</th>\n",
       "      <td>This includes a EUR 39.5 mn change in the fair...</td>\n",
       "      <td>neutral</td>\n",
       "    </tr>\n",
       "    <tr>\n",
       "      <th>4</th>\n",
       "      <td>$GTE LONG at 7.44</td>\n",
       "      <td>positive</td>\n",
       "    </tr>\n",
       "    <tr>\n",
       "      <th>...</th>\n",
       "      <td>...</td>\n",
       "      <td>...</td>\n",
       "    </tr>\n",
       "    <tr>\n",
       "      <th>9341</th>\n",
       "      <td>@bullya @pollux654321 my 50 $kors 80 calls are...</td>\n",
       "      <td>positive</td>\n",
       "    </tr>\n",
       "    <tr>\n",
       "      <th>9342</th>\n",
       "      <td>accord to sepp+ñnen , the new technology umts9...</td>\n",
       "      <td>positive</td>\n",
       "    </tr>\n",
       "    <tr>\n",
       "      <th>9343</th>\n",
       "      <td>$crus upgraded to a buy by alpha street research</td>\n",
       "      <td>positive</td>\n",
       "    </tr>\n",
       "    <tr>\n",
       "      <th>9344</th>\n",
       "      <td>favourable currency rates also contributed to ...</td>\n",
       "      <td>positive</td>\n",
       "    </tr>\n",
       "    <tr>\n",
       "      <th>9345</th>\n",
       "      <td>tesco breaks its downward slide by cutting sal...</td>\n",
       "      <td>positive</td>\n",
       "    </tr>\n",
       "  </tbody>\n",
       "</table>\n",
       "<p>9346 rows × 2 columns</p>\n",
       "</div>"
      ],
      "text/plain": [
       "                                               Sentence Sentiment\n",
       "0     The floor area of the Yliopistonrinne project ...   neutral\n",
       "1     no compensation for its news , opinions or dis...   neutral\n",
       "2      RT @ACInvestorBlog $AAPL still on track for $500  positive\n",
       "3     This includes a EUR 39.5 mn change in the fair...   neutral\n",
       "4                                     $GTE LONG at 7.44  positive\n",
       "...                                                 ...       ...\n",
       "9341  @bullya @pollux654321 my 50 $kors 80 calls are...  positive\n",
       "9342  accord to sepp+ñnen , the new technology umts9...  positive\n",
       "9343   $crus upgraded to a buy by alpha street research  positive\n",
       "9344  favourable currency rates also contributed to ...  positive\n",
       "9345  tesco breaks its downward slide by cutting sal...  positive\n",
       "\n",
       "[9346 rows x 2 columns]"
      ]
     },
     "execution_count": 381,
     "metadata": {},
     "output_type": "execute_result"
    }
   ],
   "source": [
    "traindata = pd.read_excel('traindataset2.xlsx', engine='openpyxl')\n",
    "traindata"
   ]
  },
  {
   "cell_type": "markdown",
   "id": "1e705a8b",
   "metadata": {},
   "source": [
    "## EDA"
   ]
  },
  {
   "cell_type": "code",
   "execution_count": 382,
   "id": "31ffa52f",
   "metadata": {},
   "outputs": [],
   "source": [
    "all_texts=' '.join(traindata['Sentence'])\n",
    "all_texts=re.sub('[^a-zA-Z0-9?$%]',' ',all_texts)\n",
    "words=all_texts.split()\n",
    "stop_words = set(stopwords.words('english'))\n",
    "\n",
    "words = [word for word in words if not word in stop_words]\n"
   ]
  },
  {
   "cell_type": "code",
   "execution_count": 383,
   "id": "80643cde",
   "metadata": {},
   "outputs": [],
   "source": [
    "import re\n",
    "import nltk\n",
    "from nltk.stem import PorterStemmer\n",
    "from nltk.corpus import stopwords\n",
    "def clean(text):\n",
    "    text=re.sub('[^a-zA-Z0-9?.$%]',' ',text)\n",
    "    words = nltk.word_tokenize(text)\n",
    "    \n",
    "    # Remove stopwords\n",
    "    stop_words = set(stopwords.words('english'))\n",
    "    words = [w for w in words if w not in stop_words]\n",
    "    \n",
    "    # Stem the words\n",
    "    stemmer = PorterStemmer()\n",
    "    words = [stemmer.stem(w) for w in words]\n",
    "    \n",
    "    return words\n",
    "    \n",
    "    \n",
    "    "
   ]
  },
  {
   "cell_type": "code",
   "execution_count": 384,
   "id": "2d6f3884",
   "metadata": {},
   "outputs": [],
   "source": [
    "traindata['cleanedtext']=traindata['Sentence'].apply(clean)"
   ]
  },
  {
   "cell_type": "code",
   "execution_count": 385,
   "id": "8845b890",
   "metadata": {},
   "outputs": [],
   "source": [
    "testdata['cleanedtext']=testdata['Sentence'].apply(clean)"
   ]
  },
  {
   "cell_type": "code",
   "execution_count": 386,
   "id": "a9bf1882",
   "metadata": {},
   "outputs": [
    {
     "data": {
      "text/html": [
       "<div>\n",
       "<style scoped>\n",
       "    .dataframe tbody tr th:only-of-type {\n",
       "        vertical-align: middle;\n",
       "    }\n",
       "\n",
       "    .dataframe tbody tr th {\n",
       "        vertical-align: top;\n",
       "    }\n",
       "\n",
       "    .dataframe thead th {\n",
       "        text-align: right;\n",
       "    }\n",
       "</style>\n",
       "<table border=\"1\" class=\"dataframe\">\n",
       "  <thead>\n",
       "    <tr style=\"text-align: right;\">\n",
       "      <th></th>\n",
       "      <th>Sentence</th>\n",
       "      <th>Sentiment</th>\n",
       "      <th>cleanedtext</th>\n",
       "    </tr>\n",
       "  </thead>\n",
       "  <tbody>\n",
       "    <tr>\n",
       "      <th>0</th>\n",
       "      <td>The floor area of the Yliopistonrinne project ...</td>\n",
       "      <td>neutral</td>\n",
       "      <td>[the, floor, area, yliopistonrinn, project, 7,...</td>\n",
       "    </tr>\n",
       "    <tr>\n",
       "      <th>1</th>\n",
       "      <td>no compensation for its news , opinions or dis...</td>\n",
       "      <td>neutral</td>\n",
       "      <td>[compens, news, opinion, distribut, .]</td>\n",
       "    </tr>\n",
       "    <tr>\n",
       "      <th>2</th>\n",
       "      <td>RT @ACInvestorBlog $AAPL still on track for $500</td>\n",
       "      <td>positive</td>\n",
       "      <td>[rt, acinvestorblog, $, aapl, still, track, $,...</td>\n",
       "    </tr>\n",
       "    <tr>\n",
       "      <th>3</th>\n",
       "      <td>This includes a EUR 39.5 mn change in the fair...</td>\n",
       "      <td>neutral</td>\n",
       "      <td>[thi, includ, eur, 39.5, mn, chang, fair, valu...</td>\n",
       "    </tr>\n",
       "    <tr>\n",
       "      <th>4</th>\n",
       "      <td>$GTE LONG at 7.44</td>\n",
       "      <td>positive</td>\n",
       "      <td>[$, gte, long, 7.44]</td>\n",
       "    </tr>\n",
       "    <tr>\n",
       "      <th>...</th>\n",
       "      <td>...</td>\n",
       "      <td>...</td>\n",
       "      <td>...</td>\n",
       "    </tr>\n",
       "    <tr>\n",
       "      <th>9341</th>\n",
       "      <td>@bullya @pollux654321 my 50 $kors 80 calls are...</td>\n",
       "      <td>positive</td>\n",
       "      <td>[bullya, pollux654321, 50, $, kor, 80, call, g...</td>\n",
       "    </tr>\n",
       "    <tr>\n",
       "      <th>9342</th>\n",
       "      <td>accord to sepp+ñnen , the new technology umts9...</td>\n",
       "      <td>positive</td>\n",
       "      <td>[accord, sepp, nen, new, technolog, umts900, s...</td>\n",
       "    </tr>\n",
       "    <tr>\n",
       "      <th>9343</th>\n",
       "      <td>$crus upgraded to a buy by alpha street research</td>\n",
       "      <td>positive</td>\n",
       "      <td>[$, cru, upgrad, buy, alpha, street, research]</td>\n",
       "    </tr>\n",
       "    <tr>\n",
       "      <th>9344</th>\n",
       "      <td>favourable currency rates also contributed to ...</td>\n",
       "      <td>positive</td>\n",
       "      <td>[favour, currenc, rate, also, contribut, highe...</td>\n",
       "    </tr>\n",
       "    <tr>\n",
       "      <th>9345</th>\n",
       "      <td>tesco breaks its downward slide by cutting sal...</td>\n",
       "      <td>positive</td>\n",
       "      <td>[tesco, break, downward, slide, cut, sale, dec...</td>\n",
       "    </tr>\n",
       "  </tbody>\n",
       "</table>\n",
       "<p>9346 rows × 3 columns</p>\n",
       "</div>"
      ],
      "text/plain": [
       "                                               Sentence Sentiment  \\\n",
       "0     The floor area of the Yliopistonrinne project ...   neutral   \n",
       "1     no compensation for its news , opinions or dis...   neutral   \n",
       "2      RT @ACInvestorBlog $AAPL still on track for $500  positive   \n",
       "3     This includes a EUR 39.5 mn change in the fair...   neutral   \n",
       "4                                     $GTE LONG at 7.44  positive   \n",
       "...                                                 ...       ...   \n",
       "9341  @bullya @pollux654321 my 50 $kors 80 calls are...  positive   \n",
       "9342  accord to sepp+ñnen , the new technology umts9...  positive   \n",
       "9343   $crus upgraded to a buy by alpha street research  positive   \n",
       "9344  favourable currency rates also contributed to ...  positive   \n",
       "9345  tesco breaks its downward slide by cutting sal...  positive   \n",
       "\n",
       "                                            cleanedtext  \n",
       "0     [the, floor, area, yliopistonrinn, project, 7,...  \n",
       "1                [compens, news, opinion, distribut, .]  \n",
       "2     [rt, acinvestorblog, $, aapl, still, track, $,...  \n",
       "3     [thi, includ, eur, 39.5, mn, chang, fair, valu...  \n",
       "4                                  [$, gte, long, 7.44]  \n",
       "...                                                 ...  \n",
       "9341  [bullya, pollux654321, 50, $, kor, 80, call, g...  \n",
       "9342  [accord, sepp, nen, new, technolog, umts900, s...  \n",
       "9343     [$, cru, upgrad, buy, alpha, street, research]  \n",
       "9344  [favour, currenc, rate, also, contribut, highe...  \n",
       "9345  [tesco, break, downward, slide, cut, sale, dec...  \n",
       "\n",
       "[9346 rows x 3 columns]"
      ]
     },
     "execution_count": 386,
     "metadata": {},
     "output_type": "execute_result"
    }
   ],
   "source": [
    "traindata"
   ]
  },
  {
   "cell_type": "code",
   "execution_count": 387,
   "id": "eee1a5b0",
   "metadata": {},
   "outputs": [
    {
     "data": {
      "text/html": [
       "<div>\n",
       "<style scoped>\n",
       "    .dataframe tbody tr th:only-of-type {\n",
       "        vertical-align: middle;\n",
       "    }\n",
       "\n",
       "    .dataframe tbody tr th {\n",
       "        vertical-align: top;\n",
       "    }\n",
       "\n",
       "    .dataframe thead th {\n",
       "        text-align: right;\n",
       "    }\n",
       "</style>\n",
       "<table border=\"1\" class=\"dataframe\">\n",
       "  <thead>\n",
       "    <tr style=\"text-align: right;\">\n",
       "      <th></th>\n",
       "      <th>Sentence</th>\n",
       "      <th>Sentiment</th>\n",
       "      <th>cleanedtext</th>\n",
       "    </tr>\n",
       "  </thead>\n",
       "  <tbody>\n",
       "    <tr>\n",
       "      <th>0</th>\n",
       "      <td>A few employees would remain at the Oulu plant...</td>\n",
       "      <td>neutral</td>\n",
       "      <td>[a, employe, would, remain, oulu, plant, suppo...</td>\n",
       "    </tr>\n",
       "    <tr>\n",
       "      <th>1</th>\n",
       "      <td>Comparable net sales are expected to increase ...</td>\n",
       "      <td>positive</td>\n",
       "      <td>[compar, net, sale, expect, increas, 10, %, 20...</td>\n",
       "    </tr>\n",
       "    <tr>\n",
       "      <th>2</th>\n",
       "      <td>Tesla is recalling 2,700 Model X cars: https:/...</td>\n",
       "      <td>negative</td>\n",
       "      <td>[tesla, recal, 2, 700, model, x, car, http, t....</td>\n",
       "    </tr>\n",
       "    <tr>\n",
       "      <th>3</th>\n",
       "      <td>Finnish software developer Done Solutions Oyj ...</td>\n",
       "      <td>positive</td>\n",
       "      <td>[finnish, softwar, develop, done, solut, oyj, ...</td>\n",
       "    </tr>\n",
       "    <tr>\n",
       "      <th>4</th>\n",
       "      <td>Compagnie de Financement Foncier - Is to issue...</td>\n",
       "      <td>neutral</td>\n",
       "      <td>[compagni, de, financ, foncier, is, issu, benc...</td>\n",
       "    </tr>\n",
       "    <tr>\n",
       "      <th>...</th>\n",
       "      <td>...</td>\n",
       "      <td>...</td>\n",
       "      <td>...</td>\n",
       "    </tr>\n",
       "    <tr>\n",
       "      <th>1164</th>\n",
       "      <td>In 2010 , the Marimekko Group s net sales were...</td>\n",
       "      <td>neutral</td>\n",
       "      <td>[in, 2010, marimekko, group, net, sale, eur, 7...</td>\n",
       "    </tr>\n",
       "    <tr>\n",
       "      <th>1165</th>\n",
       "      <td>Nokia said it still expects to sell 150 more m...</td>\n",
       "      <td>neutral</td>\n",
       "      <td>[nokia, said, still, expect, sell, 150, millio...</td>\n",
       "    </tr>\n",
       "    <tr>\n",
       "      <th>1166</th>\n",
       "      <td>PNC, Goldman Sachs Receive Dividend Hike Green...</td>\n",
       "      <td>positive</td>\n",
       "      <td>[pnc, goldman, sach, receiv, dividend, hike, g...</td>\n",
       "    </tr>\n",
       "    <tr>\n",
       "      <th>1167</th>\n",
       "      <td>The company , employing 6,400 , reported net s...</td>\n",
       "      <td>neutral</td>\n",
       "      <td>[the, compani, employ, 6, 400, report, net, sa...</td>\n",
       "    </tr>\n",
       "    <tr>\n",
       "      <th>1168</th>\n",
       "      <td>To see more of New Haven Register , or to subs...</td>\n",
       "      <td>neutral</td>\n",
       "      <td>[to, see, new, haven, regist, subscrib, newspa...</td>\n",
       "    </tr>\n",
       "  </tbody>\n",
       "</table>\n",
       "<p>1169 rows × 3 columns</p>\n",
       "</div>"
      ],
      "text/plain": [
       "                                               Sentence Sentiment  \\\n",
       "0     A few employees would remain at the Oulu plant...   neutral   \n",
       "1     Comparable net sales are expected to increase ...  positive   \n",
       "2     Tesla is recalling 2,700 Model X cars: https:/...  negative   \n",
       "3     Finnish software developer Done Solutions Oyj ...  positive   \n",
       "4     Compagnie de Financement Foncier - Is to issue...   neutral   \n",
       "...                                                 ...       ...   \n",
       "1164  In 2010 , the Marimekko Group s net sales were...   neutral   \n",
       "1165  Nokia said it still expects to sell 150 more m...   neutral   \n",
       "1166  PNC, Goldman Sachs Receive Dividend Hike Green...  positive   \n",
       "1167  The company , employing 6,400 , reported net s...   neutral   \n",
       "1168  To see more of New Haven Register , or to subs...   neutral   \n",
       "\n",
       "                                            cleanedtext  \n",
       "0     [a, employe, would, remain, oulu, plant, suppo...  \n",
       "1     [compar, net, sale, expect, increas, 10, %, 20...  \n",
       "2     [tesla, recal, 2, 700, model, x, car, http, t....  \n",
       "3     [finnish, softwar, develop, done, solut, oyj, ...  \n",
       "4     [compagni, de, financ, foncier, is, issu, benc...  \n",
       "...                                                 ...  \n",
       "1164  [in, 2010, marimekko, group, net, sale, eur, 7...  \n",
       "1165  [nokia, said, still, expect, sell, 150, millio...  \n",
       "1166  [pnc, goldman, sach, receiv, dividend, hike, g...  \n",
       "1167  [the, compani, employ, 6, 400, report, net, sa...  \n",
       "1168  [to, see, new, haven, regist, subscrib, newspa...  \n",
       "\n",
       "[1169 rows x 3 columns]"
      ]
     },
     "execution_count": 387,
     "metadata": {},
     "output_type": "execute_result"
    }
   ],
   "source": [
    "testdata"
   ]
  },
  {
   "cell_type": "code",
   "execution_count": 388,
   "id": "a5643c92",
   "metadata": {},
   "outputs": [],
   "source": [
    "from gensim.models import Word2Vec\n",
    "\n",
    "\n",
    "model = Word2Vec(sentences=traindata['cleanedtext'], vector_size=300, window=5, min_count=1, workers=4, sg=1)\n",
    "\n",
    "\n"
   ]
  },
  {
   "cell_type": "code",
   "execution_count": 389,
   "id": "958ea9a1",
   "metadata": {},
   "outputs": [
    {
     "data": {
      "text/plain": [
       "[('half', 0.9526964426040649),\n",
       " ('99.5', 0.9039949774742126),\n",
       " ('fourth', 0.9002610445022583),\n",
       " ('eur3m', 0.895332396030426),\n",
       " ('third', 0.895143449306488)]"
      ]
     },
     "execution_count": 389,
     "metadata": {},
     "output_type": "execute_result"
    }
   ],
   "source": [
    "similar_words = model.wv.most_similar('quarter', topn=5)\n",
    "similar_words"
   ]
  },
  {
   "cell_type": "code",
   "execution_count": 390,
   "id": "3e2f23ca",
   "metadata": {},
   "outputs": [],
   "source": [
    "embedding_matrix = np.zeros((len(model.wv), 300))\n",
    "for i,word in enumerate(model.wv.index_to_key):\n",
    "    embedding_matrix[i]=model.wv[word]"
   ]
  },
  {
   "cell_type": "code",
   "execution_count": 391,
   "id": "8a2598e6",
   "metadata": {},
   "outputs": [
    {
     "data": {
      "text/plain": [
       "array([[-0.03933627,  0.06811275,  0.06097104, ..., -0.12555334,\n",
       "         0.23320264,  0.10281062],\n",
       "       [-0.07157937,  0.60818756,  0.04960661, ..., -0.14428258,\n",
       "         0.01815648,  0.07559963],\n",
       "       [ 0.13657026,  0.19199803,  0.12709334, ...,  0.26562741,\n",
       "         0.40628844, -0.03506819],\n",
       "       ...,\n",
       "       [ 0.01353226,  0.02269233, -0.00287782, ..., -0.01345976,\n",
       "         0.02993304, -0.01034242],\n",
       "       [ 0.04224454,  0.03854689, -0.00410317, ..., -0.04414758,\n",
       "         0.06092807, -0.00468469],\n",
       "       [ 0.0208823 ,  0.01909496, -0.00081164, ..., -0.0152101 ,\n",
       "         0.03216558, -0.01033037]])"
      ]
     },
     "execution_count": 391,
     "metadata": {},
     "output_type": "execute_result"
    }
   ],
   "source": [
    "embedding_matrix"
   ]
  },
  {
   "cell_type": "markdown",
   "id": "88843944",
   "metadata": {},
   "source": [
    "### Word position in vocabulary"
   ]
  },
  {
   "cell_type": "code",
   "execution_count": 392,
   "id": "ae286c27",
   "metadata": {},
   "outputs": [],
   "source": [
    "word_to_index = model.wv.key_to_index\n",
    "def indexfinder(row):\n",
    "    sentence=[]\n",
    "    for word in row:\n",
    "        index = word_to_index[word]\n",
    "        sentence.append(index)\n",
    "        \n",
    "    return sentence\n",
    "        \n",
    "\n",
    "\n",
    "traindata[\"sequences\"]=traindata[\"cleanedtext\"].apply(indexfinder)\n"
   ]
  },
  {
   "cell_type": "markdown",
   "id": "3d374cbc",
   "metadata": {},
   "source": [
    "### padding"
   ]
  },
  {
   "cell_type": "code",
   "execution_count": 393,
   "id": "728dfd5a",
   "metadata": {},
   "outputs": [],
   "source": [
    "# Pad the sequences to the correct length\n",
    "from tensorflow.keras.preprocessing.sequence import pad_sequences\n",
    "sequences_padded = pad_sequences(traindata['sequences'], maxlen=14, padding='post', truncating='post')\n"
   ]
  },
  {
   "cell_type": "markdown",
   "id": "322b08c5",
   "metadata": {},
   "source": [
    "#  Encoding  target variable"
   ]
  },
  {
   "cell_type": "code",
   "execution_count": 394,
   "id": "3bbbc839",
   "metadata": {},
   "outputs": [],
   "source": [
    "from sklearn.preprocessing import LabelEncoder\n",
    "# Encode the labels\n",
    "label_encoder = LabelEncoder()\n",
    "traindata['Sentiment'] = label_encoder.fit_transform(traindata['Sentiment'])"
   ]
  },
  {
   "cell_type": "code",
   "execution_count": 395,
   "id": "8c8f21f4",
   "metadata": {},
   "outputs": [],
   "source": [
    "testdata['Sentiment']=label_encoder.transform(testdata['Sentiment'])"
   ]
  },
  {
   "cell_type": "code",
   "execution_count": 396,
   "id": "5d01804f",
   "metadata": {},
   "outputs": [
    {
     "data": {
      "text/plain": [
       "array([[0., 1., 0.],\n",
       "       [0., 1., 0.],\n",
       "       [0., 0., 1.],\n",
       "       ...,\n",
       "       [0., 0., 1.],\n",
       "       [0., 0., 1.],\n",
       "       [0., 0., 1.]], dtype=float32)"
      ]
     },
     "execution_count": 396,
     "metadata": {},
     "output_type": "execute_result"
    }
   ],
   "source": [
    "from tensorflow.keras.utils import to_categorical\n",
    "y = to_categorical(traindata['Sentiment'])\n",
    "y"
   ]
  },
  {
   "cell_type": "code",
   "execution_count": 397,
   "id": "e92714b0",
   "metadata": {},
   "outputs": [
    {
     "data": {
      "text/plain": [
       "array([[0., 1., 0.],\n",
       "       [0., 0., 1.],\n",
       "       [1., 0., 0.],\n",
       "       ...,\n",
       "       [0., 0., 1.],\n",
       "       [0., 1., 0.],\n",
       "       [0., 1., 0.]], dtype=float32)"
      ]
     },
     "execution_count": 397,
     "metadata": {},
     "output_type": "execute_result"
    }
   ],
   "source": [
    "y_test=to_categorical(testdata['Sentiment'])\n",
    "y_test"
   ]
  },
  {
   "cell_type": "code",
   "execution_count": 398,
   "id": "0bfcb906",
   "metadata": {},
   "outputs": [],
   "source": [
    "word_to_index = model.wv.key_to_index\n",
    "def indexfinder(row):\n",
    "    sentence = []\n",
    "    \n",
    "    for word in row:\n",
    "        index = word_to_index.get(word, -1)\n",
    "        if index != -1: \n",
    "            sentence.append(index)\n",
    "    return sentence\n"
   ]
  },
  {
   "cell_type": "code",
   "execution_count": 399,
   "id": "5f93307e",
   "metadata": {},
   "outputs": [],
   "source": [
    "testdata[\"sequences\"] = testdata[\"cleanedtext\"].apply(indexfinder)\n",
    "testdata_padded = pad_sequences(testdata['sequences'], maxlen=14, padding='post', truncating='post')\n"
   ]
  },
  {
   "cell_type": "code",
   "execution_count": 400,
   "id": "e892a8b3",
   "metadata": {},
   "outputs": [
    {
     "data": {
      "text/plain": [
       "array([[ 271,  140,  129, ...,    0,    0,    0],\n",
       "       [  38,   14,    6, ...,    0,    0,    0],\n",
       "       [ 898,  720,   99, ...,    0,    0,    0],\n",
       "       ...,\n",
       "       [1339, 1336,  432, ...,   73,    2,    2],\n",
       "       [   5,    3,  340, ...,    2,   16,   43],\n",
       "       [1139,  361,   23, ...,    0,    0,    0]])"
      ]
     },
     "execution_count": 400,
     "metadata": {},
     "output_type": "execute_result"
    }
   ],
   "source": [
    "testdata_padded"
   ]
  },
  {
   "cell_type": "markdown",
   "id": "838aaba2",
   "metadata": {},
   "source": [
    "## Model\n"
   ]
  },
  {
   "cell_type": "markdown",
   "id": "1ce23043",
   "metadata": {},
   "source": [
    "## Vanilla RNN"
   ]
  },
  {
   "cell_type": "code",
   "execution_count": 401,
   "id": "6a7341fd",
   "metadata": {},
   "outputs": [],
   "source": [
    "from tensorflow.keras.layers import Dropout\n",
    "\n",
    "seq_model = Sequential()\n",
    "seq_model.add(Embedding(input_dim=len(model.wv), output_dim=300, input_length=14, weights=[embedding_matrix], trainable=False))\n",
    "seq_model.add(Dropout(0.2))\n",
    "seq_model.add(SimpleRNN(units=32))\n",
    "\n",
    "seq_model.add(Dense(3, activation='softmax'))\n",
    "\n",
    "seq_model.compile(loss='categorical_crossentropy', optimizer='adam', metrics=['accuracy'])\n",
    "\n"
   ]
  },
  {
   "cell_type": "code",
   "execution_count": 402,
   "id": "21b692d9",
   "metadata": {},
   "outputs": [
    {
     "name": "stdout",
     "output_type": "stream",
     "text": [
      "Epoch 1/5\n",
      "293/293 - 3s - loss: 0.9155 - accuracy: 0.5763 - val_loss: 0.8466 - val_accuracy: 0.6228 - 3s/epoch - 10ms/step\n",
      "Epoch 2/5\n",
      "293/293 - 1s - loss: 0.8613 - accuracy: 0.6087 - val_loss: 0.8529 - val_accuracy: 0.6236 - 1s/epoch - 5ms/step\n",
      "Epoch 3/5\n",
      "293/293 - 1s - loss: 0.8529 - accuracy: 0.6158 - val_loss: 0.8268 - val_accuracy: 0.6279 - 1s/epoch - 5ms/step\n",
      "Epoch 4/5\n",
      "293/293 - 1s - loss: 0.8398 - accuracy: 0.6191 - val_loss: 0.8175 - val_accuracy: 0.6236 - 1s/epoch - 5ms/step\n",
      "Epoch 5/5\n",
      "293/293 - 1s - loss: 0.8366 - accuracy: 0.6235 - val_loss: 0.8302 - val_accuracy: 0.6322 - 1s/epoch - 5ms/step\n"
     ]
    },
    {
     "data": {
      "text/plain": [
       "<keras.callbacks.History at 0x1d34f633040>"
      ]
     },
     "execution_count": 402,
     "metadata": {},
     "output_type": "execute_result"
    }
   ],
   "source": [
    "seq_model.fit(sequences_padded, y, batch_size=32, epochs=5, validation_data=(testdata_padded, y_test), verbose=2)"
   ]
  },
  {
   "cell_type": "code",
   "execution_count": 403,
   "id": "26bb9cec",
   "metadata": {},
   "outputs": [
    {
     "name": "stdout",
     "output_type": "stream",
     "text": [
      "Test Accuracy  0.6321642398834229\n"
     ]
    }
   ],
   "source": [
    "loss, accuracy = seq_model.evaluate(testdata_padded, y_test, verbose=0)\n",
    "print(\"Test Accuracy \",accuracy)\n",
    "va_acc=accuracy\n"
   ]
  },
  {
   "cell_type": "code",
   "execution_count": 404,
   "id": "bd727179",
   "metadata": {},
   "outputs": [
    {
     "name": "stdout",
     "output_type": "stream",
     "text": [
      "37/37 [==============================] - 0s 2ms/step\n",
      "              precision    recall  f1-score   support\n",
      "\n",
      "           0       0.17      0.01      0.01       175\n",
      "           1       0.65      0.95      0.77       622\n",
      "           2       0.58      0.39      0.47       372\n",
      "\n",
      "    accuracy                           0.63      1169\n",
      "   macro avg       0.46      0.45      0.42      1169\n",
      "weighted avg       0.55      0.63      0.56      1169\n",
      "\n"
     ]
    }
   ],
   "source": [
    "\n",
    "y_pred = seq_model.predict(testdata_padded)\n",
    "\n",
    "y_pred_labels = np.argmax(y_pred, axis=1)\n",
    "y_test_labels = np.argmax(y_test, axis=1)\n",
    "\n",
    "\n",
    "report = classification_report(y_test_labels, y_pred_labels)\n",
    "print(report)"
   ]
  },
  {
   "cell_type": "markdown",
   "id": "a243165c",
   "metadata": {},
   "source": [
    "## Lstm"
   ]
  },
  {
   "cell_type": "code",
   "execution_count": 405,
   "id": "8ee3fceb",
   "metadata": {},
   "outputs": [],
   "source": [
    "LSTM_model = Sequential()\n",
    "LSTM_model.add(Embedding(input_dim=len(model.wv), output_dim=300, input_length=14, weights=[embedding_matrix], trainable=False))\n",
    "LSTM_model.add(Dropout(0.2))\n",
    "LSTM_model.add(LSTM(128))\n",
    "\n",
    "LSTM_model.add(Dense(3, activation='softmax'))\n",
    "\n",
    "LSTM_model.compile(loss='categorical_crossentropy', optimizer='adam', metrics=['accuracy'])\n"
   ]
  },
  {
   "cell_type": "code",
   "execution_count": 406,
   "id": "fcc66759",
   "metadata": {},
   "outputs": [
    {
     "name": "stdout",
     "output_type": "stream",
     "text": [
      "Epoch 1/5\n",
      "293/293 - 7s - loss: 0.8724 - accuracy: 0.6074 - val_loss: 0.8096 - val_accuracy: 0.6416 - 7s/epoch - 24ms/step\n",
      "Epoch 2/5\n",
      "293/293 - 4s - loss: 0.8384 - accuracy: 0.6172 - val_loss: 0.8020 - val_accuracy: 0.6339 - 4s/epoch - 12ms/step\n",
      "Epoch 3/5\n",
      "293/293 - 3s - loss: 0.8272 - accuracy: 0.6295 - val_loss: 0.8086 - val_accuracy: 0.6433 - 3s/epoch - 11ms/step\n",
      "Epoch 4/5\n",
      "293/293 - 4s - loss: 0.8149 - accuracy: 0.6293 - val_loss: 0.7795 - val_accuracy: 0.6467 - 4s/epoch - 13ms/step\n",
      "Epoch 5/5\n",
      "293/293 - 5s - loss: 0.8012 - accuracy: 0.6388 - val_loss: 0.7792 - val_accuracy: 0.6536 - 5s/epoch - 16ms/step\n"
     ]
    },
    {
     "data": {
      "text/plain": [
       "<keras.callbacks.History at 0x1d3e9b518d0>"
      ]
     },
     "execution_count": 406,
     "metadata": {},
     "output_type": "execute_result"
    }
   ],
   "source": [
    "LSTM_model.fit(sequences_padded, y, batch_size=32, epochs=5, validation_data=(testdata_padded, y_test), verbose=2)"
   ]
  },
  {
   "cell_type": "code",
   "execution_count": 407,
   "id": "f93dffcf",
   "metadata": {},
   "outputs": [
    {
     "name": "stdout",
     "output_type": "stream",
     "text": [
      "Test Accuracy  0.6535500288009644\n"
     ]
    }
   ],
   "source": [
    "loss, accuracy = LSTM_model.evaluate(testdata_padded, y_test, verbose=0)\n",
    "print(\"Test Accuracy \",accuracy)\n",
    "Lstm_accu=accuracy"
   ]
  },
  {
   "cell_type": "code",
   "execution_count": 408,
   "id": "413c162a",
   "metadata": {},
   "outputs": [
    {
     "name": "stdout",
     "output_type": "stream",
     "text": [
      "37/37 [==============================] - 1s 4ms/step\n",
      "              precision    recall  f1-score   support\n",
      "\n",
      "           0       0.23      0.04      0.07       175\n",
      "           1       0.70      0.89      0.79       622\n",
      "           2       0.58      0.55      0.56       372\n",
      "\n",
      "    accuracy                           0.65      1169\n",
      "   macro avg       0.50      0.49      0.47      1169\n",
      "weighted avg       0.59      0.65      0.61      1169\n",
      "\n"
     ]
    }
   ],
   "source": [
    "\n",
    "y_pred = LSTM_model.predict(testdata_padded)\n",
    "\n",
    "\n",
    "y_pred_labels = np.argmax(y_pred, axis=1)\n",
    "y_test_labels = np.argmax(y_test, axis=1)\n",
    "\n",
    "\n",
    "report = classification_report(y_test_labels, y_pred_labels)\n",
    "print(report)"
   ]
  },
  {
   "cell_type": "markdown",
   "id": "be789038",
   "metadata": {},
   "source": [
    "### Bidirectional LSTM"
   ]
  },
  {
   "cell_type": "code",
   "execution_count": 409,
   "id": "52e98a0a",
   "metadata": {},
   "outputs": [],
   "source": [
    "Bid_model = Sequential()\n",
    "Bid_model.add(Embedding(input_dim=len(model.wv), output_dim=300, input_length=14, weights=[embedding_matrix], trainable=False))\n",
    "Bid_model.add(Dropout(0.2))\n",
    "\n",
    "Bid_model.add(Bidirectional(LSTM(128)))\n",
    "\n",
    "Bid_model.add(Dense(3, activation='softmax'))\n",
    "\n",
    "Bid_model.compile(loss='categorical_crossentropy', optimizer='adam', metrics=['accuracy'])\n"
   ]
  },
  {
   "cell_type": "code",
   "execution_count": 410,
   "id": "69016f98",
   "metadata": {},
   "outputs": [
    {
     "name": "stdout",
     "output_type": "stream",
     "text": [
      "Epoch 1/5\n",
      "293/293 - 26s - loss: 0.8699 - accuracy: 0.6042 - val_loss: 0.8056 - val_accuracy: 0.6313 - 26s/epoch - 88ms/step\n",
      "Epoch 2/5\n",
      "293/293 - 17s - loss: 0.8230 - accuracy: 0.6272 - val_loss: 0.7824 - val_accuracy: 0.6527 - 17s/epoch - 58ms/step\n",
      "Epoch 3/5\n",
      "293/293 - 21s - loss: 0.8087 - accuracy: 0.6337 - val_loss: 0.7747 - val_accuracy: 0.6424 - 21s/epoch - 73ms/step\n",
      "Epoch 4/5\n",
      "293/293 - 26s - loss: 0.7898 - accuracy: 0.6427 - val_loss: 0.7782 - val_accuracy: 0.6493 - 26s/epoch - 88ms/step\n",
      "Epoch 5/5\n",
      "293/293 - 24s - loss: 0.7720 - accuracy: 0.6484 - val_loss: 0.7688 - val_accuracy: 0.6570 - 24s/epoch - 82ms/step\n"
     ]
    },
    {
     "data": {
      "text/plain": [
       "<keras.callbacks.History at 0x1d4028e6d10>"
      ]
     },
     "execution_count": 410,
     "metadata": {},
     "output_type": "execute_result"
    }
   ],
   "source": [
    "Bid_model.fit(sequences_padded, y, batch_size=32, epochs=5, validation_data=(testdata_padded, y_test), verbose=2)"
   ]
  },
  {
   "cell_type": "code",
   "execution_count": 411,
   "id": "a02306c8",
   "metadata": {},
   "outputs": [
    {
     "name": "stdout",
     "output_type": "stream",
     "text": [
      "Test Accuracy  0.6569717526435852\n"
     ]
    }
   ],
   "source": [
    "loss, accuracy = Bid_model.evaluate(testdata_padded, y_test, verbose=0)\n",
    "print(\"Test Accuracy \",accuracy)\n",
    "bid_acc=accuracy"
   ]
  },
  {
   "cell_type": "code",
   "execution_count": 412,
   "id": "2b557153",
   "metadata": {},
   "outputs": [
    {
     "name": "stdout",
     "output_type": "stream",
     "text": [
      "37/37 [==============================] - 2s 6ms/step\n",
      "              precision    recall  f1-score   support\n",
      "\n",
      "           0       0.33      0.04      0.07       175\n",
      "           1       0.68      0.91      0.78       622\n",
      "           2       0.61      0.52      0.56       372\n",
      "\n",
      "    accuracy                           0.66      1169\n",
      "   macro avg       0.54      0.49      0.47      1169\n",
      "weighted avg       0.61      0.66      0.60      1169\n",
      "\n"
     ]
    }
   ],
   "source": [
    "\n",
    "y_pred = Bid_model.predict(testdata_padded)\n",
    "\n",
    "\n",
    "y_pred_labels = np.argmax(y_pred, axis=1)\n",
    "y_test_labels = np.argmax(y_test, axis=1)\n",
    "\n",
    "\n",
    "report = classification_report(y_test_labels, y_pred_labels)\n",
    "print(report)"
   ]
  },
  {
   "cell_type": "markdown",
   "id": "1812d146",
   "metadata": {},
   "source": [
    "## GRU"
   ]
  },
  {
   "cell_type": "code",
   "execution_count": 413,
   "id": "d79c08f8",
   "metadata": {},
   "outputs": [],
   "source": [
    "GRU_model = Sequential()\n",
    "GRU_model.add(Embedding(input_dim=len(model.wv), output_dim=300, input_length=14, weights=[embedding_matrix], trainable=False))\n",
    "GRU_model.add(SpatialDropout1D(0.2))\n",
    "GRU_model.add(GRU(128))\n",
    "\n",
    "GRU_model.add(Dense(3, activation='softmax'))\n",
    "\n",
    "GRU_model.compile(loss='categorical_crossentropy', optimizer='adam', metrics=['accuracy'])\n"
   ]
  },
  {
   "cell_type": "code",
   "execution_count": 414,
   "id": "1be90810",
   "metadata": {},
   "outputs": [
    {
     "name": "stdout",
     "output_type": "stream",
     "text": [
      "Epoch 1/5\n",
      "293/293 - 8s - loss: 0.8869 - accuracy: 0.5928 - val_loss: 0.8334 - val_accuracy: 0.6116 - 8s/epoch - 27ms/step\n",
      "Epoch 2/5\n",
      "293/293 - 5s - loss: 0.8461 - accuracy: 0.6146 - val_loss: 0.8151 - val_accuracy: 0.6279 - 5s/epoch - 17ms/step\n",
      "Epoch 3/5\n",
      "293/293 - 5s - loss: 0.8282 - accuracy: 0.6299 - val_loss: 0.7963 - val_accuracy: 0.6450 - 5s/epoch - 16ms/step\n",
      "Epoch 4/5\n",
      "293/293 - 4s - loss: 0.8156 - accuracy: 0.6385 - val_loss: 0.8137 - val_accuracy: 0.6296 - 4s/epoch - 15ms/step\n",
      "Epoch 5/5\n",
      "293/293 - 5s - loss: 0.8076 - accuracy: 0.6391 - val_loss: 0.8123 - val_accuracy: 0.6339 - 5s/epoch - 17ms/step\n"
     ]
    },
    {
     "data": {
      "text/plain": [
       "<keras.callbacks.History at 0x1d4574b79d0>"
      ]
     },
     "execution_count": 414,
     "metadata": {},
     "output_type": "execute_result"
    }
   ],
   "source": [
    "GRU_model.fit(sequences_padded, y, batch_size=32, epochs=5, validation_data=(testdata_padded, y_test), verbose=2)"
   ]
  },
  {
   "cell_type": "code",
   "execution_count": 415,
   "id": "a412f6e0",
   "metadata": {},
   "outputs": [
    {
     "name": "stdout",
     "output_type": "stream",
     "text": [
      "Test Accuracy  0.6338751316070557\n"
     ]
    }
   ],
   "source": [
    "loss, accuracy = GRU_model.evaluate(testdata_padded, y_test, verbose=0)\n",
    "print(\"Test Accuracy \",accuracy)\n",
    "gru_accu=accuracy\n"
   ]
  },
  {
   "cell_type": "code",
   "execution_count": 416,
   "id": "328fb452",
   "metadata": {},
   "outputs": [
    {
     "name": "stdout",
     "output_type": "stream",
     "text": [
      "37/37 [==============================] - 1s 4ms/step\n",
      "              precision    recall  f1-score   support\n",
      "\n",
      "           0       0.17      0.01      0.01       175\n",
      "           1       0.71      0.81      0.76       622\n",
      "           2       0.52      0.63      0.57       372\n",
      "\n",
      "    accuracy                           0.63      1169\n",
      "   macro avg       0.47      0.48      0.45      1169\n",
      "weighted avg       0.57      0.63      0.59      1169\n",
      "\n"
     ]
    }
   ],
   "source": [
    "\n",
    "y_pred = GRU_model.predict(testdata_padded)\n",
    "\n",
    "\n",
    "y_pred_labels = np.argmax(y_pred, axis=1)\n",
    "y_test_labels = np.argmax(y_test, axis=1)\n",
    "\n",
    "\n",
    "report = classification_report(y_test_labels, y_pred_labels)\n",
    "print(report)"
   ]
  },
  {
   "cell_type": "code",
   "execution_count": 417,
   "id": "1025285d",
   "metadata": {},
   "outputs": [
    {
     "data": {
      "application/vnd.plotly.v1+json": {
       "config": {
        "plotlyServerURL": "https://plot.ly"
       },
       "data": [
        {
         "marker": {
          "color": "orange"
         },
         "type": "bar",
         "x": [
          "Vanilla_RNN",
          "LSTM",
          "GRU",
          "Bidirec-LSTM"
         ],
         "y": [
          0.6321642398834229,
          0.6535500288009644,
          0.6338751316070557,
          0.6569717526435852
         ]
        }
       ],
       "layout": {
        "template": {
         "data": {
          "bar": [
           {
            "error_x": {
             "color": "#2a3f5f"
            },
            "error_y": {
             "color": "#2a3f5f"
            },
            "marker": {
             "line": {
              "color": "#E5ECF6",
              "width": 0.5
             },
             "pattern": {
              "fillmode": "overlay",
              "size": 10,
              "solidity": 0.2
             }
            },
            "type": "bar"
           }
          ],
          "barpolar": [
           {
            "marker": {
             "line": {
              "color": "#E5ECF6",
              "width": 0.5
             },
             "pattern": {
              "fillmode": "overlay",
              "size": 10,
              "solidity": 0.2
             }
            },
            "type": "barpolar"
           }
          ],
          "carpet": [
           {
            "aaxis": {
             "endlinecolor": "#2a3f5f",
             "gridcolor": "white",
             "linecolor": "white",
             "minorgridcolor": "white",
             "startlinecolor": "#2a3f5f"
            },
            "baxis": {
             "endlinecolor": "#2a3f5f",
             "gridcolor": "white",
             "linecolor": "white",
             "minorgridcolor": "white",
             "startlinecolor": "#2a3f5f"
            },
            "type": "carpet"
           }
          ],
          "choropleth": [
           {
            "colorbar": {
             "outlinewidth": 0,
             "ticks": ""
            },
            "type": "choropleth"
           }
          ],
          "contour": [
           {
            "colorbar": {
             "outlinewidth": 0,
             "ticks": ""
            },
            "colorscale": [
             [
              0,
              "#0d0887"
             ],
             [
              0.1111111111111111,
              "#46039f"
             ],
             [
              0.2222222222222222,
              "#7201a8"
             ],
             [
              0.3333333333333333,
              "#9c179e"
             ],
             [
              0.4444444444444444,
              "#bd3786"
             ],
             [
              0.5555555555555556,
              "#d8576b"
             ],
             [
              0.6666666666666666,
              "#ed7953"
             ],
             [
              0.7777777777777778,
              "#fb9f3a"
             ],
             [
              0.8888888888888888,
              "#fdca26"
             ],
             [
              1,
              "#f0f921"
             ]
            ],
            "type": "contour"
           }
          ],
          "contourcarpet": [
           {
            "colorbar": {
             "outlinewidth": 0,
             "ticks": ""
            },
            "type": "contourcarpet"
           }
          ],
          "heatmap": [
           {
            "colorbar": {
             "outlinewidth": 0,
             "ticks": ""
            },
            "colorscale": [
             [
              0,
              "#0d0887"
             ],
             [
              0.1111111111111111,
              "#46039f"
             ],
             [
              0.2222222222222222,
              "#7201a8"
             ],
             [
              0.3333333333333333,
              "#9c179e"
             ],
             [
              0.4444444444444444,
              "#bd3786"
             ],
             [
              0.5555555555555556,
              "#d8576b"
             ],
             [
              0.6666666666666666,
              "#ed7953"
             ],
             [
              0.7777777777777778,
              "#fb9f3a"
             ],
             [
              0.8888888888888888,
              "#fdca26"
             ],
             [
              1,
              "#f0f921"
             ]
            ],
            "type": "heatmap"
           }
          ],
          "heatmapgl": [
           {
            "colorbar": {
             "outlinewidth": 0,
             "ticks": ""
            },
            "colorscale": [
             [
              0,
              "#0d0887"
             ],
             [
              0.1111111111111111,
              "#46039f"
             ],
             [
              0.2222222222222222,
              "#7201a8"
             ],
             [
              0.3333333333333333,
              "#9c179e"
             ],
             [
              0.4444444444444444,
              "#bd3786"
             ],
             [
              0.5555555555555556,
              "#d8576b"
             ],
             [
              0.6666666666666666,
              "#ed7953"
             ],
             [
              0.7777777777777778,
              "#fb9f3a"
             ],
             [
              0.8888888888888888,
              "#fdca26"
             ],
             [
              1,
              "#f0f921"
             ]
            ],
            "type": "heatmapgl"
           }
          ],
          "histogram": [
           {
            "marker": {
             "pattern": {
              "fillmode": "overlay",
              "size": 10,
              "solidity": 0.2
             }
            },
            "type": "histogram"
           }
          ],
          "histogram2d": [
           {
            "colorbar": {
             "outlinewidth": 0,
             "ticks": ""
            },
            "colorscale": [
             [
              0,
              "#0d0887"
             ],
             [
              0.1111111111111111,
              "#46039f"
             ],
             [
              0.2222222222222222,
              "#7201a8"
             ],
             [
              0.3333333333333333,
              "#9c179e"
             ],
             [
              0.4444444444444444,
              "#bd3786"
             ],
             [
              0.5555555555555556,
              "#d8576b"
             ],
             [
              0.6666666666666666,
              "#ed7953"
             ],
             [
              0.7777777777777778,
              "#fb9f3a"
             ],
             [
              0.8888888888888888,
              "#fdca26"
             ],
             [
              1,
              "#f0f921"
             ]
            ],
            "type": "histogram2d"
           }
          ],
          "histogram2dcontour": [
           {
            "colorbar": {
             "outlinewidth": 0,
             "ticks": ""
            },
            "colorscale": [
             [
              0,
              "#0d0887"
             ],
             [
              0.1111111111111111,
              "#46039f"
             ],
             [
              0.2222222222222222,
              "#7201a8"
             ],
             [
              0.3333333333333333,
              "#9c179e"
             ],
             [
              0.4444444444444444,
              "#bd3786"
             ],
             [
              0.5555555555555556,
              "#d8576b"
             ],
             [
              0.6666666666666666,
              "#ed7953"
             ],
             [
              0.7777777777777778,
              "#fb9f3a"
             ],
             [
              0.8888888888888888,
              "#fdca26"
             ],
             [
              1,
              "#f0f921"
             ]
            ],
            "type": "histogram2dcontour"
           }
          ],
          "mesh3d": [
           {
            "colorbar": {
             "outlinewidth": 0,
             "ticks": ""
            },
            "type": "mesh3d"
           }
          ],
          "parcoords": [
           {
            "line": {
             "colorbar": {
              "outlinewidth": 0,
              "ticks": ""
             }
            },
            "type": "parcoords"
           }
          ],
          "pie": [
           {
            "automargin": true,
            "type": "pie"
           }
          ],
          "scatter": [
           {
            "fillpattern": {
             "fillmode": "overlay",
             "size": 10,
             "solidity": 0.2
            },
            "type": "scatter"
           }
          ],
          "scatter3d": [
           {
            "line": {
             "colorbar": {
              "outlinewidth": 0,
              "ticks": ""
             }
            },
            "marker": {
             "colorbar": {
              "outlinewidth": 0,
              "ticks": ""
             }
            },
            "type": "scatter3d"
           }
          ],
          "scattercarpet": [
           {
            "marker": {
             "colorbar": {
              "outlinewidth": 0,
              "ticks": ""
             }
            },
            "type": "scattercarpet"
           }
          ],
          "scattergeo": [
           {
            "marker": {
             "colorbar": {
              "outlinewidth": 0,
              "ticks": ""
             }
            },
            "type": "scattergeo"
           }
          ],
          "scattergl": [
           {
            "marker": {
             "colorbar": {
              "outlinewidth": 0,
              "ticks": ""
             }
            },
            "type": "scattergl"
           }
          ],
          "scattermapbox": [
           {
            "marker": {
             "colorbar": {
              "outlinewidth": 0,
              "ticks": ""
             }
            },
            "type": "scattermapbox"
           }
          ],
          "scatterpolar": [
           {
            "marker": {
             "colorbar": {
              "outlinewidth": 0,
              "ticks": ""
             }
            },
            "type": "scatterpolar"
           }
          ],
          "scatterpolargl": [
           {
            "marker": {
             "colorbar": {
              "outlinewidth": 0,
              "ticks": ""
             }
            },
            "type": "scatterpolargl"
           }
          ],
          "scatterternary": [
           {
            "marker": {
             "colorbar": {
              "outlinewidth": 0,
              "ticks": ""
             }
            },
            "type": "scatterternary"
           }
          ],
          "surface": [
           {
            "colorbar": {
             "outlinewidth": 0,
             "ticks": ""
            },
            "colorscale": [
             [
              0,
              "#0d0887"
             ],
             [
              0.1111111111111111,
              "#46039f"
             ],
             [
              0.2222222222222222,
              "#7201a8"
             ],
             [
              0.3333333333333333,
              "#9c179e"
             ],
             [
              0.4444444444444444,
              "#bd3786"
             ],
             [
              0.5555555555555556,
              "#d8576b"
             ],
             [
              0.6666666666666666,
              "#ed7953"
             ],
             [
              0.7777777777777778,
              "#fb9f3a"
             ],
             [
              0.8888888888888888,
              "#fdca26"
             ],
             [
              1,
              "#f0f921"
             ]
            ],
            "type": "surface"
           }
          ],
          "table": [
           {
            "cells": {
             "fill": {
              "color": "#EBF0F8"
             },
             "line": {
              "color": "white"
             }
            },
            "header": {
             "fill": {
              "color": "#C8D4E3"
             },
             "line": {
              "color": "white"
             }
            },
            "type": "table"
           }
          ]
         },
         "layout": {
          "annotationdefaults": {
           "arrowcolor": "#2a3f5f",
           "arrowhead": 0,
           "arrowwidth": 1
          },
          "autotypenumbers": "strict",
          "coloraxis": {
           "colorbar": {
            "outlinewidth": 0,
            "ticks": ""
           }
          },
          "colorscale": {
           "diverging": [
            [
             0,
             "#8e0152"
            ],
            [
             0.1,
             "#c51b7d"
            ],
            [
             0.2,
             "#de77ae"
            ],
            [
             0.3,
             "#f1b6da"
            ],
            [
             0.4,
             "#fde0ef"
            ],
            [
             0.5,
             "#f7f7f7"
            ],
            [
             0.6,
             "#e6f5d0"
            ],
            [
             0.7,
             "#b8e186"
            ],
            [
             0.8,
             "#7fbc41"
            ],
            [
             0.9,
             "#4d9221"
            ],
            [
             1,
             "#276419"
            ]
           ],
           "sequential": [
            [
             0,
             "#0d0887"
            ],
            [
             0.1111111111111111,
             "#46039f"
            ],
            [
             0.2222222222222222,
             "#7201a8"
            ],
            [
             0.3333333333333333,
             "#9c179e"
            ],
            [
             0.4444444444444444,
             "#bd3786"
            ],
            [
             0.5555555555555556,
             "#d8576b"
            ],
            [
             0.6666666666666666,
             "#ed7953"
            ],
            [
             0.7777777777777778,
             "#fb9f3a"
            ],
            [
             0.8888888888888888,
             "#fdca26"
            ],
            [
             1,
             "#f0f921"
            ]
           ],
           "sequentialminus": [
            [
             0,
             "#0d0887"
            ],
            [
             0.1111111111111111,
             "#46039f"
            ],
            [
             0.2222222222222222,
             "#7201a8"
            ],
            [
             0.3333333333333333,
             "#9c179e"
            ],
            [
             0.4444444444444444,
             "#bd3786"
            ],
            [
             0.5555555555555556,
             "#d8576b"
            ],
            [
             0.6666666666666666,
             "#ed7953"
            ],
            [
             0.7777777777777778,
             "#fb9f3a"
            ],
            [
             0.8888888888888888,
             "#fdca26"
            ],
            [
             1,
             "#f0f921"
            ]
           ]
          },
          "colorway": [
           "#636efa",
           "#EF553B",
           "#00cc96",
           "#ab63fa",
           "#FFA15A",
           "#19d3f3",
           "#FF6692",
           "#B6E880",
           "#FF97FF",
           "#FECB52"
          ],
          "font": {
           "color": "#2a3f5f"
          },
          "geo": {
           "bgcolor": "white",
           "lakecolor": "white",
           "landcolor": "#E5ECF6",
           "showlakes": true,
           "showland": true,
           "subunitcolor": "white"
          },
          "hoverlabel": {
           "align": "left"
          },
          "hovermode": "closest",
          "mapbox": {
           "style": "light"
          },
          "paper_bgcolor": "white",
          "plot_bgcolor": "#E5ECF6",
          "polar": {
           "angularaxis": {
            "gridcolor": "white",
            "linecolor": "white",
            "ticks": ""
           },
           "bgcolor": "#E5ECF6",
           "radialaxis": {
            "gridcolor": "white",
            "linecolor": "white",
            "ticks": ""
           }
          },
          "scene": {
           "xaxis": {
            "backgroundcolor": "#E5ECF6",
            "gridcolor": "white",
            "gridwidth": 2,
            "linecolor": "white",
            "showbackground": true,
            "ticks": "",
            "zerolinecolor": "white"
           },
           "yaxis": {
            "backgroundcolor": "#E5ECF6",
            "gridcolor": "white",
            "gridwidth": 2,
            "linecolor": "white",
            "showbackground": true,
            "ticks": "",
            "zerolinecolor": "white"
           },
           "zaxis": {
            "backgroundcolor": "#E5ECF6",
            "gridcolor": "white",
            "gridwidth": 2,
            "linecolor": "white",
            "showbackground": true,
            "ticks": "",
            "zerolinecolor": "white"
           }
          },
          "shapedefaults": {
           "line": {
            "color": "#2a3f5f"
           }
          },
          "ternary": {
           "aaxis": {
            "gridcolor": "white",
            "linecolor": "white",
            "ticks": ""
           },
           "baxis": {
            "gridcolor": "white",
            "linecolor": "white",
            "ticks": ""
           },
           "bgcolor": "#E5ECF6",
           "caxis": {
            "gridcolor": "white",
            "linecolor": "white",
            "ticks": ""
           }
          },
          "title": {
           "x": 0.05
          },
          "xaxis": {
           "automargin": true,
           "gridcolor": "white",
           "linecolor": "white",
           "ticks": "",
           "title": {
            "standoff": 15
           },
           "zerolinecolor": "white",
           "zerolinewidth": 2
          },
          "yaxis": {
           "automargin": true,
           "gridcolor": "white",
           "linecolor": "white",
           "ticks": "",
           "title": {
            "standoff": 15
           },
           "zerolinecolor": "white",
           "zerolinewidth": 2
          }
         }
        },
        "title": {
         "text": "Accuracy of Models"
        },
        "xaxis": {
         "title": {
          "text": "Models"
         }
        },
        "yaxis": {
         "title": {
          "text": "Accuracy"
         }
        }
       }
      },
      "text/html": [
       "<div>                            <div id=\"941b2f4a-3ce2-4e5e-a51d-a591efb87130\" class=\"plotly-graph-div\" style=\"height:525px; width:100%;\"></div>            <script type=\"text/javascript\">                require([\"plotly\"], function(Plotly) {                    window.PLOTLYENV=window.PLOTLYENV || {};                                    if (document.getElementById(\"941b2f4a-3ce2-4e5e-a51d-a591efb87130\")) {                    Plotly.newPlot(                        \"941b2f4a-3ce2-4e5e-a51d-a591efb87130\",                        [{\"marker\":{\"color\":\"orange\"},\"x\":[\"Vanilla_RNN\",\"LSTM\",\"GRU\",\"Bidirec-LSTM\"],\"y\":[0.6321642398834229,0.6535500288009644,0.6338751316070557,0.6569717526435852],\"type\":\"bar\"}],                        {\"template\":{\"data\":{\"histogram2dcontour\":[{\"type\":\"histogram2dcontour\",\"colorbar\":{\"outlinewidth\":0,\"ticks\":\"\"},\"colorscale\":[[0.0,\"#0d0887\"],[0.1111111111111111,\"#46039f\"],[0.2222222222222222,\"#7201a8\"],[0.3333333333333333,\"#9c179e\"],[0.4444444444444444,\"#bd3786\"],[0.5555555555555556,\"#d8576b\"],[0.6666666666666666,\"#ed7953\"],[0.7777777777777778,\"#fb9f3a\"],[0.8888888888888888,\"#fdca26\"],[1.0,\"#f0f921\"]]}],\"choropleth\":[{\"type\":\"choropleth\",\"colorbar\":{\"outlinewidth\":0,\"ticks\":\"\"}}],\"histogram2d\":[{\"type\":\"histogram2d\",\"colorbar\":{\"outlinewidth\":0,\"ticks\":\"\"},\"colorscale\":[[0.0,\"#0d0887\"],[0.1111111111111111,\"#46039f\"],[0.2222222222222222,\"#7201a8\"],[0.3333333333333333,\"#9c179e\"],[0.4444444444444444,\"#bd3786\"],[0.5555555555555556,\"#d8576b\"],[0.6666666666666666,\"#ed7953\"],[0.7777777777777778,\"#fb9f3a\"],[0.8888888888888888,\"#fdca26\"],[1.0,\"#f0f921\"]]}],\"heatmap\":[{\"type\":\"heatmap\",\"colorbar\":{\"outlinewidth\":0,\"ticks\":\"\"},\"colorscale\":[[0.0,\"#0d0887\"],[0.1111111111111111,\"#46039f\"],[0.2222222222222222,\"#7201a8\"],[0.3333333333333333,\"#9c179e\"],[0.4444444444444444,\"#bd3786\"],[0.5555555555555556,\"#d8576b\"],[0.6666666666666666,\"#ed7953\"],[0.7777777777777778,\"#fb9f3a\"],[0.8888888888888888,\"#fdca26\"],[1.0,\"#f0f921\"]]}],\"heatmapgl\":[{\"type\":\"heatmapgl\",\"colorbar\":{\"outlinewidth\":0,\"ticks\":\"\"},\"colorscale\":[[0.0,\"#0d0887\"],[0.1111111111111111,\"#46039f\"],[0.2222222222222222,\"#7201a8\"],[0.3333333333333333,\"#9c179e\"],[0.4444444444444444,\"#bd3786\"],[0.5555555555555556,\"#d8576b\"],[0.6666666666666666,\"#ed7953\"],[0.7777777777777778,\"#fb9f3a\"],[0.8888888888888888,\"#fdca26\"],[1.0,\"#f0f921\"]]}],\"contourcarpet\":[{\"type\":\"contourcarpet\",\"colorbar\":{\"outlinewidth\":0,\"ticks\":\"\"}}],\"contour\":[{\"type\":\"contour\",\"colorbar\":{\"outlinewidth\":0,\"ticks\":\"\"},\"colorscale\":[[0.0,\"#0d0887\"],[0.1111111111111111,\"#46039f\"],[0.2222222222222222,\"#7201a8\"],[0.3333333333333333,\"#9c179e\"],[0.4444444444444444,\"#bd3786\"],[0.5555555555555556,\"#d8576b\"],[0.6666666666666666,\"#ed7953\"],[0.7777777777777778,\"#fb9f3a\"],[0.8888888888888888,\"#fdca26\"],[1.0,\"#f0f921\"]]}],\"surface\":[{\"type\":\"surface\",\"colorbar\":{\"outlinewidth\":0,\"ticks\":\"\"},\"colorscale\":[[0.0,\"#0d0887\"],[0.1111111111111111,\"#46039f\"],[0.2222222222222222,\"#7201a8\"],[0.3333333333333333,\"#9c179e\"],[0.4444444444444444,\"#bd3786\"],[0.5555555555555556,\"#d8576b\"],[0.6666666666666666,\"#ed7953\"],[0.7777777777777778,\"#fb9f3a\"],[0.8888888888888888,\"#fdca26\"],[1.0,\"#f0f921\"]]}],\"mesh3d\":[{\"type\":\"mesh3d\",\"colorbar\":{\"outlinewidth\":0,\"ticks\":\"\"}}],\"scatter\":[{\"fillpattern\":{\"fillmode\":\"overlay\",\"size\":10,\"solidity\":0.2},\"type\":\"scatter\"}],\"parcoords\":[{\"type\":\"parcoords\",\"line\":{\"colorbar\":{\"outlinewidth\":0,\"ticks\":\"\"}}}],\"scatterpolargl\":[{\"type\":\"scatterpolargl\",\"marker\":{\"colorbar\":{\"outlinewidth\":0,\"ticks\":\"\"}}}],\"bar\":[{\"error_x\":{\"color\":\"#2a3f5f\"},\"error_y\":{\"color\":\"#2a3f5f\"},\"marker\":{\"line\":{\"color\":\"#E5ECF6\",\"width\":0.5},\"pattern\":{\"fillmode\":\"overlay\",\"size\":10,\"solidity\":0.2}},\"type\":\"bar\"}],\"scattergeo\":[{\"type\":\"scattergeo\",\"marker\":{\"colorbar\":{\"outlinewidth\":0,\"ticks\":\"\"}}}],\"scatterpolar\":[{\"type\":\"scatterpolar\",\"marker\":{\"colorbar\":{\"outlinewidth\":0,\"ticks\":\"\"}}}],\"histogram\":[{\"marker\":{\"pattern\":{\"fillmode\":\"overlay\",\"size\":10,\"solidity\":0.2}},\"type\":\"histogram\"}],\"scattergl\":[{\"type\":\"scattergl\",\"marker\":{\"colorbar\":{\"outlinewidth\":0,\"ticks\":\"\"}}}],\"scatter3d\":[{\"type\":\"scatter3d\",\"line\":{\"colorbar\":{\"outlinewidth\":0,\"ticks\":\"\"}},\"marker\":{\"colorbar\":{\"outlinewidth\":0,\"ticks\":\"\"}}}],\"scattermapbox\":[{\"type\":\"scattermapbox\",\"marker\":{\"colorbar\":{\"outlinewidth\":0,\"ticks\":\"\"}}}],\"scatterternary\":[{\"type\":\"scatterternary\",\"marker\":{\"colorbar\":{\"outlinewidth\":0,\"ticks\":\"\"}}}],\"scattercarpet\":[{\"type\":\"scattercarpet\",\"marker\":{\"colorbar\":{\"outlinewidth\":0,\"ticks\":\"\"}}}],\"carpet\":[{\"aaxis\":{\"endlinecolor\":\"#2a3f5f\",\"gridcolor\":\"white\",\"linecolor\":\"white\",\"minorgridcolor\":\"white\",\"startlinecolor\":\"#2a3f5f\"},\"baxis\":{\"endlinecolor\":\"#2a3f5f\",\"gridcolor\":\"white\",\"linecolor\":\"white\",\"minorgridcolor\":\"white\",\"startlinecolor\":\"#2a3f5f\"},\"type\":\"carpet\"}],\"table\":[{\"cells\":{\"fill\":{\"color\":\"#EBF0F8\"},\"line\":{\"color\":\"white\"}},\"header\":{\"fill\":{\"color\":\"#C8D4E3\"},\"line\":{\"color\":\"white\"}},\"type\":\"table\"}],\"barpolar\":[{\"marker\":{\"line\":{\"color\":\"#E5ECF6\",\"width\":0.5},\"pattern\":{\"fillmode\":\"overlay\",\"size\":10,\"solidity\":0.2}},\"type\":\"barpolar\"}],\"pie\":[{\"automargin\":true,\"type\":\"pie\"}]},\"layout\":{\"autotypenumbers\":\"strict\",\"colorway\":[\"#636efa\",\"#EF553B\",\"#00cc96\",\"#ab63fa\",\"#FFA15A\",\"#19d3f3\",\"#FF6692\",\"#B6E880\",\"#FF97FF\",\"#FECB52\"],\"font\":{\"color\":\"#2a3f5f\"},\"hovermode\":\"closest\",\"hoverlabel\":{\"align\":\"left\"},\"paper_bgcolor\":\"white\",\"plot_bgcolor\":\"#E5ECF6\",\"polar\":{\"bgcolor\":\"#E5ECF6\",\"angularaxis\":{\"gridcolor\":\"white\",\"linecolor\":\"white\",\"ticks\":\"\"},\"radialaxis\":{\"gridcolor\":\"white\",\"linecolor\":\"white\",\"ticks\":\"\"}},\"ternary\":{\"bgcolor\":\"#E5ECF6\",\"aaxis\":{\"gridcolor\":\"white\",\"linecolor\":\"white\",\"ticks\":\"\"},\"baxis\":{\"gridcolor\":\"white\",\"linecolor\":\"white\",\"ticks\":\"\"},\"caxis\":{\"gridcolor\":\"white\",\"linecolor\":\"white\",\"ticks\":\"\"}},\"coloraxis\":{\"colorbar\":{\"outlinewidth\":0,\"ticks\":\"\"}},\"colorscale\":{\"sequential\":[[0.0,\"#0d0887\"],[0.1111111111111111,\"#46039f\"],[0.2222222222222222,\"#7201a8\"],[0.3333333333333333,\"#9c179e\"],[0.4444444444444444,\"#bd3786\"],[0.5555555555555556,\"#d8576b\"],[0.6666666666666666,\"#ed7953\"],[0.7777777777777778,\"#fb9f3a\"],[0.8888888888888888,\"#fdca26\"],[1.0,\"#f0f921\"]],\"sequentialminus\":[[0.0,\"#0d0887\"],[0.1111111111111111,\"#46039f\"],[0.2222222222222222,\"#7201a8\"],[0.3333333333333333,\"#9c179e\"],[0.4444444444444444,\"#bd3786\"],[0.5555555555555556,\"#d8576b\"],[0.6666666666666666,\"#ed7953\"],[0.7777777777777778,\"#fb9f3a\"],[0.8888888888888888,\"#fdca26\"],[1.0,\"#f0f921\"]],\"diverging\":[[0,\"#8e0152\"],[0.1,\"#c51b7d\"],[0.2,\"#de77ae\"],[0.3,\"#f1b6da\"],[0.4,\"#fde0ef\"],[0.5,\"#f7f7f7\"],[0.6,\"#e6f5d0\"],[0.7,\"#b8e186\"],[0.8,\"#7fbc41\"],[0.9,\"#4d9221\"],[1,\"#276419\"]]},\"xaxis\":{\"gridcolor\":\"white\",\"linecolor\":\"white\",\"ticks\":\"\",\"title\":{\"standoff\":15},\"zerolinecolor\":\"white\",\"automargin\":true,\"zerolinewidth\":2},\"yaxis\":{\"gridcolor\":\"white\",\"linecolor\":\"white\",\"ticks\":\"\",\"title\":{\"standoff\":15},\"zerolinecolor\":\"white\",\"automargin\":true,\"zerolinewidth\":2},\"scene\":{\"xaxis\":{\"backgroundcolor\":\"#E5ECF6\",\"gridcolor\":\"white\",\"linecolor\":\"white\",\"showbackground\":true,\"ticks\":\"\",\"zerolinecolor\":\"white\",\"gridwidth\":2},\"yaxis\":{\"backgroundcolor\":\"#E5ECF6\",\"gridcolor\":\"white\",\"linecolor\":\"white\",\"showbackground\":true,\"ticks\":\"\",\"zerolinecolor\":\"white\",\"gridwidth\":2},\"zaxis\":{\"backgroundcolor\":\"#E5ECF6\",\"gridcolor\":\"white\",\"linecolor\":\"white\",\"showbackground\":true,\"ticks\":\"\",\"zerolinecolor\":\"white\",\"gridwidth\":2}},\"shapedefaults\":{\"line\":{\"color\":\"#2a3f5f\"}},\"annotationdefaults\":{\"arrowcolor\":\"#2a3f5f\",\"arrowhead\":0,\"arrowwidth\":1},\"geo\":{\"bgcolor\":\"white\",\"landcolor\":\"#E5ECF6\",\"subunitcolor\":\"white\",\"showland\":true,\"showlakes\":true,\"lakecolor\":\"white\"},\"title\":{\"x\":0.05},\"mapbox\":{\"style\":\"light\"}}},\"title\":{\"text\":\"Accuracy of Models\"},\"xaxis\":{\"title\":{\"text\":\"Models\"}},\"yaxis\":{\"title\":{\"text\":\"Accuracy\"}}},                        {\"responsive\": true}                    ).then(function(){\n",
       "                            \n",
       "var gd = document.getElementById('941b2f4a-3ce2-4e5e-a51d-a591efb87130');\n",
       "var x = new MutationObserver(function (mutations, observer) {{\n",
       "        var display = window.getComputedStyle(gd).display;\n",
       "        if (!display || display === 'none') {{\n",
       "            console.log([gd, 'removed!']);\n",
       "            Plotly.purge(gd);\n",
       "            observer.disconnect();\n",
       "        }}\n",
       "}});\n",
       "\n",
       "// Listen for the removal of the full notebook cells\n",
       "var notebookContainer = gd.closest('#notebook-container');\n",
       "if (notebookContainer) {{\n",
       "    x.observe(notebookContainer, {childList: true});\n",
       "}}\n",
       "\n",
       "// Listen for the clearing of the current output cell\n",
       "var outputEl = gd.closest('.output');\n",
       "if (outputEl) {{\n",
       "    x.observe(outputEl, {childList: true});\n",
       "}}\n",
       "\n",
       "                        })                };                });            </script>        </div>"
      ]
     },
     "metadata": {},
     "output_type": "display_data"
    }
   ],
   "source": [
    "x_labels=[va_acc,Lstm_accu,gru_accu,bid_acc]\n",
    "y_labels=[\"Vanilla_RNN\",\"LSTM\",\"GRU\",\"Bidirec-LSTM\"]\n",
    "colors=['red','green','blue']\n",
    "import plotly.graph_objects as go\n",
    "fig = go.Figure(data=[go.Bar(x=y_labels, y=x_labels,marker_color=\"orange\")])\n",
    "fig.update_layout(\n",
    "    title=\"Accuracy of Models\",\n",
    "    xaxis_title=\"Models\",\n",
    "    yaxis_title=\"Accuracy\"\n",
    ")\n",
    "\n",
    "fig.show()"
   ]
  },
  {
   "cell_type": "markdown",
   "id": "0b6cf192",
   "metadata": {},
   "source": [
    "## Conclusion\n",
    "\n",
    "- After applying Data augumentation Model performance increased slightly and acuuracy  increased from 0.61 to 0.65 ,but since we used synonym replacement for data augumentation cannot genrate more data even i tried with 75k data ther results are same .Tried to use pre trained model BERT but computation time is more. So out of all the models LSTM and Bidirectional LSTM is performing better. As there is not much difference in between LSTM and bidirectioanl lstm accuracy wecan use LSTM."
   ]
  },
  {
   "cell_type": "code",
   "execution_count": null,
   "id": "63bc3485",
   "metadata": {},
   "outputs": [],
   "source": []
  },
  {
   "cell_type": "markdown",
   "id": "db5eee0a",
   "metadata": {},
   "source": [
    "## Pretrained model BERT \n",
    "- but as computational time is more unable to run it"
   ]
  },
  {
   "cell_type": "code",
   "execution_count": 495,
   "id": "c7b7be8a",
   "metadata": {},
   "outputs": [
    {
     "data": {
      "text/plain": [
       "'from transformers import BertTokenizer, BertForSequenceClassification\\nimport torch\\n\\nmodel_name = \\'yiyanghkust/finbert-tone\\'\\ntokenizer = BertTokenizer.from_pretrained(model_name)\\nmodel = BertForSequenceClassification.from_pretrained(model_name)\\ndef get_sentiment(text):\\n    inputs = tokenizer(text, return_tensors=\"pt\")\\n    outputs = model(**inputs)\\n    prediction = torch.argmax(outputs.logits, dim=1).item()\\n    return prediction\\n'"
      ]
     },
     "execution_count": 495,
     "metadata": {},
     "output_type": "execute_result"
    }
   ],
   "source": [
    "'''from transformers import BertTokenizer, BertForSequenceClassification\n",
    "import torch\n",
    "\n",
    "model_name = 'yiyanghkust/finbert-tone'\n",
    "tokenizer = BertTokenizer.from_pretrained(model_name)\n",
    "model = BertForSequenceClassification.from_pretrained(model_name)\n",
    "def get_sentiment(text):\n",
    "    inputs = tokenizer(text, return_tensors=\"pt\")\n",
    "    outputs = model(**inputs)\n",
    "    prediction = torch.argmax(outputs.logits, dim=1).item()\n",
    "    return prediction\n",
    "'''\n"
   ]
  },
  {
   "cell_type": "code",
   "execution_count": 494,
   "id": "7e5a1b85",
   "metadata": {},
   "outputs": [
    {
     "data": {
      "text/plain": [
       "'\\ntraining_data,testing_data = train_test_split(data, test_size=0.2, random_state=42)'"
      ]
     },
     "execution_count": 494,
     "metadata": {},
     "output_type": "execute_result"
    }
   ],
   "source": [
    "'''\n",
    "training_data,testing_data = train_test_split(data, test_size=0.2, random_state=42)'''"
   ]
  },
  {
   "cell_type": "code",
   "execution_count": 493,
   "id": "94c70e43",
   "metadata": {},
   "outputs": [
    {
     "data": {
      "text/plain": [
       "\"training_data['predicted_sentiment'] = training_data['Sentence'].apply(get_sentiment)\\ntesting_data['predicted_sentiment'] = testing_data['Sentence'].apply(get_sentiment)\""
      ]
     },
     "execution_count": 493,
     "metadata": {},
     "output_type": "execute_result"
    }
   ],
   "source": [
    "\n",
    "'''training_data['predicted_sentiment'] = training_data['Sentence'].apply(get_sentiment)\n",
    "testing_data['predicted_sentiment'] = testing_data['Sentence'].apply(get_sentiment)'''\n"
   ]
  },
  {
   "cell_type": "code",
   "execution_count": 492,
   "id": "a2b6d880",
   "metadata": {},
   "outputs": [
    {
     "data": {
      "text/plain": [
       "'from sklearn.metrics import accuracy_score\\n\\ntrain_accuracy = accuracy_score(train_df[\\'actual_sentiment\\'], train_df[\\'predicted_sentiment\\'])\\ntest_accuracy = accuracy_score(test_df[\\'actual_sentiment\\'], test_df[\\'predicted_sentiment\\'])\\n\\nprint(f\"Training accuracy: {train_accuracy}\")\\nprint(f\"Test accuracy: {test_accuracy}\")'"
      ]
     },
     "execution_count": 492,
     "metadata": {},
     "output_type": "execute_result"
    }
   ],
   "source": [
    "'''from sklearn.metrics import accuracy_score\n",
    "\n",
    "train_accuracy = accuracy_score(train_df['actual_sentiment'], train_df['predicted_sentiment'])\n",
    "test_accuracy = accuracy_score(test_df['actual_sentiment'], test_df['predicted_sentiment'])\n",
    "\n",
    "print(f\"Training accuracy: {train_accuracy}\")\n",
    "print(f\"Test accuracy: {test_accuracy}\")'''\n"
   ]
  }
 ],
 "metadata": {
  "kernelspec": {
   "display_name": "Python 3 (ipykernel)",
   "language": "python",
   "name": "python3"
  },
  "language_info": {
   "codemirror_mode": {
    "name": "ipython",
    "version": 3
   },
   "file_extension": ".py",
   "mimetype": "text/x-python",
   "name": "python",
   "nbconvert_exporter": "python",
   "pygments_lexer": "ipython3",
   "version": "3.10.9"
  }
 },
 "nbformat": 4,
 "nbformat_minor": 5
}
